{
 "cells": [
  {
   "cell_type": "code",
   "execution_count": 1,
   "metadata": {},
   "outputs": [],
   "source": [
    "%matplotlib inline\n",
    "import prospect"
   ]
  },
  {
   "cell_type": "code",
   "execution_count": 2,
   "metadata": {},
   "outputs": [],
   "source": [
    "\"\"\"\n",
    "Create and modify Layer objects\n",
    "\"\"\"\n",
    "\n",
    "from shapely.geometry import Point\n",
    "import geopandas as gpd\n",
    "import numpy as np\n",
    "from scipy.stats import uniform, poisson, norm\n",
    "from prospect.area import Area\n",
    "\n",
    "class Layer:\n",
    "\n",
    "    def __init__(self, area: Area, name: str, features=None, time_penalty: float = 0.0, ideal_obs_rate: float = 1.0):\n",
    "        self.area_name = area.name\n",
    "        self.bounds = area.df.total_bounds\n",
    "        self.name = name\n",
    "        self.features = features\n",
    "        self.n_features = features.shape[0]\n",
    "        self.time_penalty = time_penalty\n",
    "        self.ideal_obs_rate = ideal_obs_rate\n",
    "\n",
    "        self.df = gpd.GeoDataFrame({'layer_name': [self.name] * self.n_features,\n",
    "                                    'fid': [f'{self.name}_{i}' for i in range(self.n_features)],\n",
    "                                    'time_penalty': [self.time_penalty] * self.n_features,\n",
    "                                    'ideal_obs_rate': [self.ideal_obs_rate] * self.n_features,\n",
    "                                    'geometry': self.features},\n",
    "                                    geometry = 'geometry'\n",
    "                                    )\n",
    "\n",
    "\n",
    "    @classmethod\n",
    "    def from_shapefile(cls, path: str, area: Area, name: str, time_penalty: float = 0.0, ideal_obs_rate: float = 1.0):\n",
    "        tmp_gdf = gpd.read_file(path)\n",
    "        return cls(area, name, tmp_gdf['geometry'], time_penalty, ideal_obs_rate)\n",
    "\n",
    "\n",
    "    @classmethod\n",
    "    def from_pseudorandom_points(cls, n: int, area: Area, name: str, time_penalty: float = 0.0, ideal_obs_rate: float = 1.0):\n",
    "\n",
    "        bounds = area.df.total_bounds\n",
    "        xs = (np.random.random(n) * (bounds[2] - bounds[0])) + bounds[0]\n",
    "        ys = (np.random.random(n) * (bounds[3] - bounds[1])) + bounds[1]\n",
    "        points_gds = gpd.GeoSeries([Point(xy) for xy in zip(xs, ys)])\n",
    "\n",
    "        return cls(area, name, points_gds, time_penalty, ideal_obs_rate)\n",
    "\n",
    "\n",
    "    @classmethod\n",
    "    def from_poisson_points(cls, rate: float, area: Area, name: str, time_penalty: float = 0.0, ideal_obs_rate: float = 1.0):\n",
    "        points = cls.poisson_points(area, rate)\n",
    "        points_gds = gpd.GeoSeries([Point(xy) for xy in points])\n",
    "        \n",
    "        return cls(area, name, points_gds, time_penalty, ideal_obs_rate)\n",
    "\n",
    "\n",
    "    @classmethod\n",
    "    def from_thomas_points(cls, parent_rate: float, child_rate: float, gauss_var: float, area: Area, name: str, time_penalty: float = 0.0, ideal_obs_rate: float = 1.0):\n",
    "        '''\n",
    "        A Poisson( kappa ) number of parents are created,\n",
    "        each forming a Poisson( mu ) numbered cluster of points,\n",
    "        having an isotropic Gaussian distribution with variance `sigma`\n",
    "        '''\n",
    "        parents = cls.poisson_points(area, parent_rate)\n",
    "        M = parents.shape[0]\n",
    "\n",
    "        points = list()    \n",
    "        for i in range(M):\n",
    "            N = poisson(child_rate).rvs()\n",
    "            for __ in range(N):            \n",
    "                pdf = norm(loc=parents[i,:2], scale=(gauss_var,gauss_var))\n",
    "                points.append(list(pdf.rvs(2)))\n",
    "        points = np.array(points)\n",
    "        points_gds = gpd.GeoSeries([Point(xy) for xy in points])\n",
    "\n",
    "        return cls(area, name, points_gds, time_penalty, ideal_obs_rate)\n",
    "\n",
    "\n",
    "    @classmethod\n",
    "    def from_matern_points(cls, parent_rate: float, child_rate: float, radius: float, area: Area, name: str, time_penalty: float = 0.0, ideal_obs_rate: float = 1.0):\n",
    "        parents = cls.poisson_points(area, parent_rate)\n",
    "        M = parents.shape[0]\n",
    "        \n",
    "        points = list()\n",
    "        for i in range(M):\n",
    "            N = poisson(child_rate).rvs()\n",
    "            for __ in range(N):\n",
    "                x, y = cls.uniform_disk(parents[i,0], parents[i,1], radius)\n",
    "                points.append([x, y])\n",
    "        points = np.array(points)\n",
    "        points_gds = gpd.GeoSeries([Point(xy) for xy in points])\n",
    "\n",
    "        return cls(area, name, points_gds, time_penalty, ideal_obs_rate)\n",
    "\n",
    "\n",
    "    @staticmethod\n",
    "    def poisson_points(area: Area, rate: float):\n",
    "\n",
    "        bounds = area.df.total_bounds        \n",
    "        dx = bounds[2] - bounds[0]\n",
    "        dy = bounds[3] - bounds[1]\n",
    "\n",
    "        N = poisson(rate * dx * dy ).rvs()\n",
    "        xs = uniform.rvs(0, dx, ((N,1)))\n",
    "        ys = uniform.rvs(0, dy, ((N,1)))\n",
    "        return np.hstack((xs, ys))\n",
    "\n",
    "\n",
    "    @staticmethod\n",
    "    def uniform_disk(x, y, r):\n",
    "        '''\n",
    "        Returns a uniformly distributed point in a\n",
    "        disk of radius `r` centered at the point (x,y).\n",
    "        '''\n",
    "        r = uniform(0, r**2.0).rvs()\n",
    "        theta = uniform(0, 2*np.pi).rvs()\n",
    "        xt = np.sqrt(r) * np.cos(theta)\n",
    "        yt = np.sqrt(r) * np.sin(theta)\n",
    "        return x+xt, y+yt\n",
    "\n",
    "\n",
    "    @classmethod\n",
    "    def make_polygons(cls):\n",
    "        pass\n"
   ]
  },
  {
   "cell_type": "code",
   "execution_count": 31,
   "metadata": {},
   "outputs": [],
   "source": [
    "a = prospect.Area.from_area_value('area_test', 1)"
   ]
  },
  {
   "cell_type": "code",
   "execution_count": 28,
   "metadata": {},
   "outputs": [
    {
     "data": {
      "text/plain": [
       "<matplotlib.axes._subplots.AxesSubplot at 0x1a26eabbe0>"
      ]
     },
     "execution_count": 28,
     "metadata": {},
     "output_type": "execute_result"
    },
    {
     "data": {
      "image/png": "[encoded data removed]",
      "text/plain": [
       "<Figure size 432x288 with 1 Axes>"
      ]
     },
     "metadata": {
      "needs_background": "light"
     },
     "output_type": "display_data"
    }
   ],
   "source": [
    "a.df.plot()"
   ]
  },
  {
   "cell_type": "code",
   "execution_count": 49,
   "metadata": {},
   "outputs": [
    {
     "data": {
      "image/png": "[encoded data removed]",
      "text/plain": [
       "<Figure size 432x288 with 1 Axes>"
      ]
     },
     "metadata": {
      "needs_background": "light"
     },
     "output_type": "display_data"
    }
   ],
   "source": [
    "pseudo = Layer.from_pseudorandom_points(100, area=a, name='pseudoLayer')\n",
    "pseudo.df.plot();"
   ]
  },
  {
   "cell_type": "code",
   "execution_count": 50,
   "metadata": {},
   "outputs": [
    {
     "data": {
      "image/png": "[encoded data removed]",
      "text/plain": [
       "<Figure size 432x288 with 1 Axes>"
      ]
     },
     "metadata": {
      "needs_background": "light"
     },
     "output_type": "display_data"
    }
   ],
   "source": [
    "pp = Layer.from_poisson_points(100, a, 'poissonLayer')\n",
    "pp.df.plot();"
   ]
  },
  {
   "cell_type": "code",
   "execution_count": 70,
   "metadata": {},
   "outputs": [],
   "source": [
    "import numpy as np\n",
    "n_pts = []\n",
    "for i in range(100000):\n",
    "    pp = Layer.from_poisson_points(5.0, a, 'loop')\n",
    "    n_pts.append(pp.df.shape[0])"
   ]
  },
  {
   "cell_type": "code",
   "execution_count": 71,
   "metadata": {},
   "outputs": [
    {
     "name": "stdout",
     "output_type": "stream",
     "text": [
      "5.00729\n"
     ]
    }
   ],
   "source": [
    "print(np.mean(n_pts))"
   ]
  },
  {
   "cell_type": "code",
   "execution_count": 53,
   "metadata": {},
   "outputs": [
    {
     "data": {
      "image/png": "[encoded data removed]",
      "text/plain": [
       "<Figure size 432x288 with 1 Axes>"
      ]
     },
     "metadata": {
      "needs_background": "light"
     },
     "output_type": "display_data"
    }
   ],
   "source": [
    "thomas = Layer.from_thomas_points(100.0, 5.0, 0.01, area= a, name='thomasLayer')\n",
    "thomas.df.plot();"
   ]
  },
  {
   "cell_type": "code",
   "execution_count": 61,
   "metadata": {},
   "outputs": [
    {
     "data": {
      "image/png": "[encoded data removed]",
      "text/plain": [
       "<Figure size 432x288 with 1 Axes>"
      ]
     },
     "metadata": {
      "needs_background": "light"
     },
     "output_type": "display_data"
    }
   ],
   "source": [
    "matern = Layer.from_matern_points(100.0, 10.0, 0.02, area=a, name='maternLayer')\n",
    "matern.df.plot();"
   ]
  },
  {
   "cell_type": "code",
   "execution_count": null,
   "metadata": {},
   "outputs": [],
   "source": []
  }
 ],
 "metadata": {
  "kernelspec": {
   "display_name": "Python 3",
   "language": "python",
   "name": "python3"
  },
  "language_info": {
   "codemirror_mode": {
    "name": "ipython",
    "version": 3
   },
   "file_extension": ".py",
   "mimetype": "text/x-python",
   "name": "python",
   "nbconvert_exporter": "python",
   "pygments_lexer": "ipython3",
   "version": "3.6.6"
  }
 },
 "nbformat": 4,
 "nbformat_minor": 2
}
