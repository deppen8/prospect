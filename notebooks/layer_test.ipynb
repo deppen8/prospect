{
 "cells": [
  {
   "cell_type": "code",
   "execution_count": 4,
   "metadata": {},
   "outputs": [],
   "source": [
    "%matplotlib inline\n",
    "import surveysim"
   ]
  },
  {
   "cell_type": "code",
   "execution_count": 91,
   "metadata": {},
   "outputs": [],
   "source": [
    "\"\"\"\n",
    "Create and modify Layer objects\n",
    "\"\"\"\n",
    "\n",
    "from typing import Any\n",
    "from shapely.geometry import Point\n",
    "import geopandas as gpd\n",
    "from numpy.random import random\n",
    "from surveysim.area import Area\n",
    "\n",
    "class Layer:\n",
    "    layer_type: str\n",
    "\n",
    "    def __init__(self, area: Area, name: str, features=None, time_penalty: float = 0.0, ideal_obs_rate: float = 1.0):\n",
    "        self.area_name = area.name\n",
    "        self.bounds = area.data.total_bounds\n",
    "        self.name = name\n",
    "        self.features = features\n",
    "        self.n_features = features.shape[0]\n",
    "        self.time_penalty = time_penalty\n",
    "        self.ideal_obs_rate = ideal_obs_rate\n",
    "\n",
    "        self.data = gpd.GeoDataFrame({'layer_name': [self.name] * self.n_features,\n",
    "                                    'fid': [f'{self.name}_{i}' for i in range(self.n_features)],\n",
    "                                    'time_penalty': [self.time_penalty] * self.n_features,\n",
    "                                    'ideal_obs_rate': [self.ideal_obs_rate] * self.n_features,\n",
    "                                    'geometry': self.features},\n",
    "                                    geometry = 'geometry'\n",
    "                                    )\n",
    "\n",
    "    @classmethod\n",
    "    def from_shapefile(cls, path: str, area: Area, name: str, time_penalty: float = 0.0, ideal_obs_rate: float = 1.0):\n",
    "        tmp_gdf = gpd.read_file(path)\n",
    "        return cls(area, name, tmp_gdf['geometry'], time_penalty, ideal_obs_rate)"
   ]
  },
  {
   "cell_type": "code",
   "execution_count": 92,
   "metadata": {},
   "outputs": [],
   "source": [
    "a = surveysim.Area.from_area_value('area_test', 100000)"
   ]
  },
  {
   "cell_type": "code",
   "execution_count": 93,
   "metadata": {},
   "outputs": [
    {
     "data": {
      "text/plain": [
       "<matplotlib.axes._subplots.AxesSubplot at 0x1a22108668>"
      ]
     },
     "execution_count": 93,
     "metadata": {},
     "output_type": "execute_result"
    },
    {
     "data": {
      "image/png": "[encoded data removed]",
      "text/plain": [
       "<Figure size 432x288 with 1 Axes>"
      ]
     },
     "metadata": {
      "needs_background": "light"
     },
     "output_type": "display_data"
    }
   ],
   "source": [
    "a.data.plot()"
   ]
  },
  {
   "cell_type": "code",
   "execution_count": 94,
   "metadata": {},
   "outputs": [
    {
     "ename": "AttributeError",
     "evalue": "'NoneType' object has no attribute 'shape'",
     "output_type": "error",
     "traceback": [
      "\u001b[0;31m---------------------------------------------------------------------------\u001b[0m",
      "\u001b[0;31mAttributeError\u001b[0m                            Traceback (most recent call last)",
      "\u001b[0;32m<ipython-input-94-c1b6dbd95f48>\u001b[0m in \u001b[0;36m<module>\u001b[0;34m\u001b[0m\n\u001b[0;32m----> 1\u001b[0;31m \u001b[0mpoisson_layer\u001b[0m \u001b[0;34m=\u001b[0m \u001b[0mPoissonPointLayer\u001b[0m\u001b[0;34m(\u001b[0m\u001b[0ma\u001b[0m\u001b[0;34m,\u001b[0m \u001b[0mname\u001b[0m\u001b[0;34m=\u001b[0m\u001b[0;34m'testPoisson'\u001b[0m\u001b[0;34m,\u001b[0m \u001b[0mrate\u001b[0m \u001b[0;34m=\u001b[0m \u001b[0;36m0.01\u001b[0m\u001b[0;34m)\u001b[0m\u001b[0;34m\u001b[0m\u001b[0m\n\u001b[0m",
      "\u001b[0;32m<ipython-input-91-fdb9ea3713b0>\u001b[0m in \u001b[0;36m__init__\u001b[0;34m(self, area, name, features, time_penalty, ideal_obs_rate, rate)\u001b[0m\n\u001b[1;32m     50\u001b[0m         \u001b[0;32mfrom\u001b[0m \u001b[0mscipy\u001b[0m\u001b[0;34m.\u001b[0m\u001b[0mstats\u001b[0m \u001b[0;32mimport\u001b[0m \u001b[0mpoisson\u001b[0m\u001b[0;34m,\u001b[0m \u001b[0muniform\u001b[0m\u001b[0;34m\u001b[0m\u001b[0m\n\u001b[1;32m     51\u001b[0m \u001b[0;34m\u001b[0m\u001b[0m\n\u001b[0;32m---> 52\u001b[0;31m         \u001b[0msuper\u001b[0m\u001b[0;34m(\u001b[0m\u001b[0;34m)\u001b[0m\u001b[0;34m.\u001b[0m\u001b[0m__init__\u001b[0m\u001b[0;34m(\u001b[0m\u001b[0marea\u001b[0m\u001b[0;34m,\u001b[0m \u001b[0mname\u001b[0m\u001b[0;34m,\u001b[0m \u001b[0mfeatures\u001b[0m\u001b[0;34m,\u001b[0m \u001b[0mtime_penalty\u001b[0m\u001b[0;34m,\u001b[0m \u001b[0mideal_obs_rate\u001b[0m\u001b[0;34m)\u001b[0m\u001b[0;34m\u001b[0m\u001b[0m\n\u001b[0m\u001b[1;32m     53\u001b[0m \u001b[0;34m\u001b[0m\u001b[0m\n\u001b[1;32m     54\u001b[0m         \u001b[0mdx\u001b[0m \u001b[0;34m=\u001b[0m \u001b[0mself\u001b[0m\u001b[0;34m.\u001b[0m\u001b[0mbounds\u001b[0m\u001b[0;34m[\u001b[0m\u001b[0;36m2\u001b[0m\u001b[0;34m]\u001b[0m \u001b[0;34m-\u001b[0m \u001b[0mself\u001b[0m\u001b[0;34m.\u001b[0m\u001b[0mbounds\u001b[0m\u001b[0;34m[\u001b[0m\u001b[0;36m0\u001b[0m\u001b[0;34m]\u001b[0m\u001b[0;34m\u001b[0m\u001b[0m\n",
      "\u001b[0;32m<ipython-input-91-fdb9ea3713b0>\u001b[0m in \u001b[0;36m__init__\u001b[0;34m(self, area, name, features, time_penalty, ideal_obs_rate)\u001b[0m\n\u001b[1;32m     34\u001b[0m \u001b[0;34m\u001b[0m\u001b[0m\n\u001b[1;32m     35\u001b[0m     \u001b[0;32mdef\u001b[0m \u001b[0m__init__\u001b[0m\u001b[0;34m(\u001b[0m\u001b[0mself\u001b[0m\u001b[0;34m,\u001b[0m \u001b[0marea\u001b[0m\u001b[0;34m:\u001b[0m \u001b[0mArea\u001b[0m\u001b[0;34m,\u001b[0m \u001b[0mname\u001b[0m\u001b[0;34m:\u001b[0m \u001b[0mstr\u001b[0m\u001b[0;34m,\u001b[0m \u001b[0mfeatures\u001b[0m\u001b[0;34m=\u001b[0m\u001b[0;32mNone\u001b[0m\u001b[0;34m,\u001b[0m \u001b[0mtime_penalty\u001b[0m\u001b[0;34m:\u001b[0m \u001b[0mfloat\u001b[0m \u001b[0;34m=\u001b[0m \u001b[0;36m0.0\u001b[0m\u001b[0;34m,\u001b[0m \u001b[0mideal_obs_rate\u001b[0m\u001b[0;34m:\u001b[0m \u001b[0mfloat\u001b[0m \u001b[0;34m=\u001b[0m \u001b[0;36m1.0\u001b[0m\u001b[0;34m)\u001b[0m\u001b[0;34m:\u001b[0m\u001b[0;34m\u001b[0m\u001b[0m\n\u001b[0;32m---> 36\u001b[0;31m         \u001b[0msuper\u001b[0m\u001b[0;34m(\u001b[0m\u001b[0;34m)\u001b[0m\u001b[0;34m.\u001b[0m\u001b[0m__init__\u001b[0m\u001b[0;34m(\u001b[0m\u001b[0marea\u001b[0m\u001b[0;34m,\u001b[0m \u001b[0mname\u001b[0m\u001b[0;34m,\u001b[0m \u001b[0mfeatures\u001b[0m\u001b[0;34m,\u001b[0m \u001b[0mtime_penalty\u001b[0m\u001b[0;34m,\u001b[0m \u001b[0mideal_obs_rate\u001b[0m\u001b[0;34m)\u001b[0m\u001b[0;34m\u001b[0m\u001b[0m\n\u001b[0m\u001b[1;32m     37\u001b[0m \u001b[0;34m\u001b[0m\u001b[0m\n\u001b[1;32m     38\u001b[0m     \u001b[0;34m@\u001b[0m\u001b[0mclassmethod\u001b[0m\u001b[0;34m\u001b[0m\u001b[0m\n",
      "\u001b[0;32m<ipython-input-91-fdb9ea3713b0>\u001b[0m in \u001b[0;36m__init__\u001b[0;34m(self, area, name, features, time_penalty, ideal_obs_rate)\u001b[0m\n\u001b[1;32m     17\u001b[0m         \u001b[0mself\u001b[0m\u001b[0;34m.\u001b[0m\u001b[0mname\u001b[0m \u001b[0;34m=\u001b[0m \u001b[0mname\u001b[0m\u001b[0;34m\u001b[0m\u001b[0m\n\u001b[1;32m     18\u001b[0m         \u001b[0mself\u001b[0m\u001b[0;34m.\u001b[0m\u001b[0mfeatures\u001b[0m \u001b[0;34m=\u001b[0m \u001b[0mfeatures\u001b[0m\u001b[0;34m\u001b[0m\u001b[0m\n\u001b[0;32m---> 19\u001b[0;31m         \u001b[0mself\u001b[0m\u001b[0;34m.\u001b[0m\u001b[0mn_features\u001b[0m \u001b[0;34m=\u001b[0m \u001b[0mfeatures\u001b[0m\u001b[0;34m.\u001b[0m\u001b[0mshape\u001b[0m\u001b[0;34m[\u001b[0m\u001b[0;36m0\u001b[0m\u001b[0;34m]\u001b[0m\u001b[0;34m\u001b[0m\u001b[0m\n\u001b[0m\u001b[1;32m     20\u001b[0m         \u001b[0mself\u001b[0m\u001b[0;34m.\u001b[0m\u001b[0mtime_penalty\u001b[0m \u001b[0;34m=\u001b[0m \u001b[0mtime_penalty\u001b[0m\u001b[0;34m\u001b[0m\u001b[0m\n\u001b[1;32m     21\u001b[0m         \u001b[0mself\u001b[0m\u001b[0;34m.\u001b[0m\u001b[0mideal_obs_rate\u001b[0m \u001b[0;34m=\u001b[0m \u001b[0mideal_obs_rate\u001b[0m\u001b[0;34m\u001b[0m\u001b[0m\n",
      "\u001b[0;31mAttributeError\u001b[0m: 'NoneType' object has no attribute 'shape'"
     ]
    }
   ],
   "source": [
    "poisson_layer = PoissonPointLayer(a, name='testPoisson', rate = 0.01)"
   ]
  },
  {
   "cell_type": "code",
   "execution_count": 83,
   "metadata": {},
   "outputs": [
    {
     "data": {
      "text/plain": [
       "<matplotlib.axes._subplots.AxesSubplot at 0x1a2178f278>"
      ]
     },
     "execution_count": 83,
     "metadata": {},
     "output_type": "execute_result"
    },
    {
     "data": {
      "image/png": "[encoded data removed]",
      "text/plain": [
       "<Figure size 432x288 with 1 Axes>"
      ]
     },
     "metadata": {
      "needs_background": "light"
     },
     "output_type": "display_data"
    }
   ],
   "source": [
    "poisson_layer.data.plot()"
   ]
  },
  {
   "cell_type": "code",
   "execution_count": null,
   "metadata": {},
   "outputs": [],
   "source": [
    "pois"
   ]
  },
  {
   "cell_type": "code",
   "execution_count": 74,
   "metadata": {},
   "outputs": [
    {
     "data": {
      "text/plain": [
       "{'area_name': 'area_test',\n",
       " 'bounds': array([  0.,   0., 100., 100.]),\n",
       " 'name': 'testPoisson',\n",
       " 'time_penalty': 0.0,\n",
       " 'ideal_obs_rate': 1.0,\n",
       " 'data':        layer_name               fid  time_penalty  ideal_obs_rate  \\\n",
       " 0     testPoisson     testPoisson_0           0.0             1.0   \n",
       " 1     testPoisson     testPoisson_1           0.0             1.0   \n",
       " 2     testPoisson     testPoisson_2           0.0             1.0   \n",
       " 3     testPoisson     testPoisson_3           0.0             1.0   \n",
       " 4     testPoisson     testPoisson_4           0.0             1.0   \n",
       " 5     testPoisson     testPoisson_5           0.0             1.0   \n",
       " 6     testPoisson     testPoisson_6           0.0             1.0   \n",
       " 7     testPoisson     testPoisson_7           0.0             1.0   \n",
       " 8     testPoisson     testPoisson_8           0.0             1.0   \n",
       " 9     testPoisson     testPoisson_9           0.0             1.0   \n",
       " 10    testPoisson    testPoisson_10           0.0             1.0   \n",
       " 11    testPoisson    testPoisson_11           0.0             1.0   \n",
       " 12    testPoisson    testPoisson_12           0.0             1.0   \n",
       " 13    testPoisson    testPoisson_13           0.0             1.0   \n",
       " 14    testPoisson    testPoisson_14           0.0             1.0   \n",
       " 15    testPoisson    testPoisson_15           0.0             1.0   \n",
       " 16    testPoisson    testPoisson_16           0.0             1.0   \n",
       " 17    testPoisson    testPoisson_17           0.0             1.0   \n",
       " 18    testPoisson    testPoisson_18           0.0             1.0   \n",
       " 19    testPoisson    testPoisson_19           0.0             1.0   \n",
       " 20    testPoisson    testPoisson_20           0.0             1.0   \n",
       " 21    testPoisson    testPoisson_21           0.0             1.0   \n",
       " 22    testPoisson    testPoisson_22           0.0             1.0   \n",
       " 23    testPoisson    testPoisson_23           0.0             1.0   \n",
       " 24    testPoisson    testPoisson_24           0.0             1.0   \n",
       " 25    testPoisson    testPoisson_25           0.0             1.0   \n",
       " 26    testPoisson    testPoisson_26           0.0             1.0   \n",
       " 27    testPoisson    testPoisson_27           0.0             1.0   \n",
       " 28    testPoisson    testPoisson_28           0.0             1.0   \n",
       " 29    testPoisson    testPoisson_29           0.0             1.0   \n",
       " ...           ...               ...           ...             ...   \n",
       " 2040  testPoisson  testPoisson_2040           0.0             1.0   \n",
       " 2041  testPoisson  testPoisson_2041           0.0             1.0   \n",
       " 2042  testPoisson  testPoisson_2042           0.0             1.0   \n",
       " 2043  testPoisson  testPoisson_2043           0.0             1.0   \n",
       " 2044  testPoisson  testPoisson_2044           0.0             1.0   \n",
       " 2045  testPoisson  testPoisson_2045           0.0             1.0   \n",
       " 2046  testPoisson  testPoisson_2046           0.0             1.0   \n",
       " 2047  testPoisson  testPoisson_2047           0.0             1.0   \n",
       " 2048  testPoisson  testPoisson_2048           0.0             1.0   \n",
       " 2049  testPoisson  testPoisson_2049           0.0             1.0   \n",
       " 2050  testPoisson  testPoisson_2050           0.0             1.0   \n",
       " 2051  testPoisson  testPoisson_2051           0.0             1.0   \n",
       " 2052  testPoisson  testPoisson_2052           0.0             1.0   \n",
       " 2053  testPoisson  testPoisson_2053           0.0             1.0   \n",
       " 2054  testPoisson  testPoisson_2054           0.0             1.0   \n",
       " 2055  testPoisson  testPoisson_2055           0.0             1.0   \n",
       " 2056  testPoisson  testPoisson_2056           0.0             1.0   \n",
       " 2057  testPoisson  testPoisson_2057           0.0             1.0   \n",
       " 2058  testPoisson  testPoisson_2058           0.0             1.0   \n",
       " 2059  testPoisson  testPoisson_2059           0.0             1.0   \n",
       " 2060  testPoisson  testPoisson_2060           0.0             1.0   \n",
       " 2061  testPoisson  testPoisson_2061           0.0             1.0   \n",
       " 2062  testPoisson  testPoisson_2062           0.0             1.0   \n",
       " 2063  testPoisson  testPoisson_2063           0.0             1.0   \n",
       " 2064  testPoisson  testPoisson_2064           0.0             1.0   \n",
       " 2065  testPoisson  testPoisson_2065           0.0             1.0   \n",
       " 2066  testPoisson  testPoisson_2066           0.0             1.0   \n",
       " 2067  testPoisson  testPoisson_2067           0.0             1.0   \n",
       " 2068  testPoisson  testPoisson_2068           0.0             1.0   \n",
       " 2069  testPoisson  testPoisson_2069           0.0             1.0   \n",
       " \n",
       "                                          geometry  \n",
       " 0     POINT (54.35866532206111 84.06834519882949)  \n",
       " 1     POINT (53.55239242777683 99.92310416029517)  \n",
       " 2     POINT (10.03165809479725 25.86556883041013)  \n",
       " 3     POINT (45.73263828375693 77.95136356571663)  \n",
       " 4     POINT (0.996228472759253 37.63429987945225)  \n",
       " 5     POINT (1.006781235357013 64.77137836308123)  \n",
       " 6     POINT (12.90236454948425 24.21860702053016)  \n",
       " 7     POINT (51.28815675852436 18.45351819293308)  \n",
       " 8     POINT (70.94804745800718 42.41474220700723)  \n",
       " 9     POINT (72.55592621729036 20.51564818709336)  \n",
       " 10    POINT (50.72136475751805 32.37958997824598)  \n",
       " 11    POINT (39.62852749034229 15.79535160883017)  \n",
       " 12    POINT (67.59930350137148 12.42442700279625)  \n",
       " 13    POINT (79.54347960447834 65.80839700198432)  \n",
       " 14     POINT (65.23125408566975 89.3104887299306)  \n",
       " 15    POINT (60.03297594904148 69.51600059069739)  \n",
       " 16     POINT (16.54066689444388 17.9877754375084)  \n",
       " 17    POINT (21.69003944571822 75.57729227569428)  \n",
       " 18    POINT (20.62486851787814 38.49914582225936)  \n",
       " 19    POINT (45.28808656600503 97.66118396012295)  \n",
       " 20    POINT (32.71871667071562 50.80439847428118)  \n",
       " 21      POINT (55.77037599550658 77.215028025495)  \n",
       " 22    POINT (55.57352957668117 45.13255070824393)  \n",
       " 23    POINT (77.05027493099989 57.94083160977186)  \n",
       " 24     POINT (95.9925455129117 68.65804025034933)  \n",
       " 25    POINT (98.44852193378973 18.44388627547995)  \n",
       " 26    POINT (86.14888681251809 8.105035354553102)  \n",
       " 27    POINT (52.77402100982551 38.20526614457789)  \n",
       " 28    POINT (2.047504715946424 93.58653333889552)  \n",
       " 29    POINT (23.84713340695125 53.80029855702636)  \n",
       " ...                                           ...  \n",
       " 2040  POINT (7.138712597846785 44.35876729204112)  \n",
       " 2041  POINT (54.74198970773919 68.80562444134229)  \n",
       " 2042  POINT (95.37019778231407 58.23431840142243)  \n",
       " 2043   POINT (97.1439574308492 5.219766954049865)  \n",
       " 2044  POINT (78.32969903906003 38.91515425999765)  \n",
       " 2045  POINT (28.89930894034153 40.11070448537472)  \n",
       " 2046   POINT (62.4034044010313 8.486738373430214)  \n",
       " 2047   POINT (94.84342235519178 27.4318181551742)  \n",
       " 2048  POINT (16.70949445793048 1.651877514817301)  \n",
       " 2049  POINT (54.54906454224722 50.06966746141709)  \n",
       " 2050   POINT (30.52077828383878 86.5993527818685)  \n",
       " 2051   POINT (37.7896632915907 17.31153604926823)  \n",
       " 2052  POINT (94.96170161117251 17.52306076656935)  \n",
       " 2053  POINT (9.399980940972352 91.64555748225662)  \n",
       " 2054  POINT (85.64696061511043 46.62583595731856)  \n",
       " 2055  POINT (69.57715686146824 71.34005423183049)  \n",
       " 2056  POINT (32.94019477934901 35.21607026756451)  \n",
       " 2057  POINT (74.65123888927714 94.85585917957738)  \n",
       " 2058  POINT (55.52887242681819 77.59228439711681)  \n",
       " 2059  POINT (78.92200335072192 92.63845531436621)  \n",
       " 2060  POINT (53.68353987965659 4.612265113766655)  \n",
       " 2061  POINT (24.56882634797478 2.583461159696032)  \n",
       " 2062  POINT (91.28924159386933 58.35040424557004)  \n",
       " 2063  POINT (36.35739936644477 32.51038331266199)  \n",
       " 2064  POINT (49.06750594096915 70.85302727358321)  \n",
       " 2065  POINT (88.55021519774327 84.08200092468044)  \n",
       " 2066  POINT (21.58257378486406 4.346050038369221)  \n",
       " 2067  POINT (14.93898821382826 55.07832451990912)  \n",
       " 2068  POINT (54.46323592721156 40.05180778604664)  \n",
       " 2069  POINT (86.50867447469824 7.356080551374822)  \n",
       " \n",
       " [2070 rows x 5 columns]}"
      ]
     },
     "execution_count": 74,
     "metadata": {},
     "output_type": "execute_result"
    }
   ],
   "source": [
    "poisson_layer.__dict__"
   ]
  },
  {
   "cell_type": "code",
   "execution_count": null,
   "metadata": {},
   "outputs": [],
   "source": []
  }
 ],
 "metadata": {
  "kernelspec": {
   "display_name": "Python 3",
   "language": "python",
   "name": "python3"
  },
  "language_info": {
   "codemirror_mode": {
    "name": "ipython",
    "version": 3
   },
   "file_extension": ".py",
   "mimetype": "text/x-python",
   "name": "python",
   "nbconvert_exporter": "python",
   "pygments_lexer": "ipython3",
   "version": "3.6.6"
  }
 },
 "nbformat": 4,
 "nbformat_minor": 2
}
