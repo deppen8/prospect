{
 "metadata": {
  "language_info": {
   "codemirror_mode": {
    "name": "ipython",
    "version": 3
   },
   "file_extension": ".py",
   "mimetype": "text/x-python",
   "name": "python",
   "nbconvert_exporter": "python",
   "pygments_lexer": "ipython3",
   "version": "3.7.9-final"
  },
  "orig_nbformat": 2,
  "kernelspec": {
   "name": "python3",
   "display_name": "Python 3",
   "language": "python"
  }
 },
 "nbformat": 4,
 "nbformat_minor": 2,
 "cells": [
  {
   "cell_type": "code",
   "execution_count": 1,
   "metadata": {},
   "outputs": [],
   "source": [
    "import prospect\n",
    "\n",
    "from shapely.geometry import Polygon"
   ]
  },
  {
   "cell_type": "code",
   "execution_count": null,
   "metadata": {},
   "outputs": [],
   "source": [
    "area_shape = Polygon([(-1000.0, -500.0), (1000.0, -500.0), (1000.0, 500.0), (-1000.0, 500.0)])\n",
    "a_rectangular_area = prospect.Area(name=\"test_area\", shape=area_shape)\n",
    "coverage = prospect.Coverage.from_transects(\n",
    "        name=\"test_Coverage_from_transects\",\n",
    "        area=a_rectangular_area,\n",
    "        optimize_orient_by=\"area_orient\",\n",
    "        orient_axis=\"short\"\n",
    "    )"
   ]
  },
  {
   "cell_type": "code",
   "execution_count": null,
   "metadata": {},
   "outputs": [],
   "source": [
    "area.df.plot()\n",
    "coverage.df.plot()"
   ]
  },
  {
   "cell_type": "code",
   "execution_count": null,
   "metadata": {},
   "outputs": [],
   "source": [
    "print(coverage.orientation,\n",
    "coverage.spacing,\n",
    "coverage.sweep_width,\n",
    "coverage.radius,\n",
    "coverage.df.shape)"
   ]
  },
  {
   "cell_type": "code",
   "execution_count": null,
   "metadata": {},
   "outputs": [],
   "source": [
    "coverage.radius"
   ]
  },
  {
   "cell_type": "code",
   "execution_count": null,
   "metadata": {},
   "outputs": [],
   "source": []
  }
 ]
}