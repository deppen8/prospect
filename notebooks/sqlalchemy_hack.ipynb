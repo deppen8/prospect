{
 "cells": [
  {
   "cell_type": "code",
   "execution_count": 1,
   "metadata": {},
   "outputs": [
    {
     "data": {
      "text/plain": [
       "'1.3.0'"
      ]
     },
     "execution_count": 1,
     "metadata": {},
     "output_type": "execute_result"
    }
   ],
   "source": [
    "import sqlalchemy\n",
    "sqlalchemy.__version__"
   ]
  },
  {
   "cell_type": "code",
   "execution_count": 2,
   "metadata": {},
   "outputs": [],
   "source": [
    "from sqlalchemy import (create_engine, \n",
    "                        Column, \n",
    "                        Integer, String, Float, PickleType, ForeignKey)\n",
    "from sqlalchemy.ext.declarative import declarative_base\n",
    "from sqlalchemy.orm import relationship, sessionmaker"
   ]
  },
  {
   "cell_type": "code",
   "execution_count": 3,
   "metadata": {},
   "outputs": [],
   "source": [
    "import numpy as np"
   ]
  },
  {
   "cell_type": "code",
   "execution_count": 4,
   "metadata": {},
   "outputs": [],
   "source": [
    "from shapely.geometry import Point, Polygon"
   ]
  },
  {
   "cell_type": "code",
   "execution_count": 5,
   "metadata": {},
   "outputs": [],
   "source": [
    "Base = declarative_base()"
   ]
  },
  {
   "cell_type": "code",
   "execution_count": 6,
   "metadata": {},
   "outputs": [],
   "source": [
    "class Survey(Base):\n",
    "    __tablename__ = 'surveys'\n",
    "    \n",
    "    id = Column(Integer, primary_key=True)\n",
    "    name = Column('name', String(50), unique=True)\n",
    "    \n",
    "    # relationships\n",
    "    area = relationship(\"Area\", uselist=False, back_populates='survey')\n",
    "    assemblage = relationship(\"Assemblage\", uselist=False, back_populates='survey')\n",
    "    coverage = relationship(\"Coverage\", uselist=False, back_populates='survey')\n",
    "    team = relationship(\"Team\", uselist=False, back_populates='survey')"
   ]
  },
  {
   "cell_type": "code",
   "execution_count": 7,
   "metadata": {},
   "outputs": [],
   "source": [
    "class Area(Base):\n",
    "    __tablename__ = 'areas'\n",
    "    \n",
    "    id = Column(Integer, primary_key = True)\n",
    "    name = Column('name', String(50), unique=True)\n",
    "    vis = Column('vis', PickleType)\n",
    "    shape = Column('shape', PickleType)\n",
    "    \n",
    "    # relationships\n",
    "    survey_name = Column('survey_name', String(50), ForeignKey('surveys.id'))\n",
    "    survey = relationship(\"Survey\", back_populates='area')\n",
    "    \n",
    "    assemblages = relationship(\"Assemblage\", back_populates='area')\n",
    "#     layers = relationship(\"Layer\", back_populates='area')\n",
    "    coverage = relationship(\"Coverage\", back_populates='area')"
   ]
  },
  {
   "cell_type": "code",
   "execution_count": 8,
   "metadata": {},
   "outputs": [],
   "source": [
    "class Assemblage(Base):\n",
    "    __tablename__ = 'assemblages'\n",
    "    \n",
    "    id = Column(Integer, primary_key = True)\n",
    "    name = Column('name', String(50), unique=True)\n",
    "    \n",
    "    # relationships\n",
    "    survey_name = Column('survey_name', String(50), ForeignKey('surveys.name'))\n",
    "    survey = relationship(\"Survey\", back_populates='assemblage')\n",
    "    \n",
    "    area_name = Column('area_name', String(50), ForeignKey('areas.name'))\n",
    "    area = relationship(\"Area\", back_populates='assemblages')\n",
    "    \n",
    "    layers = relationship(\"Layer\", back_populates='assemblage')\n",
    "    \n",
    "    features = relationship(\"Feature\", back_populates='assemblage')"
   ]
  },
  {
   "cell_type": "code",
   "execution_count": 9,
   "metadata": {},
   "outputs": [],
   "source": [
    "class Layer(Base):\n",
    "    __tablename__ = 'layers'\n",
    "    \n",
    "    id = Column(Integer, primary_key=True)\n",
    "    name = Column('name', String(50), unique=True)\n",
    "    feature_type = Column('feature_type', String(25))\n",
    "    \n",
    "    # relationships\n",
    "#     area_name = Column('area_name', String(50), ForeignKey('areas.name'))\n",
    "#     area = relationship(\"Area\", back_populates='layers')\n",
    "    \n",
    "    assemblage_name = Column('assemblage_name', String(50), ForeignKey('assemblages.name'))\n",
    "    assemblage = relationship(\"Assemblage\", back_populates='layers')\n",
    "    \n",
    "    features = relationship(\"Feature\", back_populates='layer')"
   ]
  },
  {
   "cell_type": "code",
   "execution_count": 10,
   "metadata": {},
   "outputs": [],
   "source": [
    "class Feature(Base):\n",
    "    __tablename__ = 'features'\n",
    "    \n",
    "    id = Column(Integer, primary_key=True)\n",
    "    name = Column('name', String(50), unique=True)\n",
    "    shape = Column('shape', PickleType)\n",
    "    time_penalty = Column('time_penalty', PickleType)\n",
    "    ideal_obs_rate = Column('ideal_obs_rate', PickleType)\n",
    "    \n",
    "    # relationships\n",
    "    assemblage_name = Column('assemblage_name', String(50), ForeignKey('assemblages.name'))\n",
    "    assemblage = relationship('Assemblage', back_populates='features')\n",
    "    \n",
    "    layer_name = Column('layer_name', String(50), ForeignKey('layers.name'))\n",
    "    layer = relationship('Layer', back_populates='features')"
   ]
  },
  {
   "cell_type": "code",
   "execution_count": 11,
   "metadata": {},
   "outputs": [],
   "source": [
    "class Coverage(Base):\n",
    "    __tablename__ = 'coverages'\n",
    "\n",
    "    id = Column(Integer, primary_key=True)\n",
    "    name = Column('name', String(50), unique=True)    \n",
    "    survey_unit_type = Column('survey_unit_type', String(50))\n",
    "    orientation = Column('orientation', Float)\n",
    "    spacing = Column('spacing', Float)\n",
    "    sweep_width = Column('sweep_width', Float, default=None)\n",
    "    radius = Column('radius', Float, default=None)\n",
    "    \n",
    "    # relationships\n",
    "    survey_name = Column('survey_name', String(50), ForeignKey('surveys.name'))\n",
    "    survey = relationship(\"Survey\", back_populates='coverage')\n",
    "    \n",
    "    area_name = Column('area_name', String(50), ForeignKey('areas.name'))\n",
    "    area = relationship(\"Area\", back_populates='coverage')\n",
    "\n",
    "    surveyunit = relationship('SurveyUnit', back_populates='coverage')"
   ]
  },
  {
   "cell_type": "code",
   "execution_count": 12,
   "metadata": {},
   "outputs": [],
   "source": [
    "class SurveyUnit(Base):\n",
    "    __tablename__ = 'surveyunits'\n",
    "    \n",
    "    id = Column(Integer, primary_key=True)\n",
    "    name = Column('name', String(50), unique=True)\n",
    "    min_time_per_unit = Column('min_time_per_unit', Float)\n",
    "    shape = Column('shape', PickleType)\n",
    "    \n",
    "    # relationships\n",
    "    coverage_name = Column('coverage_name', String(50), ForeignKey('coverages.name'))\n",
    "    coverage = relationship('Coverage', back_populates='surveyunit')"
   ]
  },
  {
   "cell_type": "code",
   "execution_count": 13,
   "metadata": {},
   "outputs": [],
   "source": [
    "class Team(Base):\n",
    "    __tablename__ = 'teams'\n",
    "    \n",
    "    id = Column(Integer, primary_key=True)\n",
    "    name = Column('name', String(50), unique=True)\n",
    "    \n",
    "    # relationships\n",
    "    survey_name = Column('survey_name', String(50), ForeignKey('surveys.name'))\n",
    "    survey = relationship(\"Survey\", back_populates='team')\n",
    "\n",
    "    surveyors = relationship(\"Surveyor\", back_populates='team')"
   ]
  },
  {
   "cell_type": "code",
   "execution_count": 14,
   "metadata": {},
   "outputs": [],
   "source": [
    "class Surveyor(Base):\n",
    "    __tablename__ = 'surveyors'\n",
    "    \n",
    "    id = Column(Integer, primary_key=True)\n",
    "    name = Column('name', String(50), unique=True)    \n",
    "    surveyor_type = Column('surveyor_type', String(50))\n",
    "    skill = Column('skill', PickleType)\n",
    "    speed_penalty = Column('speed_penalty', PickleType)\n",
    "\n",
    "    # relationships\n",
    "    team_name = Column('team_name', String(50), ForeignKey('teams.name'))\n",
    "    team = relationship(\"Team\", back_populates='surveyors')\n"
   ]
  },
  {
   "cell_type": "code",
   "execution_count": null,
   "metadata": {},
   "outputs": [],
   "source": []
  },
  {
   "cell_type": "code",
   "execution_count": 15,
   "metadata": {},
   "outputs": [],
   "source": [
    "engine = create_engine('sqlite:///sqlalchemy_test.db')\n",
    "\n",
    "# THIS IS VERY IMPORTANT FOR SQLALCHEMY\n",
    "Base.metadata.create_all(engine)"
   ]
  },
  {
   "cell_type": "code",
   "execution_count": 19,
   "metadata": {},
   "outputs": [],
   "source": [
    "survey_test = Survey(name='survey_test')\n",
    "area_test = Area(name='area_test', \n",
    "                 vis=np.ndarray(50), \n",
    "                 shape=np.random.rand(50), survey_name='survey_test')"
   ]
  },
  {
   "cell_type": "code",
   "execution_count": 20,
   "metadata": {},
   "outputs": [],
   "source": [
    "Session = sessionmaker(bind=engine)\n",
    "session = Session()"
   ]
  },
  {
   "cell_type": "code",
   "execution_count": 21,
   "metadata": {},
   "outputs": [],
   "source": [
    "session.add(survey_test)\n",
    "session.add(area_test)\n",
    "session.commit()"
   ]
  },
  {
   "cell_type": "code",
   "execution_count": 22,
   "metadata": {},
   "outputs": [
    {
     "data": {
      "text/plain": [
       "<__main__.Survey at 0x1049a4a58>"
      ]
     },
     "execution_count": 22,
     "metadata": {},
     "output_type": "execute_result"
    }
   ],
   "source": [
    "session.query(Survey).filter_by(name='survey_test').first()"
   ]
  },
  {
   "cell_type": "code",
   "execution_count": 1,
   "metadata": {},
   "outputs": [],
   "source": [
    "import numpy as np"
   ]
  },
  {
   "cell_type": "code",
   "execution_count": 4,
   "metadata": {},
   "outputs": [
    {
     "data": {
      "text/plain": [
       "numpy.ndarray"
      ]
     },
     "execution_count": 4,
     "metadata": {},
     "output_type": "execute_result"
    }
   ],
   "source": [
    "type(np.array([1.0]))"
   ]
  },
  {
   "cell_type": "code",
   "execution_count": 15,
   "metadata": {},
   "outputs": [],
   "source": [
    "import pandas as pd\n",
    "\n",
    "class Child():\n",
    "    def __init__(self, name, text):\n",
    "        self.name = name\n",
    "        self.text = text\n",
    "    \n",
    "    def to_dict(self):\n",
    "        return {\n",
    "            'name': self.name,\n",
    "            'text': self.text\n",
    "        }\n",
    "\n",
    "class Parent():\n",
    "    def __init__(self, child_list):\n",
    "        self.child_list = child_list\n",
    "        \n",
    "        self.df = pd.DataFrame([k.to_dict() for k in self.child_list])"
   ]
  },
  {
   "cell_type": "code",
   "execution_count": 16,
   "metadata": {},
   "outputs": [],
   "source": [
    "kids = [Child(f'child_{i}', f'text_{i}') for i in range(5)]"
   ]
  },
  {
   "cell_type": "code",
   "execution_count": 17,
   "metadata": {},
   "outputs": [
    {
     "data": {
      "text/plain": [
       "[<__main__.Child at 0x10f260f28>,\n",
       " <__main__.Child at 0x10b143da0>,\n",
       " <__main__.Child at 0x10b1435c0>,\n",
       " <__main__.Child at 0x1035e0240>,\n",
       " <__main__.Child at 0x10f26a0b8>]"
      ]
     },
     "execution_count": 17,
     "metadata": {},
     "output_type": "execute_result"
    }
   ],
   "source": [
    "kids"
   ]
  },
  {
   "cell_type": "code",
   "execution_count": 18,
   "metadata": {},
   "outputs": [],
   "source": [
    "p = Parent(kids)"
   ]
  },
  {
   "cell_type": "code",
   "execution_count": 19,
   "metadata": {},
   "outputs": [
    {
     "data": {
      "text/html": [
       "<div>\n",
       "<style scoped>\n",
       "    .dataframe tbody tr th:only-of-type {\n",
       "        vertical-align: middle;\n",
       "    }\n",
       "\n",
       "    .dataframe tbody tr th {\n",
       "        vertical-align: top;\n",
       "    }\n",
       "\n",
       "    .dataframe thead th {\n",
       "        text-align: right;\n",
       "    }\n",
       "</style>\n",
       "<table border=\"1\" class=\"dataframe\">\n",
       "  <thead>\n",
       "    <tr style=\"text-align: right;\">\n",
       "      <th></th>\n",
       "      <th>name</th>\n",
       "      <th>text</th>\n",
       "    </tr>\n",
       "  </thead>\n",
       "  <tbody>\n",
       "    <tr>\n",
       "      <th>0</th>\n",
       "      <td>child_0</td>\n",
       "      <td>text_0</td>\n",
       "    </tr>\n",
       "    <tr>\n",
       "      <th>1</th>\n",
       "      <td>child_1</td>\n",
       "      <td>text_1</td>\n",
       "    </tr>\n",
       "    <tr>\n",
       "      <th>2</th>\n",
       "      <td>child_2</td>\n",
       "      <td>text_2</td>\n",
       "    </tr>\n",
       "    <tr>\n",
       "      <th>3</th>\n",
       "      <td>child_3</td>\n",
       "      <td>text_3</td>\n",
       "    </tr>\n",
       "    <tr>\n",
       "      <th>4</th>\n",
       "      <td>child_4</td>\n",
       "      <td>text_4</td>\n",
       "    </tr>\n",
       "  </tbody>\n",
       "</table>\n",
       "</div>"
      ],
      "text/plain": [
       "      name    text\n",
       "0  child_0  text_0\n",
       "1  child_1  text_1\n",
       "2  child_2  text_2\n",
       "3  child_3  text_3\n",
       "4  child_4  text_4"
      ]
     },
     "execution_count": 19,
     "metadata": {},
     "output_type": "execute_result"
    }
   ],
   "source": [
    "p.df"
   ]
  },
  {
   "cell_type": "code",
   "execution_count": 23,
   "metadata": {},
   "outputs": [
    {
     "data": {
      "text/html": [
       "<div>\n",
       "<style scoped>\n",
       "    .dataframe tbody tr th:only-of-type {\n",
       "        vertical-align: middle;\n",
       "    }\n",
       "\n",
       "    .dataframe tbody tr th {\n",
       "        vertical-align: top;\n",
       "    }\n",
       "\n",
       "    .dataframe thead th {\n",
       "        text-align: right;\n",
       "    }\n",
       "</style>\n",
       "<table border=\"1\" class=\"dataframe\">\n",
       "  <thead>\n",
       "    <tr style=\"text-align: right;\">\n",
       "      <th></th>\n",
       "      <th>pop_est</th>\n",
       "      <th>continent</th>\n",
       "      <th>name</th>\n",
       "      <th>iso_a3</th>\n",
       "      <th>gdp_md_est</th>\n",
       "      <th>geometry</th>\n",
       "    </tr>\n",
       "  </thead>\n",
       "  <tbody>\n",
       "    <tr>\n",
       "      <th>0</th>\n",
       "      <td>28400000.0</td>\n",
       "      <td>Asia</td>\n",
       "      <td>Afghanistan</td>\n",
       "      <td>AFG</td>\n",
       "      <td>22270.0</td>\n",
       "      <td>POLYGON ((61.21081709172574 35.65007233330923,...</td>\n",
       "    </tr>\n",
       "    <tr>\n",
       "      <th>1</th>\n",
       "      <td>12799293.0</td>\n",
       "      <td>Africa</td>\n",
       "      <td>Angola</td>\n",
       "      <td>AGO</td>\n",
       "      <td>110300.0</td>\n",
       "      <td>(POLYGON ((16.32652835456705 -5.87747039146621...</td>\n",
       "    </tr>\n",
       "    <tr>\n",
       "      <th>2</th>\n",
       "      <td>3639453.0</td>\n",
       "      <td>Europe</td>\n",
       "      <td>Albania</td>\n",
       "      <td>ALB</td>\n",
       "      <td>21810.0</td>\n",
       "      <td>POLYGON ((20.59024743010491 41.85540416113361,...</td>\n",
       "    </tr>\n",
       "    <tr>\n",
       "      <th>3</th>\n",
       "      <td>4798491.0</td>\n",
       "      <td>Asia</td>\n",
       "      <td>United Arab Emirates</td>\n",
       "      <td>ARE</td>\n",
       "      <td>184300.0</td>\n",
       "      <td>POLYGON ((51.57951867046327 24.24549713795111,...</td>\n",
       "    </tr>\n",
       "    <tr>\n",
       "      <th>4</th>\n",
       "      <td>40913584.0</td>\n",
       "      <td>South America</td>\n",
       "      <td>Argentina</td>\n",
       "      <td>ARG</td>\n",
       "      <td>573900.0</td>\n",
       "      <td>(POLYGON ((-65.50000000000003 -55.199999999999...</td>\n",
       "    </tr>\n",
       "  </tbody>\n",
       "</table>\n",
       "</div>"
      ],
      "text/plain": [
       "      pop_est      continent                  name iso_a3  gdp_md_est  \\\n",
       "0  28400000.0           Asia           Afghanistan    AFG     22270.0   \n",
       "1  12799293.0         Africa                Angola    AGO    110300.0   \n",
       "2   3639453.0         Europe               Albania    ALB     21810.0   \n",
       "3   4798491.0           Asia  United Arab Emirates    ARE    184300.0   \n",
       "4  40913584.0  South America             Argentina    ARG    573900.0   \n",
       "\n",
       "                                            geometry  \n",
       "0  POLYGON ((61.21081709172574 35.65007233330923,...  \n",
       "1  (POLYGON ((16.32652835456705 -5.87747039146621...  \n",
       "2  POLYGON ((20.59024743010491 41.85540416113361,...  \n",
       "3  POLYGON ((51.57951867046327 24.24549713795111,...  \n",
       "4  (POLYGON ((-65.50000000000003 -55.199999999999...  "
      ]
     },
     "execution_count": 23,
     "metadata": {},
     "output_type": "execute_result"
    }
   ],
   "source": [
    "import geopandas as gpd\n",
    "\n",
    "world = gpd.read_file(gpd.datasets.get_path('naturalearth_lowres'))\n",
    "\n",
    "world.head()"
   ]
  },
  {
   "cell_type": "code",
   "execution_count": null,
   "metadata": {},
   "outputs": [],
   "source": [
    "shape = "
   ]
  }
 ],
 "metadata": {
  "kernelspec": {
   "display_name": "Python 3",
   "language": "python",
   "name": "python3"
  },
  "language_info": {
   "codemirror_mode": {
    "name": "ipython",
    "version": 3
   },
   "file_extension": ".py",
   "mimetype": "text/x-python",
   "name": "python",
   "nbconvert_exporter": "python",
   "pygments_lexer": "ipython3",
   "version": "3.6.7"
  }
 },
 "nbformat": 4,
 "nbformat_minor": 2
}
