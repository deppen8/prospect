{
 "cells": [
  {
   "cell_type": "code",
   "execution_count": null,
   "metadata": {},
   "outputs": [],
   "source": [
    "from prospect.area import Area\n",
    "from prospect.coverage import Coverage\n",
    "%matplotlib inline\n",
    "import numpy as np\n",
    "import pandas as pd\n",
    "import geopandas as gpd"
   ]
  },
  {
   "cell_type": "code",
   "execution_count": null,
   "metadata": {},
   "outputs": [],
   "source": [
    "shp = gpd.GeoDataFrame.from_file(filename='../data/area_test/Survey_Fields_Master.shp')\n",
    "areas = []\n",
    "for i in range(0, 20):\n",
    "    temp_area = Area.from_shapely_polygon(name=f'{shp.MASA[i]}{shp.PARCELA[i]}{shp.SUBPARCE[i]}', polygon=shp.geometry[i])\n",
    "    areas.append(temp_area)"
   ]
  },
  {
   "cell_type": "code",
   "execution_count": null,
   "metadata": {},
   "outputs": [],
   "source": [
    "for area in areas:\n",
    "    opt_or_long = Coverage.make_transects(area, \n",
    "                                        name='test_transects', \n",
    "                                        spacing = 10, \n",
    "                                        sweep_width=2, \n",
    "                                        orientation=40, \n",
    "                                        optimize_orient_by='area_orient', \n",
    "                                        orient_axis='long', \n",
    "                                        min_time_per_unit=1)\n",
    "    opt_or_long.df.plot(ax=area.df.plot(), color='yellow')"
   ]
  },
  {
   "cell_type": "code",
   "execution_count": null,
   "metadata": {},
   "outputs": [],
   "source": [
    "for area in areas:\n",
    "    opt_or_short = Coverage.make_transects(area, \n",
    "                                        name='test_transects', \n",
    "                                        spacing = 10, \n",
    "                                        sweep_width=2, \n",
    "                                        orientation=40, \n",
    "                                        optimize_orient_by='area_orient', \n",
    "                                        orient_axis='short', \n",
    "                                        min_time_per_unit=1)\n",
    "    opt_or_short.df.plot(ax=area.df.plot(), color='yellow');"
   ]
  },
  {
   "cell_type": "code",
   "execution_count": null,
   "metadata": {},
   "outputs": [],
   "source": []
  },
  {
   "cell_type": "code",
   "execution_count": null,
   "metadata": {},
   "outputs": [],
   "source": [
    "for area in areas:\n",
    "    opt_or_long_radials = Coverage.make_radials(area,\n",
    "                                    name='test_radials',\n",
    "                                    spacing=10,\n",
    "                                    radius=2,\n",
    "                                    orientation=40,\n",
    "                                    optimize_orient_by='area_orient',\n",
    "                                    orient_axis='long',\n",
    "                                    min_time_per_unit=1\n",
    "                                   )\n",
    "    opt_or_long_radials.df.plot(ax=area.df.plot(), color='yellow')"
   ]
  },
  {
   "cell_type": "code",
   "execution_count": null,
   "metadata": {},
   "outputs": [],
   "source": [
    "for area in areas:\n",
    "    opt_or_short_radials = Coverage.make_radials(area,\n",
    "                                    name='test_radials',\n",
    "                                    spacing=10,\n",
    "                                    radius=2,\n",
    "                                    orientation=40,\n",
    "                                    optimize_orient_by='area_orient',\n",
    "                                    orient_axis='short',\n",
    "                                    min_time_per_unit=1\n",
    "                                   )\n",
    "    opt_or_short_radials.df.plot(ax=area.df.plot(), color='yellow')"
   ]
  },
  {
   "cell_type": "code",
   "execution_count": null,
   "metadata": {},
   "outputs": [],
   "source": []
  },
  {
   "cell_type": "code",
   "execution_count": null,
   "metadata": {},
   "outputs": [],
   "source": []
  },
  {
   "cell_type": "code",
   "execution_count": null,
   "metadata": {},
   "outputs": [],
   "source": []
  },
  {
   "cell_type": "code",
   "execution_count": null,
   "metadata": {},
   "outputs": [],
   "source": []
  },
  {
   "cell_type": "code",
   "execution_count": null,
   "metadata": {},
   "outputs": [],
   "source": []
  },
  {
   "cell_type": "code",
   "execution_count": null,
   "metadata": {},
   "outputs": [],
   "source": []
  },
  {
   "cell_type": "code",
   "execution_count": null,
   "metadata": {},
   "outputs": [],
   "source": []
  },
  {
   "cell_type": "markdown",
   "metadata": {},
   "source": [
    "Find the minimum rotated rectangle\n",
    "Find point with min y\n",
    "Find point with max x\n",
    "Calculate distance from Point with min y to Point with max x\n",
    "Calculate angle from Point with min y to Point with max x\n"
   ]
  },
  {
   "cell_type": "code",
   "execution_count": null,
   "metadata": {},
   "outputs": [],
   "source": [
    "min(np.asarray(area.df.geometry[0].minimum_rotated_rectangle.exterior.coords).T[0])"
   ]
  },
  {
   "cell_type": "code",
   "execution_count": null,
   "metadata": {},
   "outputs": [],
   "source": [
    "import math\n",
    "coords = pd.DataFrame(np.array(area.df.geometry[0].minimum_rotated_rectangle.exterior.coords), columns=['x', 'y'])\n",
    "pt_ymin = list(coords.loc[coords['y']==coords['y'].min()].itertuples(index=False, name=None))[0]\n",
    "pt_xmax = list(coords.loc[coords['x']==coords['x'].max()].itertuples(index=False, name=None))[0]\n",
    "pt_xmin = list(coords.loc[coords['x']==coords['x'].min()].itertuples(index=False, name=None))[0]\n",
    "\n",
    "opp = pt_xmax[1]-pt_ymin[1]  # sides of the \"triangle\"\n",
    "adj = pt_xmax[0]-pt_ymin[0]\n",
    "\n",
    "right_side = math.sqrt((adj)**2 + (opp)**2)\n",
    "left_side = math.sqrt((pt_ymin[0]-pt_xmin[0])**2 + (pt_ymin[1]-pt_xmin[1])**2)"
   ]
  },
  {
   "cell_type": "code",
   "execution_count": null,
   "metadata": {},
   "outputs": [],
   "source": [
    "right_side, left_side"
   ]
  },
  {
   "cell_type": "code",
   "execution_count": null,
   "metadata": {},
   "outputs": [],
   "source": [
    "for xy in list(area.df.geometry[0].minimum_rotated_rectangle.exterior.coords):\n",
    "    "
   ]
  },
  {
   "cell_type": "code",
   "execution_count": null,
   "metadata": {},
   "outputs": [],
   "source": [
    "min_rotated_rect = area.df.geometry[0].minimum_rotated_rectangle\n",
    "min_rot_angle = area.df.geometry[0].minimum_rotated_rectangle\n",
    "list(min_rotated_rect.bounds)\n",
    "c = min_rotated_rect.centroid\n",
    "type(c)"
   ]
  },
  {
   "cell_type": "code",
   "execution_count": null,
   "metadata": {},
   "outputs": [],
   "source": [
    "import numpy as np"
   ]
  },
  {
   "cell_type": "code",
   "execution_count": null,
   "metadata": {},
   "outputs": [],
   "source": [
    "a = np.array(np.meshgrid(np.arange(1, 5), np.arange(1, 5))).T.reshape(-1, 2)"
   ]
  },
  {
   "cell_type": "code",
   "execution_count": null,
   "metadata": {},
   "outputs": [],
   "source": [
    "import geopandas as gpd\n",
    "from shapely.geometry import Point\n",
    "gpd.GeoSeries([Point(xy) for xy in a]).plot()"
   ]
  },
  {
   "cell_type": "code",
   "execution_count": null,
   "metadata": {},
   "outputs": [],
   "source": []
  },
  {
   "cell_type": "code",
   "execution_count": null,
   "metadata": {},
   "outputs": [],
   "source": []
  },
  {
   "cell_type": "code",
   "execution_count": null,
   "metadata": {},
   "outputs": [],
   "source": []
  },
  {
   "cell_type": "code",
   "execution_count": null,
   "metadata": {},
   "outputs": [],
   "source": []
  },
  {
   "cell_type": "code",
   "execution_count": null,
   "metadata": {},
   "outputs": [],
   "source": []
  },
  {
   "cell_type": "code",
   "execution_count": null,
   "metadata": {},
   "outputs": [],
   "source": []
  },
  {
   "cell_type": "code",
   "execution_count": null,
   "metadata": {},
   "outputs": [],
   "source": []
  },
  {
   "cell_type": "code",
   "execution_count": null,
   "metadata": {},
   "outputs": [],
   "source": []
  },
  {
   "cell_type": "code",
   "execution_count": null,
   "metadata": {},
   "outputs": [],
   "source": []
  },
  {
   "cell_type": "code",
   "execution_count": null,
   "metadata": {},
   "outputs": [],
   "source": []
  },
  {
   "cell_type": "code",
   "execution_count": null,
   "metadata": {},
   "outputs": [],
   "source": []
  },
  {
   "cell_type": "code",
   "execution_count": null,
   "metadata": {},
   "outputs": [],
   "source": []
  },
  {
   "cell_type": "code",
   "execution_count": null,
   "metadata": {},
   "outputs": [],
   "source": []
  },
  {
   "cell_type": "code",
   "execution_count": null,
   "metadata": {},
   "outputs": [],
   "source": [
    "from math import sqrt\n",
    "from shapely.geometry import LineString, Point\n",
    "# find longest dimension (longest diagonal of bbox)\n",
    "bounds = area.df.bounds\n",
    "width = bounds.maxx.max() - bounds.minx.min()\n",
    "height = bounds.maxy.max() - bounds.miny.max()\n",
    "diag_dist = sqrt(width**2 + height**2)\n",
    "\n",
    "# calculate num of lines\n",
    "n_transects = int(diag_dist // spacing)\n",
    "\n",
    "# start at centroid of bounding box\n",
    "centroid = area.df.boundary.centroid.iloc[0]\n",
    "\n",
    "# fill out lines\n",
    "# calculate x values\n",
    "if n_transects % 2 == 0:  # even num transects\n",
    "    left_start = centroid.x - spacing/2\n",
    "    right_start = centroid.x + spacing/2\n",
    "    left_xs = left_start - (np.arange(0, n_transects/2) * spacing)\n",
    "    right_xs = right_start + (np.arange(0, n_transects/2) * spacing)\n",
    "    xs = np.sort(np.concatenate([left_xs, right_xs]))\n",
    "else:  # odd num transects\n",
    "    start_x = centroid.x\n",
    "    left_xs = start_x - (np.arange(1, n_transects/2) * spacing)\n",
    "    right_xs = start_x + (np.arange(1, n_transects/2) * spacing)\n",
    "    xs = np.sort(np.insert(np.concatenate([left_xs, right_xs]), 1, start_x))\n",
    "    \n",
    "y_max = centroid.y + diag_dist / 2\n",
    "y_min = centroid.y - diag_dist / 2\n",
    "\n",
    "top_coords = list(zip(xs, np.full_like(xs, fill_value=y_max)))\n",
    "bottom_coords = list(zip(xs, np.full_like(xs, fill_value=y_min)))\n",
    "\n",
    "lines_gs = gpd.GeoSeries([LineString(coord_pair) for coord_pair in zip(top_coords, bottom_coords)])\n",
    "lines_gs = lines_gs.rotate(angle, origin = Point(centroid.x, centroid.y))\n",
    "lines_gdf = gpd.GeoDataFrame({'geometry': lines_gs}, \n",
    "                             geometry='geometry')\n",
    "\n",
    "# clip lines by area\n",
    "poly = area.df.geometry.unary_union\n",
    "spatial_index = lines_gdf.sindex\n",
    "bbox = poly.bounds\n",
    "sidx = list(spatial_index.intersection(bbox))\n",
    "lines_sub = lines_gdf.iloc[sidx]\n",
    "clipped = lines_sub.copy()\n",
    "clipped['geometry'] = lines_sub.intersection(poly)\n",
    "lines_clipped = clipped[clipped.geometry.notnull()]\n",
    "\n",
    "\n",
    "transects_buffer = lines_clipped.buffer(sweep_width)  # buffer transects\n",
    "buffer_gdf = gpd.GeoDataFrame({'angle_deg':[angle] * transects_buffer.shape[0],\n",
    "                               'length': lines_clipped.length,\n",
    "                               'geometry': transects_buffer}, \n",
    "                               geometry='geometry')\n",
    "\n",
    "transects = gpd.overlay(buffer_gdf, area.df, how='intersection')\n",
    "transects['area'] = transects.area\n",
    "transects['min_search_time'] = sec_per_unit_dist * transects['length']\n",
    "# add su_id column\n",
    "transects['su_id'] = [i for i in range(transects.shape[0])]\n",
    "transects = transects.loc[:, ['su_id', 'angle_deg', 'length', 'area_name', 'visibility', 'geometry', 'area', 'min_search_time']]\n",
    "\n",
    "transects.plot()"
   ]
  },
  {
   "cell_type": "code",
   "execution_count": null,
   "metadata": {},
   "outputs": [],
   "source": []
  },
  {
   "cell_type": "code",
   "execution_count": null,
   "metadata": {},
   "outputs": [],
   "source": [
    "transects"
   ]
  },
  {
   "cell_type": "code",
   "execution_count": null,
   "metadata": {},
   "outputs": [],
   "source": [
    "centroid.x, spacing/2, left_xs, right_xs"
   ]
  },
  {
   "cell_type": "code",
   "execution_count": null,
   "metadata": {},
   "outputs": [],
   "source": [
    "lines_gdf.plot(ax=area.df.plot(), color='red')"
   ]
  },
  {
   "cell_type": "code",
   "execution_count": null,
   "metadata": {},
   "outputs": [],
   "source": [
    "from shapely.geometry import Point\n",
    "lines_gs.rotate(110, origin = Point(centroid.x, centroid.y)).plot(ax=area.df.plot(), color='red')"
   ]
  },
  {
   "cell_type": "code",
   "execution_count": null,
   "metadata": {},
   "outputs": [],
   "source": []
  },
  {
   "cell_type": "code",
   "execution_count": null,
   "metadata": {},
   "outputs": [],
   "source": []
  },
  {
   "cell_type": "code",
   "execution_count": null,
   "metadata": {},
   "outputs": [],
   "source": []
  },
  {
   "cell_type": "code",
   "execution_count": null,
   "metadata": {},
   "outputs": [],
   "source": []
  },
  {
   "cell_type": "code",
   "execution_count": null,
   "metadata": {},
   "outputs": [],
   "source": []
  }
 ],
 "metadata": {
  "kernelspec": {
   "display_name": "Python 3",
   "language": "python",
   "name": "python3"
  },
  "language_info": {
   "codemirror_mode": {
    "name": "ipython",
    "version": 3
   },
   "file_extension": ".py",
   "mimetype": "text/x-python",
   "name": "python",
   "nbconvert_exporter": "python",
   "pygments_lexer": "ipython3",
   "version": "3.6.6"
  }
 },
 "nbformat": 4,
 "nbformat_minor": 2
}
