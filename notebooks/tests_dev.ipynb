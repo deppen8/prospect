{
 "cells": [
  {
   "cell_type": "code",
   "execution_count": 47,
   "metadata": {},
   "outputs": [],
   "source": [
    "%matplotlib inline\n",
    "import prospect\n",
    "import geopandas as gpd\n",
    "from shapely.geometry import Polygon, LineString, Point, MultiLineString, MultiPolygon\n",
    "# from scipy.stats._distn_infrastructure import rv_frozen"
   ]
  },
  {
   "cell_type": "code",
   "execution_count": 10,
   "metadata": {},
   "outputs": [],
   "source": [
    "exterior = [(0, 0), (0, 2), (2, 2), (2, 0), (0, 0)]\n",
    "interior = [(1, 0), (0.5, 0.5), (1, 1), (1.5, 0.5), (1, 0)][::-1]\n",
    "polygon = Polygon(exterior, [interior])\n",
    "base = gpd.GeoDataFrame({'name': ['test_polygon_gdf'],\n",
    "                         'geometry': polygon}, geometry='geometry')"
   ]
  },
  {
   "cell_type": "code",
   "execution_count": 12,
   "metadata": {},
   "outputs": [
    {
     "data": {
      "image/png": "[encoded data removed]",
      "text/plain": [
       "<Figure size 432x288 with 1 Axes>"
      ]
     },
     "metadata": {
      "needs_background": "light"
     },
     "output_type": "display_data"
    }
   ],
   "source": [
    "base.plot();"
   ]
  },
  {
   "cell_type": "code",
   "execution_count": 17,
   "metadata": {},
   "outputs": [],
   "source": [
    "line_coords = [[(0, 0), (1, 1)], [(0, 1), (2, 3)], [(0, 0.5), (1, 0.5), (2.5, 0.5)]]\n",
    "lines = [LineString(coords) for coords in line_coords]\n",
    "lines_df = gpd.GeoDataFrame({'name': [f'test_line{i}' for i in range(len(lines))],\n",
    "                       'geometry': lines\n",
    "                      }, geometry='geometry')"
   ]
  },
  {
   "cell_type": "code",
   "execution_count": 18,
   "metadata": {},
   "outputs": [
    {
     "data": {
      "text/plain": [
       "<matplotlib.axes._subplots.AxesSubplot at 0x11b927320>"
      ]
     },
     "execution_count": 18,
     "metadata": {},
     "output_type": "execute_result"
    },
    {
     "data": {
      "image/png": "[encoded data removed]",
      "text/plain": [
       "<Figure size 432x288 with 1 Axes>"
      ]
     },
     "metadata": {
      "needs_background": "light"
     },
     "output_type": "display_data"
    }
   ],
   "source": [
    "out = prospect.utils.clip_lines_polys(lines_polys=lines_df, by=base)\n",
    "out.plot()"
   ]
  },
  {
   "cell_type": "code",
   "execution_count": 21,
   "metadata": {},
   "outputs": [
    {
     "name": "stdout",
     "output_type": "stream",
     "text": [
      "MULTILINESTRING ((0 0, 0.5 0.5), (0.5 0.5, 1 1))\n",
      "LINESTRING (0 1, 1 2)\n",
      "MULTILINESTRING ((0 0.5, 0.5 0.5), (1.5 0.5, 2 0.5))\n"
     ]
    }
   ],
   "source": [
    "for ls in out.geometry:\n",
    "    print(ls)"
   ]
  },
  {
   "cell_type": "code",
   "execution_count": 36,
   "metadata": {},
   "outputs": [],
   "source": [
    "exp_out = [MultiLineString([((0, 0), (0.5, 0.5)), ((0.5, 0.5), (1, 1))]),\n",
    "LineString([(0, 1), (1, 2)]),\n",
    "MultiLineString([((0, 0.5), (0.5, 0.5)), ((1.5, 0.5), (2, 0.5))])]"
   ]
  },
  {
   "cell_type": "code",
   "execution_count": 38,
   "metadata": {},
   "outputs": [
    {
     "data": {
      "text/plain": [
       "True"
      ]
     },
     "execution_count": 38,
     "metadata": {},
     "output_type": "execute_result"
    }
   ],
   "source": [
    "all(out.geometry == exp_out)"
   ]
  },
  {
   "cell_type": "code",
   "execution_count": 39,
   "metadata": {},
   "outputs": [
    {
     "data": {
      "text/plain": [
       "<matplotlib.axes._subplots.AxesSubplot at 0x11b9b2c88>"
      ]
     },
     "execution_count": 39,
     "metadata": {},
     "output_type": "execute_result"
    },
    {
     "data": {
      "image/png": "[encoded data removed]",
      "text/plain": [
       "<Figure size 432x288 with 1 Axes>"
      ]
     },
     "metadata": {
      "needs_background": "light"
     },
     "output_type": "display_data"
    }
   ],
   "source": [
    "base.plot()"
   ]
  },
  {
   "cell_type": "code",
   "execution_count": 41,
   "metadata": {},
   "outputs": [
    {
     "data": {
      "text/plain": [
       "0    POLYGON ((0 0, 0 2, 2 2, 2 0, 0 0), (1 0, 1.5 ...\n",
       "Name: geometry, dtype: object"
      ]
     },
     "execution_count": 41,
     "metadata": {},
     "output_type": "execute_result"
    }
   ],
   "source": [
    "base.geometry"
   ]
  },
  {
   "cell_type": "code",
   "execution_count": 42,
   "metadata": {},
   "outputs": [],
   "source": [
    "exterior = [(0.5, 0), (0.5, 2), (2.5, 2), (2.5, 0), (0.5, 0)]\n",
    "interior = [(1.5, 0), (1.0, 0.5), (1.5, 1), (2.0, 0.5), (1.5, 0)][::-1]\n",
    "polygon = Polygon(exterior, [interior])\n",
    "shifted = gpd.GeoDataFrame({'name': ['test_polygon2_gdf'],\n",
    "                         'geometry': polygon}, geometry='geometry')"
   ]
  },
  {
   "cell_type": "code",
   "execution_count": 43,
   "metadata": {},
   "outputs": [],
   "source": [
    "clipped_poly = prospect.utils.clip_lines_polys(lines_polys=base, by=shifted)"
   ]
  },
  {
   "cell_type": "code",
   "execution_count": 44,
   "metadata": {},
   "outputs": [
    {
     "data": {
      "text/plain": [
       "<matplotlib.axes._subplots.AxesSubplot at 0x11c42cda0>"
      ]
     },
     "execution_count": 44,
     "metadata": {},
     "output_type": "execute_result"
    },
    {
     "data": {
      "image/png": "[encoded data removed]",
      "text/plain": [
       "<Figure size 432x288 with 1 Axes>"
      ]
     },
     "metadata": {
      "needs_background": "light"
     },
     "output_type": "display_data"
    }
   ],
   "source": [
    "clipped_poly.plot()"
   ]
  },
  {
   "cell_type": "code",
   "execution_count": 46,
   "metadata": {},
   "outputs": [
    {
     "name": "stdout",
     "output_type": "stream",
     "text": [
      "MULTIPOLYGON (((0.5 2, 2 2, 2 0.5, 1.5 1, 1.25 0.75, 1 1, 0.5 0.5, 0.5 2)), ((2 0.5, 2 0, 1.5 0, 2 0.5)), ((1.5 0, 1 0, 1.25 0.25, 1.5 0)), ((1 0, 0.5 0, 0.5 0.5, 1 0)))\n"
     ]
    }
   ],
   "source": [
    "for p in clipped_poly.geometry:\n",
    "    print(p)"
   ]
  },
  {
   "cell_type": "code",
   "execution_count": 54,
   "metadata": {},
   "outputs": [
    {
     "data": {
      "image/svg+xml": [
       "<svg xmlns=\"http://www.w3.org/2000/svg\" xmlns:xlink=\"http://www.w3.org/1999/xlink\" width=\"100.0\" height=\"100.0\" viewBox=\"-0.04 -0.04 1.08 1.08\" preserveAspectRatio=\"xMinYMin meet\"><g transform=\"matrix(1,0,0,-1,0,1.0)\"><g><path fill-rule=\"evenodd\" fill=\"#66cc99\" stroke=\"#555555\" stroke-width=\"0.0216\" opacity=\"0.6\" d=\"M 0.0,0.0 L 0.0,1.0 L 1.0,1.0 L 1.0,0.0 L 0.0,0.0 z M 0.25,0.25 L 0.25,0.5 L 0.5,0.5 L 0.5,0.25 L 0.25,0.25 z\" /></g></g></svg>"
      ],
      "text/plain": [
       "<shapely.geometry.multipolygon.MultiPolygon at 0x11c168fd0>"
      ]
     },
     "execution_count": 54,
     "metadata": {},
     "output_type": "execute_result"
    }
   ],
   "source": [
    "MultiPolygon(\n",
    "    [\n",
    "        (\n",
    "            ((0.0, 0.0), (0.0, 1.0), (1.0, 1.0), (1.0, 0.0)), \n",
    "            [((0.25, 0.25), (0.25, 0.5), (0.5, 0.5), (0.5, 0.25))]\n",
    "        )\n",
    "    ]\n",
    ")"
   ]
  },
  {
   "cell_type": "code",
   "execution_count": 57,
   "metadata": {},
   "outputs": [
    {
     "data": {
      "image/svg+xml": [
       "<svg xmlns=\"http://www.w3.org/2000/svg\" xmlns:xlink=\"http://www.w3.org/1999/xlink\" width=\"100.0\" height=\"100.0\" viewBox=\"0.42 -0.08 1.6600000000000001 2.16\" preserveAspectRatio=\"xMinYMin meet\"><g transform=\"matrix(1,0,0,-1,0,2.0)\"><g><path fill-rule=\"evenodd\" fill=\"#66cc99\" stroke=\"#555555\" stroke-width=\"0.0432\" opacity=\"0.6\" d=\"M 0.5,2.0 L 2.0,2.0 L 2.0,0.5 L 1.5,1.0 L 1.25,0.75 L 1.0,1.0 L 0.5,0.5 L 0.5,2.0 z\" /><path fill-rule=\"evenodd\" fill=\"#66cc99\" stroke=\"#555555\" stroke-width=\"0.0432\" opacity=\"0.6\" d=\"M 2.0,0.5 L 2.0,0.0 L 1.5,0.0 L 2.0,0.5 z\" /><path fill-rule=\"evenodd\" fill=\"#66cc99\" stroke=\"#555555\" stroke-width=\"0.0432\" opacity=\"0.6\" d=\"M 1.5,0.0 L 1.0,0.0 L 1.25,0.25 L 1.5,0.0 z\" /><path fill-rule=\"evenodd\" fill=\"#66cc99\" stroke=\"#555555\" stroke-width=\"0.0432\" opacity=\"0.6\" d=\"M 1.0,0.0 L 0.5,0.0 L 0.5,0.5 L 1.0,0.0 z\" /></g></g></svg>"
      ],
      "text/plain": [
       "<shapely.geometry.multipolygon.MultiPolygon at 0x11c487160>"
      ]
     },
     "execution_count": 57,
     "metadata": {},
     "output_type": "execute_result"
    }
   ],
   "source": [
    "MultiPolygon(\n",
    "    [\n",
    "        (\n",
    "            ((0.5, 2), (2, 2), (2, 0.5), (1.5, 1), (1.25, 0.75), (1, 1), (0.5, 0.5), (0.5, 2)),\n",
    "            []\n",
    "        ),\n",
    "        (\n",
    "            ((2, 0.5), (2, 0), (1.5, 0), (2, 0.5)),\n",
    "            []\n",
    "        ),\n",
    "        (\n",
    "            ((1.5, 0), (1, 0), (1.25, 0.25), (1.5, 0)),\n",
    "            []\n",
    "        ),\n",
    "        (\n",
    "            ((1, 0), (0.5, 0), (0.5, 0.5), (1, 0)),\n",
    "            []\n",
    "        )\n",
    "])"
   ]
  },
  {
   "cell_type": "code",
   "execution_count": null,
   "metadata": {},
   "outputs": [],
   "source": []
  },
  {
   "cell_type": "code",
   "execution_count": null,
   "metadata": {},
   "outputs": [],
   "source": [
    "a = prospect.Area.from_shapefile(name='test', \n",
    "                                  path='../tests/test_datasets/shapefiles/areas/leiap_field1.shp')\n"
   ]
  },
  {
   "cell_type": "code",
   "execution_count": null,
   "metadata": {},
   "outputs": [],
   "source": [
    "prospect.Layer.poisson_points(area=a, rate=10.0).shape"
   ]
  },
  {
   "cell_type": "code",
   "execution_count": null,
   "metadata": {},
   "outputs": [],
   "source": [
    "a.set_vis_beta_dist(9, 1)"
   ]
  },
  {
   "cell_type": "code",
   "execution_count": null,
   "metadata": {},
   "outputs": [],
   "source": [
    "a.vis.rvs()"
   ]
  },
  {
   "cell_type": "code",
   "execution_count": null,
   "metadata": {},
   "outputs": [],
   "source": [
    "isinstance(a.vis, rv_frozen)"
   ]
  },
  {
   "cell_type": "code",
   "execution_count": null,
   "metadata": {},
   "outputs": [],
   "source": [
    "b = prospect.Area()"
   ]
  },
  {
   "cell_type": "code",
   "execution_count": null,
   "metadata": {},
   "outputs": [],
   "source": [
    "type(b.df)"
   ]
  },
  {
   "cell_type": "code",
   "execution_count": null,
   "metadata": {},
   "outputs": [],
   "source": []
  },
  {
   "cell_type": "code",
   "execution_count": null,
   "metadata": {},
   "outputs": [],
   "source": [
    "from shapely.geometry import Polygon\n",
    "Polygon([(0.0, 0.0), (0.0, 1.0), (1.0, 1.0), (2.0, -1.0), (0.0, 0.0), \n",
    "        (0.25, 0.25), (0.25, 0.5), (0.5, 0.5), (0.5, 0.25), (0.25, 0.25)])"
   ]
  },
  {
   "cell_type": "code",
   "execution_count": null,
   "metadata": {},
   "outputs": [],
   "source": [
    "import itertools\n",
    "a = [\"foo\", \"melon\", 'bar']\n",
    "b = [True, False]\n",
    "d = ['yes', 'no']\n",
    "c = list(itertools.product(a, b, c))\n",
    "c"
   ]
  },
  {
   "cell_type": "code",
   "execution_count": 2,
   "metadata": {},
   "outputs": [
    {
     "name": "stdout",
     "output_type": "stream",
     "text": [
      "('leiap_field1.shp', 'leiap_field1_points.shp')\n",
      "('leiap_field2.shp', 'leiap_field2_points.shp')\n",
      "('leiap_field3.shp', 'leiap_field3_points.shp')\n",
      "('leiap_field4.shp', 'leiap_field4_points.shp')\n",
      "('leiap_field5.shp', 'leiap_field5_polygons.shp')\n",
      "('leiap_field6.shp', 'leiap_field6_polygons_overlap_edges.shp')\n",
      "('leiap_field7.shp', 'leiap_field7_points.shp')\n",
      "('leiap_field8.shp', 'leiap_field8_polygon_single.shp')\n"
     ]
    }
   ],
   "source": [
    "LEIAP_AREA_PATHS = ['leiap_field1.shp', 'leiap_field2.shp', 'leiap_field3.shp', 'leiap_field4.shp',\n",
    "                    'leiap_field5.shp', 'leiap_field6.shp', 'leiap_field7.shp', 'leiap_field8.shp']\n",
    "LEIAP_LAYER_PATHS = [\n",
    "    'leiap_field1_points.shp',\n",
    "    'leiap_field2_points.shp',\n",
    "    'leiap_field3_points.shp',\n",
    "    'leiap_field4_points.shp',\n",
    "    'leiap_field5_polygons.shp',\n",
    "    'leiap_field6_polygons_overlap_edges.shp',\n",
    "    'leiap_field7_points.shp',\n",
    "    'leiap_field8_polygon_single.shp'\n",
    "]\n",
    "\n",
    "AREA_LAYER_TUPLES = list(zip(LEIAP_AREA_PATHS, LEIAP_LAYER_PATHS))\n",
    "\n",
    "for i in AREA_LAYER_TUPLES:\n",
    "    print(i)"
   ]
  },
  {
   "cell_type": "code",
   "execution_count": 3,
   "metadata": {},
   "outputs": [
    {
     "name": "stdout",
     "output_type": "stream",
     "text": [
      "leiap_field1.shp\n",
      "leiap_field1_points.shp\n",
      "leiap_field2.shp\n",
      "leiap_field2_points.shp\n",
      "leiap_field3.shp\n",
      "leiap_field3_points.shp\n",
      "leiap_field4.shp\n",
      "leiap_field4_points.shp\n",
      "leiap_field5.shp\n",
      "leiap_field5_polygons.shp\n",
      "leiap_field6.shp\n",
      "leiap_field6_polygons_overlap_edges.shp\n",
      "leiap_field7.shp\n",
      "leiap_field7_points.shp\n",
      "leiap_field8.shp\n",
      "leiap_field8_polygon_single.shp\n"
     ]
    }
   ],
   "source": [
    "for a, l in AREA_LAYER_TUPLES:\n",
    "    print(a)\n",
    "    print(l)"
   ]
  },
  {
   "cell_type": "code",
   "execution_count": 4,
   "metadata": {},
   "outputs": [],
   "source": [
    "from pathlib import Path\n",
    "layer_list = []\n",
    "for a, l in AREA_LAYER_TUPLES:\n",
    "    area = prospect.Area.from_shapefile(name='test_area4layer', path=Path(\n",
    "        f'../tests/test_datasets/shapefiles/areas/{a}'))\n",
    "    layer = prospect.Layer.from_shapefile(path=Path(\n",
    "        f'../tests/test_datasets/shapefiles/layers/{l}'), area=area, name='test_layer', feature_type=None)\n",
    "    layer_list.append(layer)"
   ]
  },
  {
   "cell_type": "code",
   "execution_count": 5,
   "metadata": {},
   "outputs": [],
   "source": [
    "assemb = prospect.Assemblage(name='test_assemb', layers=layer_list)"
   ]
  },
  {
   "cell_type": "code",
   "execution_count": 6,
   "metadata": {},
   "outputs": [
    {
     "data": {
      "text/plain": [
       "geopandas.geodataframe.GeoDataFrame"
      ]
     },
     "execution_count": 6,
     "metadata": {},
     "output_type": "execute_result"
    }
   ],
   "source": [
    "type(assemb.df)"
   ]
  },
  {
   "cell_type": "code",
   "execution_count": 1,
   "metadata": {},
   "outputs": [],
   "source": [
    "import prospect\n",
    "from shapely.geometry import Polygon"
   ]
  },
  {
   "cell_type": "code",
   "execution_count": 2,
   "metadata": {},
   "outputs": [],
   "source": [
    "poly = Polygon([(1, 1), (1, 3), (4, 3), (4, 1), (1, 1)])\n",
    "surv = prospect.Survey(name='test_survey')\n",
    "area = prospect.Area(name='test_area', survey_name=surv.name,\n",
    "                   shape=poly, vis=1.0)"
   ]
  },
  {
   "cell_type": "code",
   "execution_count": 3,
   "metadata": {},
   "outputs": [
    {
     "data": {
      "text/plain": [
       "{'_sa_instance_state': <sqlalchemy.orm.state.InstanceState at 0x11a788630>,\n",
       " 'name': 'test_survey'}"
      ]
     },
     "execution_count": 3,
     "metadata": {},
     "output_type": "execute_result"
    }
   ],
   "source": [
    "surv.__dict__"
   ]
  },
  {
   "cell_type": "code",
   "execution_count": 4,
   "metadata": {},
   "outputs": [
    {
     "data": {
      "text/plain": [
       "{'_sa_instance_state': <sqlalchemy.orm.state.InstanceState at 0x11a788780>,\n",
       " 'name': 'test_area',\n",
       " 'survey_name': 'test_survey',\n",
       " 'shape': <shapely.geometry.polygon.Polygon at 0x11a7886a0>,\n",
       " 'vis': 1.0,\n",
       " 'df':         name  survey_name                                shape  vis\n",
       " 0  test_area  test_survey  POLYGON ((1 1, 1 3, 4 3, 4 1, 1 1))  1.0}"
      ]
     },
     "execution_count": 4,
     "metadata": {},
     "output_type": "execute_result"
    }
   ],
   "source": [
    "area.__dict__"
   ]
  },
  {
   "cell_type": "code",
   "execution_count": 5,
   "metadata": {},
   "outputs": [
    {
     "data": {
      "text/plain": [
       "prospect.area.Area"
      ]
     },
     "execution_count": 5,
     "metadata": {},
     "output_type": "execute_result"
    }
   ],
   "source": [
    "type(area)"
   ]
  },
  {
   "cell_type": "code",
   "execution_count": 8,
   "metadata": {},
   "outputs": [
    {
     "data": {
      "text/plain": [
       "True"
      ]
     },
     "execution_count": 8,
     "metadata": {},
     "output_type": "execute_result"
    }
   ],
   "source": [
    "isinstance(area, prospect.Area)"
   ]
  },
  {
   "cell_type": "code",
   "execution_count": null,
   "metadata": {},
   "outputs": [],
   "source": []
  }
 ],
 "metadata": {
  "kernelspec": {
   "display_name": "Python 3",
   "language": "python",
   "name": "python3"
  },
  "language_info": {
   "codemirror_mode": {
    "name": "ipython",
    "version": 3
   },
   "file_extension": ".py",
   "mimetype": "text/x-python",
   "name": "python",
   "nbconvert_exporter": "python",
   "pygments_lexer": "ipython3",
   "version": "3.6.7"
  }
 },
 "nbformat": 4,
 "nbformat_minor": 2
}
