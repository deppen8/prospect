{
 "cells": [
  {
   "cell_type": "code",
   "execution_count": 1,
   "metadata": {},
   "outputs": [],
   "source": [
    "import surveysim\n",
    "from scipy.stats._distn_infrastructure import rv_frozen"
   ]
  },
  {
   "cell_type": "code",
   "execution_count": null,
   "metadata": {},
   "outputs": [],
   "source": [
    "a = surveysim.Area.from_shapefile(name='test', \n",
    "                                  path='../tests/test_datasets/shapefiles/areas/leiap_field1.shp')\n"
   ]
  },
  {
   "cell_type": "code",
   "execution_count": null,
   "metadata": {},
   "outputs": [],
   "source": [
    "surveysim.Layer.poisson_points(area=a, rate=10.0).shape"
   ]
  },
  {
   "cell_type": "code",
   "execution_count": null,
   "metadata": {},
   "outputs": [],
   "source": [
    "a.set_vis_beta_dist(9, 1)"
   ]
  },
  {
   "cell_type": "code",
   "execution_count": null,
   "metadata": {},
   "outputs": [],
   "source": [
    "a.vis.rvs()"
   ]
  },
  {
   "cell_type": "code",
   "execution_count": null,
   "metadata": {},
   "outputs": [],
   "source": [
    "isinstance(a.vis, rv_frozen)"
   ]
  },
  {
   "cell_type": "code",
   "execution_count": null,
   "metadata": {},
   "outputs": [],
   "source": [
    "b = surveysim.Area()"
   ]
  },
  {
   "cell_type": "code",
   "execution_count": null,
   "metadata": {},
   "outputs": [],
   "source": [
    "type(b.df)"
   ]
  },
  {
   "cell_type": "code",
   "execution_count": null,
   "metadata": {},
   "outputs": [],
   "source": []
  },
  {
   "cell_type": "code",
   "execution_count": null,
   "metadata": {},
   "outputs": [],
   "source": [
    "from shapely.geometry import Polygon\n",
    "Polygon([(0.0, 0.0), (0.0, 1.0), (1.0, 1.0), (2.0, -1.0), (0.0, 0.0), \n",
    "        (0.25, 0.25), (0.25, 0.5), (0.5, 0.5), (0.5, 0.25), (0.25, 0.25)])"
   ]
  },
  {
   "cell_type": "code",
   "execution_count": null,
   "metadata": {},
   "outputs": [],
   "source": [
    "import itertools\n",
    "a = [\"foo\", \"melon\", 'bar']\n",
    "b = [True, False]\n",
    "d = ['yes', 'no']\n",
    "c = list(itertools.product(a, b, c))\n",
    "c"
   ]
  },
  {
   "cell_type": "code",
   "execution_count": 2,
   "metadata": {},
   "outputs": [
    {
     "name": "stdout",
     "output_type": "stream",
     "text": [
      "('leiap_field1.shp', 'leiap_field1_points.shp')\n",
      "('leiap_field2.shp', 'leiap_field2_points.shp')\n",
      "('leiap_field3.shp', 'leiap_field3_points.shp')\n",
      "('leiap_field4.shp', 'leiap_field4_points.shp')\n",
      "('leiap_field5.shp', 'leiap_field5_polygons.shp')\n",
      "('leiap_field6.shp', 'leiap_field6_polygons_overlap_edges.shp')\n",
      "('leiap_field7.shp', 'leiap_field7_points.shp')\n",
      "('leiap_field8.shp', 'leiap_field8_polygon_single.shp')\n"
     ]
    }
   ],
   "source": [
    "LEIAP_AREA_PATHS = ['leiap_field1.shp', 'leiap_field2.shp', 'leiap_field3.shp', 'leiap_field4.shp',\n",
    "                    'leiap_field5.shp', 'leiap_field6.shp', 'leiap_field7.shp', 'leiap_field8.shp']\n",
    "LEIAP_LAYER_PATHS = [\n",
    "    'leiap_field1_points.shp',\n",
    "    'leiap_field2_points.shp',\n",
    "    'leiap_field3_points.shp',\n",
    "    'leiap_field4_points.shp',\n",
    "    'leiap_field5_polygons.shp',\n",
    "    'leiap_field6_polygons_overlap_edges.shp',\n",
    "    'leiap_field7_points.shp',\n",
    "    'leiap_field8_polygon_single.shp'\n",
    "]\n",
    "\n",
    "AREA_LAYER_TUPLES = list(zip(LEIAP_AREA_PATHS, LEIAP_LAYER_PATHS))\n",
    "\n",
    "for i in AREA_LAYER_TUPLES:\n",
    "    print(i)"
   ]
  },
  {
   "cell_type": "code",
   "execution_count": 3,
   "metadata": {},
   "outputs": [
    {
     "name": "stdout",
     "output_type": "stream",
     "text": [
      "leiap_field1.shp\n",
      "leiap_field1_points.shp\n",
      "leiap_field2.shp\n",
      "leiap_field2_points.shp\n",
      "leiap_field3.shp\n",
      "leiap_field3_points.shp\n",
      "leiap_field4.shp\n",
      "leiap_field4_points.shp\n",
      "leiap_field5.shp\n",
      "leiap_field5_polygons.shp\n",
      "leiap_field6.shp\n",
      "leiap_field6_polygons_overlap_edges.shp\n",
      "leiap_field7.shp\n",
      "leiap_field7_points.shp\n",
      "leiap_field8.shp\n",
      "leiap_field8_polygon_single.shp\n"
     ]
    }
   ],
   "source": [
    "for a, l in AREA_LAYER_TUPLES:\n",
    "    print(a)\n",
    "    print(l)"
   ]
  },
  {
   "cell_type": "code",
   "execution_count": 4,
   "metadata": {},
   "outputs": [],
   "source": [
    "from pathlib import Path\n",
    "layer_list = []\n",
    "for a, l in AREA_LAYER_TUPLES:\n",
    "    area = surveysim.Area.from_shapefile(name='test_area4layer', path=Path(\n",
    "        f'../tests/test_datasets/shapefiles/areas/{a}'))\n",
    "    layer = surveysim.Layer.from_shapefile(path=Path(\n",
    "        f'../tests/test_datasets/shapefiles/layers/{l}'), area=area, name='test_layer', feature_type=None)\n",
    "    layer_list.append(layer)"
   ]
  },
  {
   "cell_type": "code",
   "execution_count": 5,
   "metadata": {},
   "outputs": [],
   "source": [
    "assemb = surveysim.Assemblage(name='test_assemb', layers=layer_list)"
   ]
  },
  {
   "cell_type": "code",
   "execution_count": 6,
   "metadata": {},
   "outputs": [
    {
     "data": {
      "text/plain": [
       "geopandas.geodataframe.GeoDataFrame"
      ]
     },
     "execution_count": 6,
     "metadata": {},
     "output_type": "execute_result"
    }
   ],
   "source": [
    "type(assemb.df)"
   ]
  },
  {
   "cell_type": "code",
   "execution_count": null,
   "metadata": {},
   "outputs": [],
   "source": []
  }
 ],
 "metadata": {
  "kernelspec": {
   "display_name": "Python 3",
   "language": "python",
   "name": "python3"
  },
  "language_info": {
   "codemirror_mode": {
    "name": "ipython",
    "version": 3
   },
   "file_extension": ".py",
   "mimetype": "text/x-python",
   "name": "python",
   "nbconvert_exporter": "python",
   "pygments_lexer": "ipython3",
   "version": "3.6.7"
  }
 },
 "nbformat": 4,
 "nbformat_minor": 2
}
