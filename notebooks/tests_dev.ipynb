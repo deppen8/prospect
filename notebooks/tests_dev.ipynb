{
 "cells": [
  {
   "cell_type": "code",
   "execution_count": 2,
   "metadata": {},
   "outputs": [
    {
     "output_type": "error",
     "ename": "ModuleNotFoundError",
     "evalue": "No module named 'prospect'",
     "traceback": [
      "\u001b[0;31m---------------------------------------------------------------------------\u001b[0m",
      "\u001b[0;31mModuleNotFoundError\u001b[0m                       Traceback (most recent call last)",
      "\u001b[0;32m<ipython-input-2-626624a66094>\u001b[0m in \u001b[0;36m<module>\u001b[0;34m\u001b[0m\n\u001b[0;32m----> 1\u001b[0;31m \u001b[0;32mimport\u001b[0m \u001b[0mprospect\u001b[0m\u001b[0;34m\u001b[0m\u001b[0;34m\u001b[0m\u001b[0m\n\u001b[0m\u001b[1;32m      2\u001b[0m \u001b[0;32mimport\u001b[0m \u001b[0mgeopandas\u001b[0m \u001b[0;32mas\u001b[0m \u001b[0mgpd\u001b[0m\u001b[0;34m\u001b[0m\u001b[0;34m\u001b[0m\u001b[0m\n\u001b[1;32m      3\u001b[0m \u001b[0;32mfrom\u001b[0m \u001b[0mshapely\u001b[0m\u001b[0;34m.\u001b[0m\u001b[0mgeometry\u001b[0m \u001b[0;32mimport\u001b[0m \u001b[0mPolygon\u001b[0m\u001b[0;34m,\u001b[0m \u001b[0mLineString\u001b[0m\u001b[0;34m,\u001b[0m \u001b[0mPoint\u001b[0m\u001b[0;34m,\u001b[0m \u001b[0mMultiLineString\u001b[0m\u001b[0;34m,\u001b[0m \u001b[0mMultiPolygon\u001b[0m\u001b[0;34m\u001b[0m\u001b[0;34m\u001b[0m\u001b[0m\n\u001b[1;32m      4\u001b[0m \u001b[0;31m# from scipy.stats._distn_infrastructure import rv_frozen\u001b[0m\u001b[0;34m\u001b[0m\u001b[0;34m\u001b[0m\u001b[0;34m\u001b[0m\u001b[0m\n",
      "\u001b[0;31mModuleNotFoundError\u001b[0m: No module named 'prospect'"
     ]
    }
   ],
   "source": [
    "import prospect\n",
    "import geopandas as gpd\n",
    "from shapely.geometry import Polygon, LineString, Point, MultiLineString, MultiPolygon\n",
    "# from scipy.stats._distn_infrastructure import rv_frozen"
   ]
  },
  {
   "cell_type": "code",
   "execution_count": null,
   "metadata": {},
   "outputs": [],
   "source": [
    "area = prospect.Area.from_area_value(name=\"test_area\", value=10000000)"
   ]
  },
  {
   "cell_type": "code",
   "execution_count": null,
   "metadata": {},
   "outputs": [],
   "source": [
    "exterior = [(0, 0), (0, 2), (2, 2), (2, 0), (0, 0)]\n",
    "interior = [(1, 0), (0.5, 0.5), (1, 1), (1.5, 0.5), (1, 0)][::-1]\n",
    "polygon = Polygon(exterior, [interior])\n",
    "base = gpd.GeoDataFrame({'name': ['test_polygon_gdf'],\n",
    "                         'geometry': polygon}, geometry='geometry')"
   ]
  },
  {
   "cell_type": "code",
   "execution_count": null,
   "metadata": {},
   "outputs": [],
   "source": [
    "base.plot();"
   ]
  },
  {
   "cell_type": "code",
   "execution_count": null,
   "metadata": {},
   "outputs": [],
   "source": [
    "line_coords = [[(0, 0), (1, 1)], [(0, 1), (2, 3)], [(0, 0.5), (1, 0.5), (2.5, 0.5)]]\n",
    "lines = [LineString(coords) for coords in line_coords]\n",
    "lines_df = gpd.GeoDataFrame({'name': [f'test_line{i}' for i in range(len(lines))],\n",
    "                       'geometry': lines\n",
    "                      }, geometry='geometry')"
   ]
  },
  {
   "cell_type": "code",
   "execution_count": null,
   "metadata": {},
   "outputs": [],
   "source": [
    "out = prospect.utils.clip_lines_polys(lines_polys=lines_df, by=base)\n",
    "out.plot()"
   ]
  },
  {
   "cell_type": "code",
   "execution_count": null,
   "metadata": {},
   "outputs": [],
   "source": [
    "for ls in out.geometry:\n",
    "    print(ls)"
   ]
  },
  {
   "cell_type": "code",
   "execution_count": null,
   "metadata": {},
   "outputs": [],
   "source": [
    "exp_out = [MultiLineString([((0, 0), (0.5, 0.5)), ((0.5, 0.5), (1, 1))]),\n",
    "LineString([(0, 1), (1, 2)]),\n",
    "MultiLineString([((0, 0.5), (0.5, 0.5)), ((1.5, 0.5), (2, 0.5))])]"
   ]
  },
  {
   "cell_type": "code",
   "execution_count": null,
   "metadata": {},
   "outputs": [],
   "source": [
    "all(out.geometry == exp_out)"
   ]
  },
  {
   "cell_type": "code",
   "execution_count": null,
   "metadata": {},
   "outputs": [],
   "source": [
    "base.plot()"
   ]
  },
  {
   "cell_type": "code",
   "execution_count": null,
   "metadata": {},
   "outputs": [],
   "source": [
    "base.geometry"
   ]
  },
  {
   "cell_type": "code",
   "execution_count": null,
   "metadata": {},
   "outputs": [],
   "source": [
    "exterior = [(0.5, 0), (0.5, 2), (2.5, 2), (2.5, 0), (0.5, 0)]\n",
    "interior = [(1.5, 0), (1.0, 0.5), (1.5, 1), (2.0, 0.5), (1.5, 0)][::-1]\n",
    "polygon = Polygon(exterior, [interior])\n",
    "shifted = gpd.GeoDataFrame({'name': ['test_polygon2_gdf'],\n",
    "                         'geometry': polygon}, geometry='geometry')"
   ]
  },
  {
   "cell_type": "code",
   "execution_count": null,
   "metadata": {},
   "outputs": [],
   "source": [
    "clipped_poly = prospect.utils.clip_lines_polys(lines_polys=base, by=shifted)"
   ]
  },
  {
   "cell_type": "code",
   "execution_count": null,
   "metadata": {},
   "outputs": [],
   "source": [
    "clipped_poly.plot()"
   ]
  },
  {
   "cell_type": "code",
   "execution_count": null,
   "metadata": {},
   "outputs": [],
   "source": [
    "for p in clipped_poly.geometry:\n",
    "    print(p)"
   ]
  },
  {
   "cell_type": "code",
   "execution_count": null,
   "metadata": {},
   "outputs": [],
   "source": [
    "MultiPolygon(\n",
    "    [\n",
    "        (\n",
    "            ((0.0, 0.0), (0.0, 1.0), (1.0, 1.0), (1.0, 0.0)), \n",
    "            [((0.25, 0.25), (0.25, 0.5), (0.5, 0.5), (0.5, 0.25))]\n",
    "        )\n",
    "    ]\n",
    ")"
   ]
  },
  {
   "cell_type": "code",
   "execution_count": null,
   "metadata": {},
   "outputs": [],
   "source": [
    "MultiPolygon(\n",
    "    [\n",
    "        (\n",
    "            ((0.5, 2), (2, 2), (2, 0.5), (1.5, 1), (1.25, 0.75), (1, 1), (0.5, 0.5), (0.5, 2)),\n",
    "            []\n",
    "        ),\n",
    "        (\n",
    "            ((2, 0.5), (2, 0), (1.5, 0), (2, 0.5)),\n",
    "            []\n",
    "        ),\n",
    "        (\n",
    "            ((1.5, 0), (1, 0), (1.25, 0.25), (1.5, 0)),\n",
    "            []\n",
    "        ),\n",
    "        (\n",
    "            ((1, 0), (0.5, 0), (0.5, 0.5), (1, 0)),\n",
    "            []\n",
    "        )\n",
    "])"
   ]
  },
  {
   "cell_type": "code",
   "execution_count": null,
   "metadata": {},
   "outputs": [],
   "source": []
  },
  {
   "cell_type": "code",
   "execution_count": null,
   "metadata": {},
   "outputs": [],
   "source": [
    "a = prospect.Area.from_shapefile(name='test', \n",
    "                                  path='../tests/test_datasets/shapefiles/areas/leiap_field1.shp')\n"
   ]
  },
  {
   "cell_type": "code",
   "execution_count": null,
   "metadata": {},
   "outputs": [],
   "source": [
    "prospect.Layer.poisson_points(area=a, rate=10.0).shape"
   ]
  },
  {
   "cell_type": "code",
   "execution_count": null,
   "metadata": {},
   "outputs": [],
   "source": [
    "a.set_vis_beta_dist(9, 1)"
   ]
  },
  {
   "cell_type": "code",
   "execution_count": null,
   "metadata": {},
   "outputs": [],
   "source": [
    "a.vis.rvs()"
   ]
  },
  {
   "cell_type": "code",
   "execution_count": null,
   "metadata": {},
   "outputs": [],
   "source": [
    "isinstance(a.vis, rv_frozen)"
   ]
  },
  {
   "cell_type": "code",
   "execution_count": null,
   "metadata": {},
   "outputs": [],
   "source": [
    "b = prospect.Area()"
   ]
  },
  {
   "cell_type": "code",
   "execution_count": null,
   "metadata": {},
   "outputs": [],
   "source": [
    "type(b.df)"
   ]
  },
  {
   "cell_type": "code",
   "execution_count": null,
   "metadata": {},
   "outputs": [],
   "source": []
  },
  {
   "cell_type": "code",
   "execution_count": null,
   "metadata": {},
   "outputs": [],
   "source": [
    "from shapely.geometry import Polygon\n",
    "Polygon([(0.0, 0.0), (0.0, 1.0), (1.0, 1.0), (2.0, -1.0), (0.0, 0.0), \n",
    "        (0.25, 0.25), (0.25, 0.5), (0.5, 0.5), (0.5, 0.25), (0.25, 0.25)])"
   ]
  },
  {
   "cell_type": "code",
   "execution_count": null,
   "metadata": {},
   "outputs": [],
   "source": [
    "import itertools\n",
    "a = [\"foo\", \"melon\", 'bar']\n",
    "b = [True, False]\n",
    "d = ['yes', 'no']\n",
    "c = list(itertools.product(a, b, c))\n",
    "c"
   ]
  },
  {
   "cell_type": "code",
   "execution_count": null,
   "metadata": {},
   "outputs": [],
   "source": [
    "LEIAP_AREA_PATHS = ['leiap_field1.shp', 'leiap_field2.shp', 'leiap_field3.shp', 'leiap_field4.shp',\n",
    "                    'leiap_field5.shp', 'leiap_field6.shp', 'leiap_field7.shp', 'leiap_field8.shp']\n",
    "LEIAP_LAYER_PATHS = [\n",
    "    'leiap_field1_points.shp',\n",
    "    'leiap_field2_points.shp',\n",
    "    'leiap_field3_points.shp',\n",
    "    'leiap_field4_points.shp',\n",
    "    'leiap_field5_polygons.shp',\n",
    "    'leiap_field6_polygons_overlap_edges.shp',\n",
    "    'leiap_field7_points.shp',\n",
    "    'leiap_field8_polygon_single.shp'\n",
    "]\n",
    "\n",
    "AREA_LAYER_TUPLES = list(zip(LEIAP_AREA_PATHS, LEIAP_LAYER_PATHS))\n",
    "\n",
    "for i in AREA_LAYER_TUPLES:\n",
    "    print(i)"
   ]
  },
  {
   "cell_type": "code",
   "execution_count": null,
   "metadata": {},
   "outputs": [],
   "source": [
    "for a, l in AREA_LAYER_TUPLES:\n",
    "    print(a)\n",
    "    print(l)"
   ]
  },
  {
   "cell_type": "code",
   "execution_count": null,
   "metadata": {},
   "outputs": [],
   "source": [
    "from pathlib import Path\n",
    "layer_list = []\n",
    "for a, l in AREA_LAYER_TUPLES:\n",
    "    area = prospect.Area.from_shapefile(name='test_area4layer', path=Path(\n",
    "        f'../tests/test_datasets/shapefiles/areas/{a}'))\n",
    "    layer = prospect.Layer.from_shapefile(path=Path(\n",
    "        f'../tests/test_datasets/shapefiles/layers/{l}'), area=area, name='test_layer', feature_type=None)\n",
    "    layer_list.append(layer)"
   ]
  },
  {
   "cell_type": "code",
   "execution_count": null,
   "metadata": {},
   "outputs": [],
   "source": [
    "assemb = prospect.Assemblage(name='test_assemb', layers=layer_list)"
   ]
  },
  {
   "cell_type": "code",
   "execution_count": null,
   "metadata": {},
   "outputs": [],
   "source": [
    "type(assemb.df)"
   ]
  },
  {
   "cell_type": "code",
   "execution_count": null,
   "metadata": {},
   "outputs": [],
   "source": [
    "import prospect\n",
    "from shapely.geometry import Polygon"
   ]
  },
  {
   "cell_type": "code",
   "execution_count": null,
   "metadata": {},
   "outputs": [],
   "source": [
    "poly = Polygon([(1, 1), (1, 3), (4, 3), (4, 1), (1, 1)])\n",
    "surv = prospect.Survey(name='test_survey')\n",
    "area = prospect.Area(name='test_area', survey_name=surv.name,\n",
    "                   shape=poly, vis=1.0)"
   ]
  },
  {
   "cell_type": "code",
   "execution_count": null,
   "metadata": {},
   "outputs": [],
   "source": [
    "surv.__dict__"
   ]
  },
  {
   "cell_type": "code",
   "execution_count": null,
   "metadata": {},
   "outputs": [],
   "source": [
    "area.__dict__"
   ]
  },
  {
   "cell_type": "code",
   "execution_count": null,
   "metadata": {},
   "outputs": [],
   "source": [
    "type(area)"
   ]
  },
  {
   "cell_type": "code",
   "execution_count": null,
   "metadata": {},
   "outputs": [],
   "source": [
    "isinstance(area, prospect.Area)"
   ]
  },
  {
   "cell_type": "code",
   "execution_count": null,
   "metadata": {},
   "outputs": [],
   "source": []
  }
 ],
 "metadata": {
  "kernelspec": {
   "display_name": "Python 3",
   "language": "python",
   "name": "python3"
  },
  "language_info": {
   "codemirror_mode": {
    "name": "ipython",
    "version": 3
   },
   "file_extension": ".py",
   "mimetype": "text/x-python",
   "name": "python",
   "nbconvert_exporter": "python",
   "pygments_lexer": "ipython3",
   "version": "3.7.9-final"
  }
 },
 "nbformat": 4,
 "nbformat_minor": 2
}