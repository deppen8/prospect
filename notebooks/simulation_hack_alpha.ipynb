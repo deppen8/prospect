{
 "cells": [
  {
   "cell_type": "code",
   "execution_count": 1,
   "metadata": {},
   "outputs": [],
   "source": [
    "%matplotlib inline\n",
    "import surveysim as ssim\n"
   ]
  },
  {
   "cell_type": "markdown",
   "metadata": {},
   "source": [
    "## Build `Area`"
   ]
  },
  {
   "cell_type": "code",
   "execution_count": 2,
   "metadata": {},
   "outputs": [],
   "source": [
    "area = ssim.Area.from_shapefile('fieldX', '../data/area_test/Survey_Fields_Master.shp')"
   ]
  },
  {
   "cell_type": "code",
   "execution_count": 3,
   "metadata": {},
   "outputs": [
    {
     "data": {
      "text/plain": [
       "{'name': 'fieldX',\n",
       " 'vis': 1.0,\n",
       " 'vis_type': 'scalar',\n",
       " 'shape': <shapely.geometry.polygon.Polygon at 0x1a1c7b0ef0>,\n",
       " 'df':   area_name  vis                                           geometry\n",
       " 0    fieldX  1.0  POLYGON ((532170.075 4385448.288, 532148.0355 ...}"
      ]
     },
     "execution_count": 3,
     "metadata": {},
     "output_type": "execute_result"
    },
    {
     "data": {
      "image/png": "[encoded data removed]",
      "text/plain": [
       "<Figure size 432x288 with 1 Axes>"
      ]
     },
     "metadata": {
      "needs_background": "light"
     },
     "output_type": "display_data"
    }
   ],
   "source": [
    "area.df.plot();\n",
    "area.__dict__"
   ]
  },
  {
   "cell_type": "code",
   "execution_count": 4,
   "metadata": {},
   "outputs": [
    {
     "data": {
      "text/plain": [
       "{'name': 'fieldX',\n",
       " 'vis': <scipy.stats._distn_infrastructure.rv_continuous at 0x1a1d12f400>,\n",
       " 'vis_type': 'distribution',\n",
       " 'shape': <shapely.geometry.polygon.Polygon at 0x1a1c7b0ef0>,\n",
       " 'df':   area_name  vis                                           geometry\n",
       " 0    fieldX  1.0  POLYGON ((532170.075 4385448.288, 532148.0355 ...}"
      ]
     },
     "execution_count": 4,
     "metadata": {},
     "output_type": "execute_result"
    }
   ],
   "source": [
    "area.set_vis_beta_dist(alpha=9, beta=1)\n",
    "area.__dict__"
   ]
  },
  {
   "cell_type": "code",
   "execution_count": 5,
   "metadata": {},
   "outputs": [
    {
     "data": {
      "text/html": [
       "<div>\n",
       "<style scoped>\n",
       "    .dataframe tbody tr th:only-of-type {\n",
       "        vertical-align: middle;\n",
       "    }\n",
       "\n",
       "    .dataframe tbody tr th {\n",
       "        vertical-align: top;\n",
       "    }\n",
       "\n",
       "    .dataframe thead th {\n",
       "        text-align: right;\n",
       "    }\n",
       "</style>\n",
       "<table border=\"1\" class=\"dataframe\">\n",
       "  <thead>\n",
       "    <tr style=\"text-align: right;\">\n",
       "      <th></th>\n",
       "      <th>area_name</th>\n",
       "      <th>vis</th>\n",
       "      <th>geometry</th>\n",
       "    </tr>\n",
       "  </thead>\n",
       "  <tbody>\n",
       "    <tr>\n",
       "      <th>0</th>\n",
       "      <td>fieldX</td>\n",
       "      <td>1.0</td>\n",
       "      <td>POLYGON ((532170.075 4385448.288, 532148.0355 ...</td>\n",
       "    </tr>\n",
       "  </tbody>\n",
       "</table>\n",
       "</div>"
      ],
      "text/plain": [
       "  area_name  vis                                           geometry\n",
       "0    fieldX  1.0  POLYGON ((532170.075 4385448.288, 532148.0355 ..."
      ]
     },
     "execution_count": 5,
     "metadata": {},
     "output_type": "execute_result"
    }
   ],
   "source": [
    "area.df"
   ]
  },
  {
   "cell_type": "markdown",
   "metadata": {},
   "source": [
    "## Build `Layers`"
   ]
  },
  {
   "cell_type": "code",
   "execution_count": 8,
   "metadata": {},
   "outputs": [],
   "source": [
    "ceramics = ssim.Layer.from_poisson_points(rate=.01, area=area, name='ceramics')"
   ]
  },
  {
   "cell_type": "code",
   "execution_count": 10,
   "metadata": {},
   "outputs": [
    {
     "data": {
      "text/plain": [
       "{'area_name': 'fieldX',\n",
       " 'bounds': array([ 532079.7765, 4385428.138 ,  532170.075 , 4385547.355 ]),\n",
       " 'name': 'ceramics',\n",
       " 'features': 0     POINT (532109.0294474318 4385506.673008545)\n",
       " 1     POINT (532152.5066027718 4385487.254805224)\n",
       " 2      POINT (532109.2357909287 4385450.88531791)\n",
       " 3     POINT (532100.3497308918 4385524.031077691)\n",
       " 4      POINT (532161.476373715 4385528.966407267)\n",
       " 5     POINT (532124.6211798412 4385442.817788051)\n",
       " 6     POINT (532109.8191693103 4385477.454890016)\n",
       " 7     POINT (532147.0844844892 4385475.096615959)\n",
       " 8     POINT (532163.1960659468 4385515.044253734)\n",
       " 9     POINT (532141.5899607936 4385471.423672444)\n",
       " 10    POINT (532110.3061622587 4385482.136149733)\n",
       " 11    POINT (532138.9946245113 4385440.532392653)\n",
       " 12    POINT (532159.0125708424 4385494.634445753)\n",
       " 13    POINT (532160.2305565783 4385500.288520616)\n",
       " 14    POINT (532113.2778898911 4385487.359490506)\n",
       " 15       POINT (532140.078033309 4385542.4613168)\n",
       " 16    POINT (532169.2584673346 4385488.061839862)\n",
       " 17    POINT (532127.4860264583 4385543.670662599)\n",
       " 18     POINT (532141.4741146404 4385500.65081725)\n",
       " 19    POINT (532130.7284348157 4385461.586470239)\n",
       " 20    POINT (532169.4464484642 4385495.968862327)\n",
       " 21    POINT (532081.6298913371 4385482.138150988)\n",
       " 22    POINT (532100.0384631142 4385464.319393974)\n",
       " 23    POINT (532161.9959461889 4385507.694990079)\n",
       " 24    POINT (532141.8586410868 4385462.459956241)\n",
       " 25     POINT (532141.037700389 4385482.710371494)\n",
       " 26    POINT (532126.1784418812 4385482.443422403)\n",
       " 27     POINT (532169.1137873246 4385534.94662255)\n",
       " 28    POINT (532120.5184047144 4385476.823701533)\n",
       " 29    POINT (532142.8627770306 4385527.322122482)\n",
       "                          ...                     \n",
       " 70    POINT (532099.9017773668 4385431.403819962)\n",
       " 71    POINT (532112.1134082924 4385469.547548124)\n",
       " 72    POINT (532082.9643555862 4385499.625603337)\n",
       " 73    POINT (532116.1607838204 4385523.349994517)\n",
       " 74    POINT (532135.2612536255 4385486.844635394)\n",
       " 75    POINT (532085.2506073763 4385519.191000643)\n",
       " 76    POINT (532154.3317243917 4385527.737119274)\n",
       " 77    POINT (532128.3864706078 4385438.068472564)\n",
       " 78    POINT (532167.9662348042 4385471.267447636)\n",
       " 79    POINT (532165.3389133174 4385467.399558188)\n",
       " 80    POINT (532130.1302502491 4385466.834244434)\n",
       " 81    POINT (532102.3451199186 4385511.045727712)\n",
       " 82    POINT (532085.9104582969 4385441.224565448)\n",
       " 83    POINT (532086.1668870145 4385428.225084412)\n",
       " 84    POINT (532118.3509952943 4385495.746535448)\n",
       " 85    POINT (532133.2326091166 4385472.263677893)\n",
       " 86    POINT (532110.7467405224 4385474.113531472)\n",
       " 87      POINT (532153.523860218 4385497.88958035)\n",
       " 88    POINT (532084.8169473561 4385546.359022832)\n",
       " 89    POINT (532118.6812240593 4385468.721773982)\n",
       " 90    POINT (532121.8407830849 4385478.338379822)\n",
       " 91    POINT (532119.9511688581 4385431.563356191)\n",
       " 92    POINT (532106.1462845472 4385475.478366718)\n",
       " 93    POINT (532166.9324924557 4385498.723803311)\n",
       " 94    POINT (532106.2410414894 4385521.686019745)\n",
       " 95     POINT (532102.9498128581 4385453.39610236)\n",
       " 96     POINT (532094.460938087 4385471.003749957)\n",
       " 97    POINT (532140.2911173637 4385470.214671214)\n",
       " 98    POINT (532119.5078067717 4385492.449780001)\n",
       " 99    POINT (532116.2111898048 4385504.470561077)\n",
       " Length: 100, dtype: object,\n",
       " 'n_features': 100,\n",
       " 'feature_type': 'points',\n",
       " 'time_penalty': 0.0,\n",
       " 'ideal_obs_rate': 1.0,\n",
       " 'df':    layer_name          fid  time_penalty  ideal_obs_rate  \\\n",
       " 0    ceramics   ceramics_0           0.0             1.0   \n",
       " 1    ceramics   ceramics_1           0.0             1.0   \n",
       " 2    ceramics   ceramics_2           0.0             1.0   \n",
       " 3    ceramics   ceramics_3           0.0             1.0   \n",
       " 4    ceramics   ceramics_4           0.0             1.0   \n",
       " 5    ceramics   ceramics_5           0.0             1.0   \n",
       " 6    ceramics   ceramics_6           0.0             1.0   \n",
       " 7    ceramics   ceramics_7           0.0             1.0   \n",
       " 8    ceramics   ceramics_8           0.0             1.0   \n",
       " 9    ceramics   ceramics_9           0.0             1.0   \n",
       " 10   ceramics  ceramics_10           0.0             1.0   \n",
       " 11   ceramics  ceramics_11           0.0             1.0   \n",
       " 12   ceramics  ceramics_12           0.0             1.0   \n",
       " 13   ceramics  ceramics_13           0.0             1.0   \n",
       " 14   ceramics  ceramics_14           0.0             1.0   \n",
       " 15   ceramics  ceramics_15           0.0             1.0   \n",
       " 16   ceramics  ceramics_16           0.0             1.0   \n",
       " 17   ceramics  ceramics_17           0.0             1.0   \n",
       " 18   ceramics  ceramics_18           0.0             1.0   \n",
       " 19   ceramics  ceramics_19           0.0             1.0   \n",
       " 20   ceramics  ceramics_20           0.0             1.0   \n",
       " 21   ceramics  ceramics_21           0.0             1.0   \n",
       " 22   ceramics  ceramics_22           0.0             1.0   \n",
       " 23   ceramics  ceramics_23           0.0             1.0   \n",
       " 24   ceramics  ceramics_24           0.0             1.0   \n",
       " 25   ceramics  ceramics_25           0.0             1.0   \n",
       " 26   ceramics  ceramics_26           0.0             1.0   \n",
       " 27   ceramics  ceramics_27           0.0             1.0   \n",
       " 28   ceramics  ceramics_28           0.0             1.0   \n",
       " 29   ceramics  ceramics_29           0.0             1.0   \n",
       " ..        ...          ...           ...             ...   \n",
       " 70   ceramics  ceramics_70           0.0             1.0   \n",
       " 71   ceramics  ceramics_71           0.0             1.0   \n",
       " 72   ceramics  ceramics_72           0.0             1.0   \n",
       " 73   ceramics  ceramics_73           0.0             1.0   \n",
       " 74   ceramics  ceramics_74           0.0             1.0   \n",
       " 75   ceramics  ceramics_75           0.0             1.0   \n",
       " 76   ceramics  ceramics_76           0.0             1.0   \n",
       " 77   ceramics  ceramics_77           0.0             1.0   \n",
       " 78   ceramics  ceramics_78           0.0             1.0   \n",
       " 79   ceramics  ceramics_79           0.0             1.0   \n",
       " 80   ceramics  ceramics_80           0.0             1.0   \n",
       " 81   ceramics  ceramics_81           0.0             1.0   \n",
       " 82   ceramics  ceramics_82           0.0             1.0   \n",
       " 83   ceramics  ceramics_83           0.0             1.0   \n",
       " 84   ceramics  ceramics_84           0.0             1.0   \n",
       " 85   ceramics  ceramics_85           0.0             1.0   \n",
       " 86   ceramics  ceramics_86           0.0             1.0   \n",
       " 87   ceramics  ceramics_87           0.0             1.0   \n",
       " 88   ceramics  ceramics_88           0.0             1.0   \n",
       " 89   ceramics  ceramics_89           0.0             1.0   \n",
       " 90   ceramics  ceramics_90           0.0             1.0   \n",
       " 91   ceramics  ceramics_91           0.0             1.0   \n",
       " 92   ceramics  ceramics_92           0.0             1.0   \n",
       " 93   ceramics  ceramics_93           0.0             1.0   \n",
       " 94   ceramics  ceramics_94           0.0             1.0   \n",
       " 95   ceramics  ceramics_95           0.0             1.0   \n",
       " 96   ceramics  ceramics_96           0.0             1.0   \n",
       " 97   ceramics  ceramics_97           0.0             1.0   \n",
       " 98   ceramics  ceramics_98           0.0             1.0   \n",
       " 99   ceramics  ceramics_99           0.0             1.0   \n",
       " \n",
       "                                        geometry  \n",
       " 0   POINT (532109.0294474318 4385506.673008545)  \n",
       " 1   POINT (532152.5066027718 4385487.254805224)  \n",
       " 2    POINT (532109.2357909287 4385450.88531791)  \n",
       " 3   POINT (532100.3497308918 4385524.031077691)  \n",
       " 4    POINT (532161.476373715 4385528.966407267)  \n",
       " 5   POINT (532124.6211798412 4385442.817788051)  \n",
       " 6   POINT (532109.8191693103 4385477.454890016)  \n",
       " 7   POINT (532147.0844844892 4385475.096615959)  \n",
       " 8   POINT (532163.1960659468 4385515.044253734)  \n",
       " 9   POINT (532141.5899607936 4385471.423672444)  \n",
       " 10  POINT (532110.3061622587 4385482.136149733)  \n",
       " 11  POINT (532138.9946245113 4385440.532392653)  \n",
       " 12  POINT (532159.0125708424 4385494.634445753)  \n",
       " 13  POINT (532160.2305565783 4385500.288520616)  \n",
       " 14  POINT (532113.2778898911 4385487.359490506)  \n",
       " 15     POINT (532140.078033309 4385542.4613168)  \n",
       " 16  POINT (532169.2584673346 4385488.061839862)  \n",
       " 17  POINT (532127.4860264583 4385543.670662599)  \n",
       " 18   POINT (532141.4741146404 4385500.65081725)  \n",
       " 19  POINT (532130.7284348157 4385461.586470239)  \n",
       " 20  POINT (532169.4464484642 4385495.968862327)  \n",
       " 21  POINT (532081.6298913371 4385482.138150988)  \n",
       " 22  POINT (532100.0384631142 4385464.319393974)  \n",
       " 23  POINT (532161.9959461889 4385507.694990079)  \n",
       " 24  POINT (532141.8586410868 4385462.459956241)  \n",
       " 25   POINT (532141.037700389 4385482.710371494)  \n",
       " 26  POINT (532126.1784418812 4385482.443422403)  \n",
       " 27   POINT (532169.1137873246 4385534.94662255)  \n",
       " 28  POINT (532120.5184047144 4385476.823701533)  \n",
       " 29  POINT (532142.8627770306 4385527.322122482)  \n",
       " ..                                          ...  \n",
       " 70  POINT (532099.9017773668 4385431.403819962)  \n",
       " 71  POINT (532112.1134082924 4385469.547548124)  \n",
       " 72  POINT (532082.9643555862 4385499.625603337)  \n",
       " 73  POINT (532116.1607838204 4385523.349994517)  \n",
       " 74  POINT (532135.2612536255 4385486.844635394)  \n",
       " 75  POINT (532085.2506073763 4385519.191000643)  \n",
       " 76  POINT (532154.3317243917 4385527.737119274)  \n",
       " 77  POINT (532128.3864706078 4385438.068472564)  \n",
       " 78  POINT (532167.9662348042 4385471.267447636)  \n",
       " 79  POINT (532165.3389133174 4385467.399558188)  \n",
       " 80  POINT (532130.1302502491 4385466.834244434)  \n",
       " 81  POINT (532102.3451199186 4385511.045727712)  \n",
       " 82  POINT (532085.9104582969 4385441.224565448)  \n",
       " 83  POINT (532086.1668870145 4385428.225084412)  \n",
       " 84  POINT (532118.3509952943 4385495.746535448)  \n",
       " 85  POINT (532133.2326091166 4385472.263677893)  \n",
       " 86  POINT (532110.7467405224 4385474.113531472)  \n",
       " 87    POINT (532153.523860218 4385497.88958035)  \n",
       " 88  POINT (532084.8169473561 4385546.359022832)  \n",
       " 89  POINT (532118.6812240593 4385468.721773982)  \n",
       " 90  POINT (532121.8407830849 4385478.338379822)  \n",
       " 91  POINT (532119.9511688581 4385431.563356191)  \n",
       " 92  POINT (532106.1462845472 4385475.478366718)  \n",
       " 93  POINT (532166.9324924557 4385498.723803311)  \n",
       " 94  POINT (532106.2410414894 4385521.686019745)  \n",
       " 95   POINT (532102.9498128581 4385453.39610236)  \n",
       " 96   POINT (532094.460938087 4385471.003749957)  \n",
       " 97  POINT (532140.2911173637 4385470.214671214)  \n",
       " 98  POINT (532119.5078067717 4385492.449780001)  \n",
       " 99  POINT (532116.2111898048 4385504.470561077)  \n",
       " \n",
       " [100 rows x 5 columns]}"
      ]
     },
     "execution_count": 10,
     "metadata": {},
     "output_type": "execute_result"
    },
    {
     "data": {
      "image/png": "[encoded data removed]",
      "text/plain": [
       "<Figure size 432x288 with 1 Axes>"
      ]
     },
     "metadata": {
      "needs_background": "light"
     },
     "output_type": "display_data"
    }
   ],
   "source": [
    "ceramics.df.plot(ax=area.df.plot(), color='yellow');\n",
    "ceramics.__dict__"
   ]
  },
  {
   "cell_type": "code",
   "execution_count": null,
   "metadata": {},
   "outputs": [],
   "source": [
    "# Thomas"
   ]
  },
  {
   "cell_type": "code",
   "execution_count": null,
   "metadata": {},
   "outputs": [],
   "source": [
    "# Matern"
   ]
  },
  {
   "cell_type": "code",
   "execution_count": null,
   "metadata": {},
   "outputs": [],
   "source": []
  },
  {
   "cell_type": "code",
   "execution_count": null,
   "metadata": {},
   "outputs": [],
   "source": []
  },
  {
   "cell_type": "code",
   "execution_count": null,
   "metadata": {},
   "outputs": [],
   "source": []
  },
  {
   "cell_type": "code",
   "execution_count": null,
   "metadata": {},
   "outputs": [],
   "source": []
  },
  {
   "cell_type": "markdown",
   "metadata": {},
   "source": [
    "## Compile `Layers` into `Assemblage`"
   ]
  },
  {
   "cell_type": "code",
   "execution_count": null,
   "metadata": {},
   "outputs": [],
   "source": []
  },
  {
   "cell_type": "code",
   "execution_count": null,
   "metadata": {},
   "outputs": [],
   "source": []
  },
  {
   "cell_type": "code",
   "execution_count": null,
   "metadata": {},
   "outputs": [],
   "source": []
  },
  {
   "cell_type": "markdown",
   "metadata": {},
   "source": [
    "## Build `Coverage`"
   ]
  },
  {
   "cell_type": "code",
   "execution_count": null,
   "metadata": {},
   "outputs": [],
   "source": []
  },
  {
   "cell_type": "code",
   "execution_count": null,
   "metadata": {},
   "outputs": [],
   "source": []
  },
  {
   "cell_type": "code",
   "execution_count": null,
   "metadata": {},
   "outputs": [],
   "source": []
  },
  {
   "cell_type": "code",
   "execution_count": null,
   "metadata": {},
   "outputs": [],
   "source": []
  },
  {
   "cell_type": "markdown",
   "metadata": {},
   "source": [
    "## Build `Team`"
   ]
  },
  {
   "cell_type": "code",
   "execution_count": null,
   "metadata": {},
   "outputs": [],
   "source": []
  },
  {
   "cell_type": "code",
   "execution_count": null,
   "metadata": {},
   "outputs": [],
   "source": []
  },
  {
   "cell_type": "code",
   "execution_count": null,
   "metadata": {},
   "outputs": [],
   "source": []
  },
  {
   "cell_type": "code",
   "execution_count": null,
   "metadata": {},
   "outputs": [],
   "source": []
  }
 ],
 "metadata": {
  "kernelspec": {
   "display_name": "Python 3",
   "language": "python",
   "name": "python3"
  },
  "language_info": {
   "codemirror_mode": {
    "name": "ipython",
    "version": 3
   },
   "file_extension": ".py",
   "mimetype": "text/x-python",
   "name": "python",
   "nbconvert_exporter": "python",
   "pygments_lexer": "ipython3",
   "version": "3.6.6"
  }
 },
 "nbformat": 4,
 "nbformat_minor": 2
}
