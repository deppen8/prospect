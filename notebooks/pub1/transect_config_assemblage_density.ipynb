{
 "cells": [
  {
   "cell_type": "code",
   "execution_count": 1,
   "metadata": {},
   "outputs": [
    {
     "output_type": "execute_result",
     "data": {
      "text/plain": "RandomState(MT19937) at 0x12758FC00"
     },
     "metadata": {},
     "execution_count": 1
    }
   ],
   "source": [
    "import geopandas as gpd\n",
    "import itertools\n",
    "import matplotlib.pyplot as plt\n",
    "import numpy as np\n",
    "import pandas as pd\n",
    "import seaborn as sns\n",
    "from sklearn.datasets import make_blobs\n",
    "from tqdm import tqdm\n",
    "\n",
    "import prospect\n",
    "\n",
    "sns.set()\n",
    "sns.set_style(\"ticks\")\n",
    "np.random.RandomState(5)"
   ]
  },
  {
   "cell_type": "code",
   "execution_count": 76,
   "metadata": {
    "tags": []
   },
   "outputs": [
    {
     "output_type": "stream",
     "name": "stderr",
     "text": "100%|██████████| 50/50 [00:42<00:00,  1.17it/s]\n"
    }
   ],
   "source": [
    "# A simple square area of 1 million square units\n",
    "# If the units are meters, this would be equivalent to a 1km x 1km area\n",
    "area = prospect.Area.from_area_value(name=\"area\", value=1000000, origin=(0, 0), vis=1.0)\n",
    "\n",
    "# Create one perfect surveyor and assign them to a team\n",
    "surveyor = prospect.Surveyor(name=\"surveyor\", team_name=\"team\", surveyor_type=\"perfect\", skill=1.0, speed_penalty=0.0)\n",
    "team = prospect.Team(name=\"team\", surveyor_list=[surveyor], assignment=\"naive\")\n",
    "\n",
    "# Create a bunch of transect Coverage configurations\n",
    "spacings = [10, 20]\n",
    "sweep_widths = [2, 4]\n",
    "orientations = [0.0, 45.0, 90.0]\n",
    "\n",
    "coverage_param_sets = itertools.product(*[spacings, sweep_widths, orientations])\n",
    "coverages = []\n",
    "\n",
    "for spacing, sweep_width, orientation in coverage_param_sets:\n",
    "    coverage = prospect.Coverage.from_transects(\n",
    "        name=f\"coverage_{spacing}_{sweep_width}_{orientation}\",\n",
    "        area=area,\n",
    "        spacing=spacing,\n",
    "        sweep_width=sweep_width,\n",
    "        orientation=orientation, \n",
    "        min_time_per_unit=1,\n",
    "    )\n",
    "\n",
    "    coverages.append(coverage)\n",
    "\n",
    "surveys = {}\n",
    "\n",
    "for i in tqdm(range(50)):  # run all Coverages with 50 different Assemblages\n",
    "    # Make random point clusters\n",
    "    # Set box to slightly less than Area to help ensure all points are within Area\n",
    "    points, clusters = make_blobs(n_samples=40, centers=5, cluster_std=20, center_box=(50, 950))\n",
    "    assert points.min() > 0, \"Some points generated outside of Area\"\n",
    "    assert points.max() < 1000, \"Some points generated outside of Area\"   \n",
    "\n",
    "    geo_points = gpd.points_from_xy(points.T[0], points.T[1])  # convert to shapely Points\n",
    "    point_features = []  # list to store Features\n",
    "    for idx, point in enumerate(geo_points):\n",
    "        # create Feature objects from shapely Points\n",
    "        feature = prospect.Feature(name=f\"assemblage_{i}_point_{idx}_cluster_{clusters[idx]}\", layer_name=\"sparse_clusters\", shape=point, time_penalty=10.0)\n",
    "        point_features.append(feature)\n",
    "\n",
    "    # Make Layer from Feature objects\n",
    "    sparse_layer = prospect.Layer(name=\"sparse_layer\", area=area, assemblage_name=\"sparse_assemblage\", input_features=point_features)\n",
    "    sparse_layer.df[\"cluster\"] = clusters  # add an arbitrary column to keep track of cluster\n",
    "    sparse_assemblage = prospect.Assemblage(name=f\"sparse_assemblage_{i}\", area_name=\"area\", layer_list=[sparse_layer])\n",
    "    if sparse_assemblage.df.shape[0] != 40:\n",
    "        print(sparse_assemblage.df.shape)\n",
    "    \n",
    "    for coverage in coverages:\n",
    "        survey_name = f\"survey_{i}_{coverage.name}\"\n",
    "        survey = prospect.Survey(name=survey_name, area=area, assemblage=sparse_assemblage, coverage=coverage, team=team)\n",
    "        survey.run(n_runs=1)\n",
    "\n",
    "        surveys[survey_name] = survey"
   ]
  },
  {
   "cell_type": "code",
   "execution_count": 77,
   "metadata": {
    "tags": []
   },
   "outputs": [],
   "source": [
    "discovery_dfs = []  # collect all survey outputs with new metadata added\n",
    "time_dfs = []\n",
    "for _, s in surveys.items():\n",
    "    # if s.assemblage.df.shape[0] != 40:\n",
    "    #     print(s.assemblage.df.shape)\n",
    "    if s.discovery.shape[0] != 40:\n",
    "        print(s.discovery.shape)\n",
    "    # Get some information about each artifact from the feature name\n",
    "    parsed_feature_name = s.discovery[\"feature_name\"].str.split(\"_\", expand=True)\n",
    "    \n",
    "\n",
    "    # An ID for the assemblage it belongs to\n",
    "    s.discovery[\"assemblage_config_id\"] = parsed_feature_name[1]\n",
    "    s.time_surveyunit[\"assemblage_config_id\"] = parsed_feature_name[1]\n",
    "\n",
    "    # An ID for the cluster it belongs to\n",
    "    cluster_map = {str(i): char for i, char in enumerate(\"ABCDE\")}\n",
    "    s.discovery[\"cluster_id\"] = (\n",
    "        parsed_feature_name[5]\n",
    "        .map(cluster_map)\n",
    "    )\n",
    "\n",
    "    # Some coverage-level metadata applied to all artifacts in the survey\n",
    "    parsed_coverage_name = s.coverage.name.split(\"_\")\n",
    "    s.discovery[\"coverage_config_id\"] = s.coverage.name.replace(\"coverage_\", \"\")\n",
    "    s.time_surveyunit[\"coverage_config_id\"] = s.coverage.name.replace(\"coverage_\", \"\")\n",
    "    s.discovery[\"transect_spacing\"] = parsed_coverage_name[1]\n",
    "    s.discovery[\"sweep_width\"] = parsed_coverage_name[2]\n",
    "    s.discovery[\"transect_orientation\"] = parsed_coverage_name[3]\n",
    "    \n",
    "    discovery_dfs.append(s.discovery)\n",
    "    time_dfs.append(s.time_surveyunit)\n",
    "\n",
    "# Make into one big DataFrame\n",
    "all_results = pd.concat(discovery_dfs)\n",
    "all_times = pd.concat(time_dfs)"
   ]
  },
  {
   "cell_type": "code",
   "execution_count": 78,
   "metadata": {},
   "outputs": [],
   "source": [
    "mean_time = all_times.groupby([\"coverage_config_id\"]).agg(mean_time = pd.NamedAgg(\"total_time_per_surveyunit\", \"sum\")).apply(lambda x: x / 50)"
   ]
  },
  {
   "cell_type": "code",
   "execution_count": 51,
   "metadata": {},
   "outputs": [
    {
     "output_type": "execute_result",
     "data": {
      "text/plain": "    run        surveyunit_name surveyor_name  base_search_time  \\\n18    0  coverage_10_4_45.0_77      surveyor        134.213562   \n19    0  coverage_10_4_45.0_78      surveyor        154.213562   \n2     0   coverage_20_4_45.0_3      surveyor        154.213562   \n18    0  coverage_10_4_45.0_63      surveyor        174.213562   \n19    0  coverage_10_4_45.0_62      surveyor        194.213562   \n..  ...                    ...           ...               ...   \n0     0   coverage_10_4_45.0_1      surveyor       1414.213562   \n0     0   coverage_10_4_45.0_1      surveyor       1414.213562   \n0     0   coverage_10_4_45.0_1      surveyor       1414.213562   \n0     0   coverage_10_4_45.0_1      surveyor       1414.213562   \n0     0   coverage_10_4_45.0_1      surveyor       1414.213562   \n\n    sum_time_penalty_obs  speed_penalty_obs  total_time_per_surveyunit  \\\n18                  10.0                0.0                 144.213562   \n19                   5.0                0.0                 159.213562   \n2                    5.0                0.0                 159.213562   \n18                   5.0                0.0                 179.213562   \n19                   5.0                0.0                 199.213562   \n..                   ...                ...                        ...   \n0                   10.0                0.0                1424.213562   \n0                   10.0                0.0                1424.213562   \n0                   15.0                0.0                1429.213562   \n0                   15.0                0.0                1429.213562   \n0                   15.0                0.0                1429.213562   \n\n   assemblage_config_id coverage_config_id  \n18                    0          10_4_45.0  \n19                    0          10_4_45.0  \n2                     0          20_4_45.0  \n18                   46          10_4_45.0  \n19                   10          10_4_45.0  \n..                  ...                ...  \n0                     0          10_4_45.0  \n0                    48          10_4_45.0  \n0                    43          10_4_45.0  \n0                    33          10_4_45.0  \n0                    31          10_4_45.0  \n\n[7304 rows x 9 columns]",
      "text/html": "<div>\n<style scoped>\n    .dataframe tbody tr th:only-of-type {\n        vertical-align: middle;\n    }\n\n    .dataframe tbody tr th {\n        vertical-align: top;\n    }\n\n    .dataframe thead th {\n        text-align: right;\n    }\n</style>\n<table border=\"1\" class=\"dataframe\">\n  <thead>\n    <tr style=\"text-align: right;\">\n      <th></th>\n      <th>run</th>\n      <th>surveyunit_name</th>\n      <th>surveyor_name</th>\n      <th>base_search_time</th>\n      <th>sum_time_penalty_obs</th>\n      <th>speed_penalty_obs</th>\n      <th>total_time_per_surveyunit</th>\n      <th>assemblage_config_id</th>\n      <th>coverage_config_id</th>\n    </tr>\n  </thead>\n  <tbody>\n    <tr>\n      <th>18</th>\n      <td>0</td>\n      <td>coverage_10_4_45.0_77</td>\n      <td>surveyor</td>\n      <td>134.213562</td>\n      <td>10.0</td>\n      <td>0.0</td>\n      <td>144.213562</td>\n      <td>0</td>\n      <td>10_4_45.0</td>\n    </tr>\n    <tr>\n      <th>19</th>\n      <td>0</td>\n      <td>coverage_10_4_45.0_78</td>\n      <td>surveyor</td>\n      <td>154.213562</td>\n      <td>5.0</td>\n      <td>0.0</td>\n      <td>159.213562</td>\n      <td>0</td>\n      <td>10_4_45.0</td>\n    </tr>\n    <tr>\n      <th>2</th>\n      <td>0</td>\n      <td>coverage_20_4_45.0_3</td>\n      <td>surveyor</td>\n      <td>154.213562</td>\n      <td>5.0</td>\n      <td>0.0</td>\n      <td>159.213562</td>\n      <td>0</td>\n      <td>20_4_45.0</td>\n    </tr>\n    <tr>\n      <th>18</th>\n      <td>0</td>\n      <td>coverage_10_4_45.0_63</td>\n      <td>surveyor</td>\n      <td>174.213562</td>\n      <td>5.0</td>\n      <td>0.0</td>\n      <td>179.213562</td>\n      <td>46</td>\n      <td>10_4_45.0</td>\n    </tr>\n    <tr>\n      <th>19</th>\n      <td>0</td>\n      <td>coverage_10_4_45.0_62</td>\n      <td>surveyor</td>\n      <td>194.213562</td>\n      <td>5.0</td>\n      <td>0.0</td>\n      <td>199.213562</td>\n      <td>10</td>\n      <td>10_4_45.0</td>\n    </tr>\n    <tr>\n      <th>...</th>\n      <td>...</td>\n      <td>...</td>\n      <td>...</td>\n      <td>...</td>\n      <td>...</td>\n      <td>...</td>\n      <td>...</td>\n      <td>...</td>\n      <td>...</td>\n    </tr>\n    <tr>\n      <th>0</th>\n      <td>0</td>\n      <td>coverage_10_4_45.0_1</td>\n      <td>surveyor</td>\n      <td>1414.213562</td>\n      <td>10.0</td>\n      <td>0.0</td>\n      <td>1424.213562</td>\n      <td>0</td>\n      <td>10_4_45.0</td>\n    </tr>\n    <tr>\n      <th>0</th>\n      <td>0</td>\n      <td>coverage_10_4_45.0_1</td>\n      <td>surveyor</td>\n      <td>1414.213562</td>\n      <td>10.0</td>\n      <td>0.0</td>\n      <td>1424.213562</td>\n      <td>48</td>\n      <td>10_4_45.0</td>\n    </tr>\n    <tr>\n      <th>0</th>\n      <td>0</td>\n      <td>coverage_10_4_45.0_1</td>\n      <td>surveyor</td>\n      <td>1414.213562</td>\n      <td>15.0</td>\n      <td>0.0</td>\n      <td>1429.213562</td>\n      <td>43</td>\n      <td>10_4_45.0</td>\n    </tr>\n    <tr>\n      <th>0</th>\n      <td>0</td>\n      <td>coverage_10_4_45.0_1</td>\n      <td>surveyor</td>\n      <td>1414.213562</td>\n      <td>15.0</td>\n      <td>0.0</td>\n      <td>1429.213562</td>\n      <td>33</td>\n      <td>10_4_45.0</td>\n    </tr>\n    <tr>\n      <th>0</th>\n      <td>0</td>\n      <td>coverage_10_4_45.0_1</td>\n      <td>surveyor</td>\n      <td>1414.213562</td>\n      <td>15.0</td>\n      <td>0.0</td>\n      <td>1429.213562</td>\n      <td>31</td>\n      <td>10_4_45.0</td>\n    </tr>\n  </tbody>\n</table>\n<p>7304 rows × 9 columns</p>\n</div>"
     },
     "metadata": {},
     "execution_count": 51
    }
   ],
   "source": [
    "all_times.sort_values(by=\"total_time_per_surveyunit\")"
   ]
  },
  {
   "cell_type": "code",
   "execution_count": 37,
   "metadata": {},
   "outputs": [
    {
     "output_type": "execute_result",
     "data": {
      "text/plain": "   run                    feature_name                    shape  obs_rate  \\\n0    0  assemblage_0_point_0_cluster_0  POINT (476.355 372.644)       1.0   \n1    0  assemblage_0_point_1_cluster_0  POINT (477.417 383.347)       1.0   \n2    0  assemblage_0_point_2_cluster_2  POINT (355.734 346.255)       1.0   \n3    0  assemblage_0_point_3_cluster_4  POINT (887.939 156.730)       1.0   \n4    0  assemblage_0_point_4_cluster_4  POINT (873.919 174.175)       1.0   \n\n   vis_obs  proximity_obs  skill_obs  discovery_prob assemblage_config_id  \\\n0      1.0            0.0        NaN             NaN                    0   \n1      1.0            0.0        NaN             NaN                    0   \n2      1.0            0.0        NaN             NaN                    0   \n3      1.0            0.0        NaN             NaN                    0   \n4      1.0            0.0        NaN             NaN                    0   \n\n  cluster_id coverage_config_id transect_spacing sweep_width  \\\n0          A           10_2_0.0               10           2   \n1          A           10_2_0.0               10           2   \n2          C           10_2_0.0               10           2   \n3          E           10_2_0.0               10           2   \n4          E           10_2_0.0               10           2   \n\n  transect_orientation  \n0                  0.0  \n1                  0.0  \n2                  0.0  \n3                  0.0  \n4                  0.0  ",
      "text/html": "<div>\n<style scoped>\n    .dataframe tbody tr th:only-of-type {\n        vertical-align: middle;\n    }\n\n    .dataframe tbody tr th {\n        vertical-align: top;\n    }\n\n    .dataframe thead th {\n        text-align: right;\n    }\n</style>\n<table border=\"1\" class=\"dataframe\">\n  <thead>\n    <tr style=\"text-align: right;\">\n      <th></th>\n      <th>run</th>\n      <th>feature_name</th>\n      <th>shape</th>\n      <th>obs_rate</th>\n      <th>vis_obs</th>\n      <th>proximity_obs</th>\n      <th>skill_obs</th>\n      <th>discovery_prob</th>\n      <th>assemblage_config_id</th>\n      <th>cluster_id</th>\n      <th>coverage_config_id</th>\n      <th>transect_spacing</th>\n      <th>sweep_width</th>\n      <th>transect_orientation</th>\n    </tr>\n  </thead>\n  <tbody>\n    <tr>\n      <th>0</th>\n      <td>0</td>\n      <td>assemblage_0_point_0_cluster_0</td>\n      <td>POINT (476.355 372.644)</td>\n      <td>1.0</td>\n      <td>1.0</td>\n      <td>0.0</td>\n      <td>NaN</td>\n      <td>NaN</td>\n      <td>0</td>\n      <td>A</td>\n      <td>10_2_0.0</td>\n      <td>10</td>\n      <td>2</td>\n      <td>0.0</td>\n    </tr>\n    <tr>\n      <th>1</th>\n      <td>0</td>\n      <td>assemblage_0_point_1_cluster_0</td>\n      <td>POINT (477.417 383.347)</td>\n      <td>1.0</td>\n      <td>1.0</td>\n      <td>0.0</td>\n      <td>NaN</td>\n      <td>NaN</td>\n      <td>0</td>\n      <td>A</td>\n      <td>10_2_0.0</td>\n      <td>10</td>\n      <td>2</td>\n      <td>0.0</td>\n    </tr>\n    <tr>\n      <th>2</th>\n      <td>0</td>\n      <td>assemblage_0_point_2_cluster_2</td>\n      <td>POINT (355.734 346.255)</td>\n      <td>1.0</td>\n      <td>1.0</td>\n      <td>0.0</td>\n      <td>NaN</td>\n      <td>NaN</td>\n      <td>0</td>\n      <td>C</td>\n      <td>10_2_0.0</td>\n      <td>10</td>\n      <td>2</td>\n      <td>0.0</td>\n    </tr>\n    <tr>\n      <th>3</th>\n      <td>0</td>\n      <td>assemblage_0_point_3_cluster_4</td>\n      <td>POINT (887.939 156.730)</td>\n      <td>1.0</td>\n      <td>1.0</td>\n      <td>0.0</td>\n      <td>NaN</td>\n      <td>NaN</td>\n      <td>0</td>\n      <td>E</td>\n      <td>10_2_0.0</td>\n      <td>10</td>\n      <td>2</td>\n      <td>0.0</td>\n    </tr>\n    <tr>\n      <th>4</th>\n      <td>0</td>\n      <td>assemblage_0_point_4_cluster_4</td>\n      <td>POINT (873.919 174.175)</td>\n      <td>1.0</td>\n      <td>1.0</td>\n      <td>0.0</td>\n      <td>NaN</td>\n      <td>NaN</td>\n      <td>0</td>\n      <td>E</td>\n      <td>10_2_0.0</td>\n      <td>10</td>\n      <td>2</td>\n      <td>0.0</td>\n    </tr>\n  </tbody>\n</table>\n</div>"
     },
     "metadata": {},
     "execution_count": 37
    }
   ],
   "source": [
    "all_results.head()"
   ]
  },
  {
   "cell_type": "markdown",
   "metadata": {},
   "source": [
    "- How many clusters had at least one member detected?\n",
    "- What is the percentage of each cluster that was detected?\n",
    "- How many clusters were detected? (Run DBSCAN to try to reconstruct?)\n",
    "- Are there artifacts that don't appear to be part of a cluster? This could indicate that our transects aren't capturing full patterns.\n",
    "- Can I make a plot of time vs. <some discovery metric> to optimize?\n",
    "\n",
    "- How many of the 40 artifacts were discovered?\n",
    "- How many clusters had at least one member detected? \n",
    "- How many clusters had zero members detected?\n",
    "- How many clusters had all members detected?\n",
    "- What fraction of each cluster was detected?\n",
    "- If we didn’t know the number of input clusters, how many clusters would a typical clustering algorithm detect and how different is that from the five clusters we know were there originally?"
   ]
  },
  {
   "cell_type": "code",
   "execution_count": 11,
   "metadata": {},
   "outputs": [],
   "source": [
    "configs_clusters = all_results.groupby([\"coverage_config_id\", \"assemblage_config_id\", \"cluster_id\"]).agg(discovered = pd.NamedAgg(\"discovery_prob\", \"sum\"))"
   ]
  },
  {
   "cell_type": "code",
   "execution_count": 12,
   "metadata": {},
   "outputs": [
    {
     "output_type": "execute_result",
     "data": {
      "text/plain": "                                                    discovered\ncoverage_config_id assemblage_config_id cluster_id            \n10_2_0.0           0                    A                  4.0\n                                        B                  3.0\n                                        C                  1.0\n                                        D                  4.0\n                                        E                  4.0\n...                                                        ...\n5_2_90.0           9                    A                  7.0\n                                        B                  6.0\n                                        C                  6.0\n                                        D                  8.0\n                                        E                  6.0\n\n[2250 rows x 1 columns]",
      "text/html": "<div>\n<style scoped>\n    .dataframe tbody tr th:only-of-type {\n        vertical-align: middle;\n    }\n\n    .dataframe tbody tr th {\n        vertical-align: top;\n    }\n\n    .dataframe thead th {\n        text-align: right;\n    }\n</style>\n<table border=\"1\" class=\"dataframe\">\n  <thead>\n    <tr style=\"text-align: right;\">\n      <th></th>\n      <th></th>\n      <th></th>\n      <th>discovered</th>\n    </tr>\n    <tr>\n      <th>coverage_config_id</th>\n      <th>assemblage_config_id</th>\n      <th>cluster_id</th>\n      <th></th>\n    </tr>\n  </thead>\n  <tbody>\n    <tr>\n      <th rowspan=\"5\" valign=\"top\">10_2_0.0</th>\n      <th rowspan=\"5\" valign=\"top\">0</th>\n      <th>A</th>\n      <td>4.0</td>\n    </tr>\n    <tr>\n      <th>B</th>\n      <td>3.0</td>\n    </tr>\n    <tr>\n      <th>C</th>\n      <td>1.0</td>\n    </tr>\n    <tr>\n      <th>D</th>\n      <td>4.0</td>\n    </tr>\n    <tr>\n      <th>E</th>\n      <td>4.0</td>\n    </tr>\n    <tr>\n      <th>...</th>\n      <th>...</th>\n      <th>...</th>\n      <td>...</td>\n    </tr>\n    <tr>\n      <th rowspan=\"5\" valign=\"top\">5_2_90.0</th>\n      <th rowspan=\"5\" valign=\"top\">9</th>\n      <th>A</th>\n      <td>7.0</td>\n    </tr>\n    <tr>\n      <th>B</th>\n      <td>6.0</td>\n    </tr>\n    <tr>\n      <th>C</th>\n      <td>6.0</td>\n    </tr>\n    <tr>\n      <th>D</th>\n      <td>8.0</td>\n    </tr>\n    <tr>\n      <th>E</th>\n      <td>6.0</td>\n    </tr>\n  </tbody>\n</table>\n<p>2250 rows × 1 columns</p>\n</div>"
     },
     "metadata": {},
     "execution_count": 12
    }
   ],
   "source": [
    "configs_clusters"
   ]
  },
  {
   "cell_type": "markdown",
   "metadata": {},
   "source": [
    "## For each Coverage configuration... "
   ]
  },
  {
   "cell_type": "markdown",
   "metadata": {},
   "source": [
    "### What percent of artifacts were discovered?"
   ]
  },
  {
   "cell_type": "code",
   "execution_count": 42,
   "metadata": {},
   "outputs": [
    {
     "output_type": "execute_result",
     "data": {
      "text/plain": "   run                    feature_name                    shape  obs_rate  \\\n0    0  assemblage_0_point_0_cluster_0  POINT (476.355 372.644)       1.0   \n1    0  assemblage_0_point_1_cluster_0  POINT (477.417 383.347)       1.0   \n2    0  assemblage_0_point_2_cluster_2  POINT (355.734 346.255)       1.0   \n3    0  assemblage_0_point_3_cluster_4  POINT (887.939 156.730)       1.0   \n4    0  assemblage_0_point_4_cluster_4  POINT (873.919 174.175)       1.0   \n\n   vis_obs  proximity_obs  skill_obs  discovery_prob assemblage_config_id  \\\n0      1.0            0.0        NaN             NaN                    0   \n1      1.0            0.0        NaN             NaN                    0   \n2      1.0            0.0        NaN             NaN                    0   \n3      1.0            0.0        NaN             NaN                    0   \n4      1.0            0.0        NaN             NaN                    0   \n\n  cluster_id coverage_config_id transect_spacing sweep_width  \\\n0          A           10_2_0.0               10           2   \n1          A           10_2_0.0               10           2   \n2          C           10_2_0.0               10           2   \n3          E           10_2_0.0               10           2   \n4          E           10_2_0.0               10           2   \n\n  transect_orientation  \n0                  0.0  \n1                  0.0  \n2                  0.0  \n3                  0.0  \n4                  0.0  ",
      "text/html": "<div>\n<style scoped>\n    .dataframe tbody tr th:only-of-type {\n        vertical-align: middle;\n    }\n\n    .dataframe tbody tr th {\n        vertical-align: top;\n    }\n\n    .dataframe thead th {\n        text-align: right;\n    }\n</style>\n<table border=\"1\" class=\"dataframe\">\n  <thead>\n    <tr style=\"text-align: right;\">\n      <th></th>\n      <th>run</th>\n      <th>feature_name</th>\n      <th>shape</th>\n      <th>obs_rate</th>\n      <th>vis_obs</th>\n      <th>proximity_obs</th>\n      <th>skill_obs</th>\n      <th>discovery_prob</th>\n      <th>assemblage_config_id</th>\n      <th>cluster_id</th>\n      <th>coverage_config_id</th>\n      <th>transect_spacing</th>\n      <th>sweep_width</th>\n      <th>transect_orientation</th>\n    </tr>\n  </thead>\n  <tbody>\n    <tr>\n      <th>0</th>\n      <td>0</td>\n      <td>assemblage_0_point_0_cluster_0</td>\n      <td>POINT (476.355 372.644)</td>\n      <td>1.0</td>\n      <td>1.0</td>\n      <td>0.0</td>\n      <td>NaN</td>\n      <td>NaN</td>\n      <td>0</td>\n      <td>A</td>\n      <td>10_2_0.0</td>\n      <td>10</td>\n      <td>2</td>\n      <td>0.0</td>\n    </tr>\n    <tr>\n      <th>1</th>\n      <td>0</td>\n      <td>assemblage_0_point_1_cluster_0</td>\n      <td>POINT (477.417 383.347)</td>\n      <td>1.0</td>\n      <td>1.0</td>\n      <td>0.0</td>\n      <td>NaN</td>\n      <td>NaN</td>\n      <td>0</td>\n      <td>A</td>\n      <td>10_2_0.0</td>\n      <td>10</td>\n      <td>2</td>\n      <td>0.0</td>\n    </tr>\n    <tr>\n      <th>2</th>\n      <td>0</td>\n      <td>assemblage_0_point_2_cluster_2</td>\n      <td>POINT (355.734 346.255)</td>\n      <td>1.0</td>\n      <td>1.0</td>\n      <td>0.0</td>\n      <td>NaN</td>\n      <td>NaN</td>\n      <td>0</td>\n      <td>C</td>\n      <td>10_2_0.0</td>\n      <td>10</td>\n      <td>2</td>\n      <td>0.0</td>\n    </tr>\n    <tr>\n      <th>3</th>\n      <td>0</td>\n      <td>assemblage_0_point_3_cluster_4</td>\n      <td>POINT (887.939 156.730)</td>\n      <td>1.0</td>\n      <td>1.0</td>\n      <td>0.0</td>\n      <td>NaN</td>\n      <td>NaN</td>\n      <td>0</td>\n      <td>E</td>\n      <td>10_2_0.0</td>\n      <td>10</td>\n      <td>2</td>\n      <td>0.0</td>\n    </tr>\n    <tr>\n      <th>4</th>\n      <td>0</td>\n      <td>assemblage_0_point_4_cluster_4</td>\n      <td>POINT (873.919 174.175)</td>\n      <td>1.0</td>\n      <td>1.0</td>\n      <td>0.0</td>\n      <td>NaN</td>\n      <td>NaN</td>\n      <td>0</td>\n      <td>E</td>\n      <td>10_2_0.0</td>\n      <td>10</td>\n      <td>2</td>\n      <td>0.0</td>\n    </tr>\n  </tbody>\n</table>\n</div>"
     },
     "metadata": {},
     "execution_count": 42
    }
   ],
   "source": [
    "all_results.head()"
   ]
  },
  {
   "cell_type": "code",
   "execution_count": 79,
   "metadata": {},
   "outputs": [],
   "source": [
    "discovered_pct = all_results.groupby([\"coverage_config_id\"]).agg(discovered_pct = pd.NamedAgg(\"discovery_prob\", \"sum\")).apply(lambda x: 100 * x / 4000).sort_values(by=\"discovered_pct\")"
   ]
  },
  {
   "cell_type": "markdown",
   "metadata": {},
   "source": [
    "- How many clusters had at least one member detected? \n",
    "- How many clusters had zero members detected?\n",
    "- How many clusters had all members detected?\n",
    "- What fraction of each cluster was detected?\n"
   ]
  },
  {
   "cell_type": "code",
   "execution_count": 80,
   "metadata": {},
   "outputs": [
    {
     "output_type": "execute_result",
     "data": {
      "text/plain": "                    discovered_pct     mean_time\ncoverage_config_id                              \n20_2_90.0                   10.075   6580.600000\n20_2_0.0                    10.125   6361.000000\n20_2_45.0                   11.025   7038.336495\n10_2_90.0                   19.425  12735.400000\n10_2_0.0                    19.500  12436.000000",
      "text/html": "<div>\n<style scoped>\n    .dataframe tbody tr th:only-of-type {\n        vertical-align: middle;\n    }\n\n    .dataframe tbody tr th {\n        vertical-align: top;\n    }\n\n    .dataframe thead th {\n        text-align: right;\n    }\n</style>\n<table border=\"1\" class=\"dataframe\">\n  <thead>\n    <tr style=\"text-align: right;\">\n      <th></th>\n      <th>discovered_pct</th>\n      <th>mean_time</th>\n    </tr>\n    <tr>\n      <th>coverage_config_id</th>\n      <th></th>\n      <th></th>\n    </tr>\n  </thead>\n  <tbody>\n    <tr>\n      <th>20_2_90.0</th>\n      <td>10.075</td>\n      <td>6580.600000</td>\n    </tr>\n    <tr>\n      <th>20_2_0.0</th>\n      <td>10.125</td>\n      <td>6361.000000</td>\n    </tr>\n    <tr>\n      <th>20_2_45.0</th>\n      <td>11.025</td>\n      <td>7038.336495</td>\n    </tr>\n    <tr>\n      <th>10_2_90.0</th>\n      <td>19.425</td>\n      <td>12735.400000</td>\n    </tr>\n    <tr>\n      <th>10_2_0.0</th>\n      <td>19.500</td>\n      <td>12436.000000</td>\n    </tr>\n  </tbody>\n</table>\n</div>"
     },
     "metadata": {},
     "execution_count": 80
    }
   ],
   "source": [
    "discovery_time = discovered_pct.merge(mean_time, how=\"inner\", left_index=True, right_index=True)\n",
    "discovery_time.head()"
   ]
  },
  {
   "cell_type": "code",
   "execution_count": 82,
   "metadata": {},
   "outputs": [
    {
     "output_type": "display_data",
     "data": {
      "text/plain": "<Figure size 864x576 with 1 Axes>",
      "image/svg+xml": "<?xml version=\"1.0\" encoding=\"utf-8\" standalone=\"no\"?>\n<!DOCTYPE svg PUBLIC \"-//W3C//DTD SVG 1.1//EN\"\n  \"http://www.w3.org/Graphics/SVG/1.1/DTD/svg11.dtd\">\n<!-- Created with matplotlib (https://matplotlib.org/) -->\n<svg height=\"483.814219pt\" version=\"1.1\" viewBox=\"0 0 747.277699 483.814219\" width=\"747.277699pt\" xmlns=\"http://www.w3.org/2000/svg\" xmlns:xlink=\"http://www.w3.org/1999/xlink\">\n <defs>\n  <style type=\"text/css\">\n*{stroke-linecap:butt;stroke-linejoin:round;}\n  </style>\n </defs>\n <g id=\"figure_1\">\n  <g id=\"patch_1\">\n   <path d=\"M 0 483.814219 \nL 747.277699 483.814219 \nL 747.277699 0 \nL 0 0 \nz\n\" style=\"fill:#ffffff;\"/>\n  </g>\n  <g id=\"axes_1\">\n   <g id=\"patch_2\">\n    <path d=\"M 44.195312 442.08 \nL 713.795313 442.08 \nL 713.795313 7.2 \nL 44.195312 7.2 \nz\n\" style=\"fill:#ffffff;\"/>\n   </g>\n   <g id=\"matplotlib.axis_1\">\n    <g id=\"xtick_1\">\n     <g id=\"line2d_1\">\n      <defs>\n       <path d=\"M 0 0 \nL 0 6 \n\" id=\"m0bae5b6700\" style=\"stroke:#262626;stroke-width:1.25;\"/>\n      </defs>\n      <g>\n       <use style=\"fill:#262626;stroke:#262626;stroke-width:1.25;\" x=\"59.555279\" xlink:href=\"#m0bae5b6700\" y=\"442.08\"/>\n      </g>\n     </g>\n     <g id=\"text_1\">\n      <!-- 6000 -->\n      <defs>\n       <path d=\"M 49.75 54.046875 \nL 41.015625 53.375 \nQ 39.84375 58.546875 37.703125 60.890625 \nQ 34.125 64.65625 28.90625 64.65625 \nQ 24.703125 64.65625 21.53125 62.3125 \nQ 17.390625 59.28125 14.984375 53.46875 \nQ 12.59375 47.65625 12.5 36.921875 \nQ 15.671875 41.75 20.265625 44.09375 \nQ 24.859375 46.4375 29.890625 46.4375 \nQ 38.671875 46.4375 44.84375 39.96875 \nQ 51.03125 33.5 51.03125 23.25 \nQ 51.03125 16.5 48.125 10.71875 \nQ 45.21875 4.9375 40.140625 1.859375 \nQ 35.0625 -1.21875 28.609375 -1.21875 \nQ 17.625 -1.21875 10.6875 6.859375 \nQ 3.765625 14.9375 3.765625 33.5 \nQ 3.765625 54.25 11.421875 63.671875 \nQ 18.109375 71.875 29.4375 71.875 \nQ 37.890625 71.875 43.28125 67.140625 \nQ 48.6875 62.40625 49.75 54.046875 \nz\nM 13.875 23.1875 \nQ 13.875 18.65625 15.796875 14.5 \nQ 17.71875 10.359375 21.1875 8.171875 \nQ 24.65625 6 28.46875 6 \nQ 34.03125 6 38.03125 10.484375 \nQ 42.046875 14.984375 42.046875 22.703125 \nQ 42.046875 30.125 38.078125 34.390625 \nQ 34.125 38.671875 28.125 38.671875 \nQ 22.171875 38.671875 18.015625 34.390625 \nQ 13.875 30.125 13.875 23.1875 \nz\n\" id=\"ArialMT-54\"/>\n       <path d=\"M 4.15625 35.296875 \nQ 4.15625 48 6.765625 55.734375 \nQ 9.375 63.484375 14.515625 67.671875 \nQ 19.671875 71.875 27.484375 71.875 \nQ 33.25 71.875 37.59375 69.546875 \nQ 41.9375 67.234375 44.765625 62.859375 \nQ 47.609375 58.5 49.21875 52.21875 \nQ 50.828125 45.953125 50.828125 35.296875 \nQ 50.828125 22.703125 48.234375 14.96875 \nQ 45.65625 7.234375 40.5 3 \nQ 35.359375 -1.21875 27.484375 -1.21875 \nQ 17.140625 -1.21875 11.234375 6.203125 \nQ 4.15625 15.140625 4.15625 35.296875 \nz\nM 13.1875 35.296875 \nQ 13.1875 17.671875 17.3125 11.828125 \nQ 21.4375 6 27.484375 6 \nQ 33.546875 6 37.671875 11.859375 \nQ 41.796875 17.71875 41.796875 35.296875 \nQ 41.796875 52.984375 37.671875 58.78125 \nQ 33.546875 64.59375 27.390625 64.59375 \nQ 21.34375 64.59375 17.71875 59.46875 \nQ 13.1875 52.9375 13.1875 35.296875 \nz\n\" id=\"ArialMT-48\"/>\n      </defs>\n      <g style=\"fill:#262626;\" transform=\"translate(47.321217 459.453594)scale(0.11 -0.11)\">\n       <use xlink:href=\"#ArialMT-54\"/>\n       <use x=\"55.615234\" xlink:href=\"#ArialMT-48\"/>\n       <use x=\"111.230469\" xlink:href=\"#ArialMT-48\"/>\n       <use x=\"166.845703\" xlink:href=\"#ArialMT-48\"/>\n      </g>\n     </g>\n    </g>\n    <g id=\"xtick_2\">\n     <g id=\"line2d_2\">\n      <g>\n       <use style=\"fill:#262626;stroke:#262626;stroke-width:1.25;\" x=\"143.081024\" xlink:href=\"#m0bae5b6700\" y=\"442.08\"/>\n      </g>\n     </g>\n     <g id=\"text_2\">\n      <!-- 8000 -->\n      <defs>\n       <path d=\"M 17.671875 38.8125 \nQ 12.203125 40.828125 9.5625 44.53125 \nQ 6.9375 48.25 6.9375 53.421875 \nQ 6.9375 61.234375 12.546875 66.546875 \nQ 18.171875 71.875 27.484375 71.875 \nQ 36.859375 71.875 42.578125 66.421875 \nQ 48.296875 60.984375 48.296875 53.171875 \nQ 48.296875 48.1875 45.671875 44.5 \nQ 43.0625 40.828125 37.75 38.8125 \nQ 44.34375 36.671875 47.78125 31.875 \nQ 51.21875 27.09375 51.21875 20.453125 \nQ 51.21875 11.28125 44.71875 5.03125 \nQ 38.234375 -1.21875 27.640625 -1.21875 \nQ 17.046875 -1.21875 10.546875 5.046875 \nQ 4.046875 11.328125 4.046875 20.703125 \nQ 4.046875 27.6875 7.59375 32.390625 \nQ 11.140625 37.109375 17.671875 38.8125 \nz\nM 15.921875 53.71875 \nQ 15.921875 48.640625 19.1875 45.40625 \nQ 22.46875 42.1875 27.6875 42.1875 \nQ 32.765625 42.1875 36.015625 45.375 \nQ 39.265625 48.578125 39.265625 53.21875 \nQ 39.265625 58.0625 35.90625 61.359375 \nQ 32.5625 64.65625 27.59375 64.65625 \nQ 22.5625 64.65625 19.234375 61.421875 \nQ 15.921875 58.203125 15.921875 53.71875 \nz\nM 13.09375 20.65625 \nQ 13.09375 16.890625 14.875 13.375 \nQ 16.65625 9.859375 20.171875 7.921875 \nQ 23.6875 6 27.734375 6 \nQ 34.03125 6 38.125 10.046875 \nQ 42.234375 14.109375 42.234375 20.359375 \nQ 42.234375 26.703125 38.015625 30.859375 \nQ 33.796875 35.015625 27.4375 35.015625 \nQ 21.234375 35.015625 17.15625 30.90625 \nQ 13.09375 26.8125 13.09375 20.65625 \nz\n\" id=\"ArialMT-56\"/>\n      </defs>\n      <g style=\"fill:#262626;\" transform=\"translate(130.846961 459.453594)scale(0.11 -0.11)\">\n       <use xlink:href=\"#ArialMT-56\"/>\n       <use x=\"55.615234\" xlink:href=\"#ArialMT-48\"/>\n       <use x=\"111.230469\" xlink:href=\"#ArialMT-48\"/>\n       <use x=\"166.845703\" xlink:href=\"#ArialMT-48\"/>\n      </g>\n     </g>\n    </g>\n    <g id=\"xtick_3\">\n     <g id=\"line2d_3\">\n      <g>\n       <use style=\"fill:#262626;stroke:#262626;stroke-width:1.25;\" x=\"226.606768\" xlink:href=\"#m0bae5b6700\" y=\"442.08\"/>\n      </g>\n     </g>\n     <g id=\"text_3\">\n      <!-- 10000 -->\n      <defs>\n       <path d=\"M 37.25 0 \nL 28.46875 0 \nL 28.46875 56 \nQ 25.296875 52.984375 20.140625 49.953125 \nQ 14.984375 46.921875 10.890625 45.40625 \nL 10.890625 53.90625 \nQ 18.265625 57.375 23.78125 62.296875 \nQ 29.296875 67.234375 31.59375 71.875 \nL 37.25 71.875 \nz\n\" id=\"ArialMT-49\"/>\n      </defs>\n      <g style=\"fill:#262626;\" transform=\"translate(211.31419 459.453594)scale(0.11 -0.11)\">\n       <use xlink:href=\"#ArialMT-49\"/>\n       <use x=\"55.615234\" xlink:href=\"#ArialMT-48\"/>\n       <use x=\"111.230469\" xlink:href=\"#ArialMT-48\"/>\n       <use x=\"166.845703\" xlink:href=\"#ArialMT-48\"/>\n       <use x=\"222.460938\" xlink:href=\"#ArialMT-48\"/>\n      </g>\n     </g>\n    </g>\n    <g id=\"xtick_4\">\n     <g id=\"line2d_4\">\n      <g>\n       <use style=\"fill:#262626;stroke:#262626;stroke-width:1.25;\" x=\"310.132513\" xlink:href=\"#m0bae5b6700\" y=\"442.08\"/>\n      </g>\n     </g>\n     <g id=\"text_4\">\n      <!-- 12000 -->\n      <defs>\n       <path d=\"M 50.34375 8.453125 \nL 50.34375 0 \nL 3.03125 0 \nQ 2.9375 3.171875 4.046875 6.109375 \nQ 5.859375 10.9375 9.828125 15.625 \nQ 13.8125 20.3125 21.34375 26.46875 \nQ 33.015625 36.03125 37.109375 41.625 \nQ 41.21875 47.21875 41.21875 52.203125 \nQ 41.21875 57.421875 37.46875 61 \nQ 33.734375 64.59375 27.734375 64.59375 \nQ 21.390625 64.59375 17.578125 60.78125 \nQ 13.765625 56.984375 13.71875 50.25 \nL 4.6875 51.171875 \nQ 5.609375 61.28125 11.65625 66.578125 \nQ 17.71875 71.875 27.9375 71.875 \nQ 38.234375 71.875 44.234375 66.15625 \nQ 50.25 60.453125 50.25 52 \nQ 50.25 47.703125 48.484375 43.546875 \nQ 46.734375 39.40625 42.65625 34.8125 \nQ 38.578125 30.21875 29.109375 22.21875 \nQ 21.1875 15.578125 18.9375 13.203125 \nQ 16.703125 10.84375 15.234375 8.453125 \nz\n\" id=\"ArialMT-50\"/>\n      </defs>\n      <g style=\"fill:#262626;\" transform=\"translate(294.839934 459.453594)scale(0.11 -0.11)\">\n       <use xlink:href=\"#ArialMT-49\"/>\n       <use x=\"55.615234\" xlink:href=\"#ArialMT-50\"/>\n       <use x=\"111.230469\" xlink:href=\"#ArialMT-48\"/>\n       <use x=\"166.845703\" xlink:href=\"#ArialMT-48\"/>\n       <use x=\"222.460938\" xlink:href=\"#ArialMT-48\"/>\n      </g>\n     </g>\n    </g>\n    <g id=\"xtick_5\">\n     <g id=\"line2d_5\">\n      <g>\n       <use style=\"fill:#262626;stroke:#262626;stroke-width:1.25;\" x=\"393.658257\" xlink:href=\"#m0bae5b6700\" y=\"442.08\"/>\n      </g>\n     </g>\n     <g id=\"text_5\">\n      <!-- 14000 -->\n      <defs>\n       <path d=\"M 32.328125 0 \nL 32.328125 17.140625 \nL 1.265625 17.140625 \nL 1.265625 25.203125 \nL 33.9375 71.578125 \nL 41.109375 71.578125 \nL 41.109375 25.203125 \nL 50.78125 25.203125 \nL 50.78125 17.140625 \nL 41.109375 17.140625 \nL 41.109375 0 \nz\nM 32.328125 25.203125 \nL 32.328125 57.46875 \nL 9.90625 25.203125 \nz\n\" id=\"ArialMT-52\"/>\n      </defs>\n      <g style=\"fill:#262626;\" transform=\"translate(378.365679 459.453594)scale(0.11 -0.11)\">\n       <use xlink:href=\"#ArialMT-49\"/>\n       <use x=\"55.615234\" xlink:href=\"#ArialMT-52\"/>\n       <use x=\"111.230469\" xlink:href=\"#ArialMT-48\"/>\n       <use x=\"166.845703\" xlink:href=\"#ArialMT-48\"/>\n       <use x=\"222.460938\" xlink:href=\"#ArialMT-48\"/>\n      </g>\n     </g>\n    </g>\n    <g id=\"xtick_6\">\n     <g id=\"line2d_6\">\n      <g>\n       <use style=\"fill:#262626;stroke:#262626;stroke-width:1.25;\" x=\"477.184001\" xlink:href=\"#m0bae5b6700\" y=\"442.08\"/>\n      </g>\n     </g>\n     <g id=\"text_6\">\n      <!-- 16000 -->\n      <g style=\"fill:#262626;\" transform=\"translate(461.891423 459.453594)scale(0.11 -0.11)\">\n       <use xlink:href=\"#ArialMT-49\"/>\n       <use x=\"55.615234\" xlink:href=\"#ArialMT-54\"/>\n       <use x=\"111.230469\" xlink:href=\"#ArialMT-48\"/>\n       <use x=\"166.845703\" xlink:href=\"#ArialMT-48\"/>\n       <use x=\"222.460938\" xlink:href=\"#ArialMT-48\"/>\n      </g>\n     </g>\n    </g>\n    <g id=\"xtick_7\">\n     <g id=\"line2d_7\">\n      <g>\n       <use style=\"fill:#262626;stroke:#262626;stroke-width:1.25;\" x=\"560.709746\" xlink:href=\"#m0bae5b6700\" y=\"442.08\"/>\n      </g>\n     </g>\n     <g id=\"text_7\">\n      <!-- 18000 -->\n      <g style=\"fill:#262626;\" transform=\"translate(545.417168 459.453594)scale(0.11 -0.11)\">\n       <use xlink:href=\"#ArialMT-49\"/>\n       <use x=\"55.615234\" xlink:href=\"#ArialMT-56\"/>\n       <use x=\"111.230469\" xlink:href=\"#ArialMT-48\"/>\n       <use x=\"166.845703\" xlink:href=\"#ArialMT-48\"/>\n       <use x=\"222.460938\" xlink:href=\"#ArialMT-48\"/>\n      </g>\n     </g>\n    </g>\n    <g id=\"xtick_8\">\n     <g id=\"line2d_8\">\n      <g>\n       <use style=\"fill:#262626;stroke:#262626;stroke-width:1.25;\" x=\"644.23549\" xlink:href=\"#m0bae5b6700\" y=\"442.08\"/>\n      </g>\n     </g>\n     <g id=\"text_8\">\n      <!-- 20000 -->\n      <g style=\"fill:#262626;\" transform=\"translate(628.942912 459.453594)scale(0.11 -0.11)\">\n       <use xlink:href=\"#ArialMT-50\"/>\n       <use x=\"55.615234\" xlink:href=\"#ArialMT-48\"/>\n       <use x=\"111.230469\" xlink:href=\"#ArialMT-48\"/>\n       <use x=\"166.845703\" xlink:href=\"#ArialMT-48\"/>\n       <use x=\"222.460938\" xlink:href=\"#ArialMT-48\"/>\n      </g>\n     </g>\n    </g>\n    <g id=\"text_9\">\n     <!-- time -->\n     <defs>\n      <path d=\"M 25.78125 7.859375 \nL 27.046875 0.09375 \nQ 23.34375 -0.6875 20.40625 -0.6875 \nQ 15.625 -0.6875 12.984375 0.828125 \nQ 10.359375 2.34375 9.28125 4.8125 \nQ 8.203125 7.28125 8.203125 15.1875 \nL 8.203125 45.015625 \nL 1.765625 45.015625 \nL 1.765625 51.859375 \nL 8.203125 51.859375 \nL 8.203125 64.703125 \nL 16.9375 69.96875 \nL 16.9375 51.859375 \nL 25.78125 51.859375 \nL 25.78125 45.015625 \nL 16.9375 45.015625 \nL 16.9375 14.703125 \nQ 16.9375 10.9375 17.40625 9.859375 \nQ 17.875 8.796875 18.921875 8.15625 \nQ 19.96875 7.515625 21.921875 7.515625 \nQ 23.390625 7.515625 25.78125 7.859375 \nz\n\" id=\"ArialMT-116\"/>\n      <path d=\"M 6.640625 61.46875 \nL 6.640625 71.578125 \nL 15.4375 71.578125 \nL 15.4375 61.46875 \nz\nM 6.640625 0 \nL 6.640625 51.859375 \nL 15.4375 51.859375 \nL 15.4375 0 \nz\n\" id=\"ArialMT-105\"/>\n      <path d=\"M 6.59375 0 \nL 6.59375 51.859375 \nL 14.453125 51.859375 \nL 14.453125 44.578125 \nQ 16.890625 48.390625 20.9375 50.703125 \nQ 25 53.03125 30.171875 53.03125 \nQ 35.9375 53.03125 39.625 50.640625 \nQ 43.3125 48.25 44.828125 43.953125 \nQ 50.984375 53.03125 60.84375 53.03125 \nQ 68.5625 53.03125 72.703125 48.75 \nQ 76.859375 44.484375 76.859375 35.59375 \nL 76.859375 0 \nL 68.109375 0 \nL 68.109375 32.671875 \nQ 68.109375 37.9375 67.25 40.25 \nQ 66.40625 42.578125 64.15625 43.984375 \nQ 61.921875 45.40625 58.890625 45.40625 \nQ 53.421875 45.40625 49.796875 41.765625 \nQ 46.1875 38.140625 46.1875 30.125 \nL 46.1875 0 \nL 37.40625 0 \nL 37.40625 33.6875 \nQ 37.40625 39.546875 35.25 42.46875 \nQ 33.109375 45.40625 28.21875 45.40625 \nQ 24.515625 45.40625 21.359375 43.453125 \nQ 18.21875 41.5 16.796875 37.734375 \nQ 15.375 33.984375 15.375 26.90625 \nL 15.375 0 \nz\n\" id=\"ArialMT-109\"/>\n      <path d=\"M 42.09375 16.703125 \nL 51.171875 15.578125 \nQ 49.03125 7.625 43.21875 3.21875 \nQ 37.40625 -1.171875 28.375 -1.171875 \nQ 17 -1.171875 10.328125 5.828125 \nQ 3.65625 12.84375 3.65625 25.484375 \nQ 3.65625 38.578125 10.390625 45.796875 \nQ 17.140625 53.03125 27.875 53.03125 \nQ 38.28125 53.03125 44.875 45.953125 \nQ 51.46875 38.875 51.46875 26.03125 \nQ 51.46875 25.25 51.421875 23.6875 \nL 12.75 23.6875 \nQ 13.234375 15.140625 17.578125 10.59375 \nQ 21.921875 6.0625 28.421875 6.0625 \nQ 33.25 6.0625 36.671875 8.59375 \nQ 40.09375 11.140625 42.09375 16.703125 \nz\nM 13.234375 30.90625 \nL 42.1875 30.90625 \nQ 41.609375 37.453125 38.875 40.71875 \nQ 34.671875 45.796875 27.984375 45.796875 \nQ 21.921875 45.796875 17.796875 41.75 \nQ 13.671875 37.703125 13.234375 30.90625 \nz\n\" id=\"ArialMT-101\"/>\n     </defs>\n     <g style=\"fill:#262626;\" transform=\"translate(367.660937 474.229219)scale(0.12 -0.12)\">\n      <use xlink:href=\"#ArialMT-116\"/>\n      <use x=\"27.783203\" xlink:href=\"#ArialMT-105\"/>\n      <use x=\"50\" xlink:href=\"#ArialMT-109\"/>\n      <use x=\"133.300781\" xlink:href=\"#ArialMT-101\"/>\n     </g>\n    </g>\n   </g>\n   <g id=\"matplotlib.axis_2\">\n    <g id=\"ytick_1\">\n     <g id=\"line2d_9\">\n      <defs>\n       <path d=\"M 0 0 \nL -6 0 \n\" id=\"mb3efd217e2\" style=\"stroke:#262626;stroke-width:1.25;\"/>\n      </defs>\n      <g>\n       <use style=\"fill:#262626;stroke:#262626;stroke-width:1.25;\" x=\"44.195312\" xlink:href=\"#mb3efd217e2\" y=\"423.301091\"/>\n      </g>\n     </g>\n     <g id=\"text_10\">\n      <!-- 10 -->\n      <g style=\"fill:#262626;\" transform=\"translate(22.46125 427.237888)scale(0.11 -0.11)\">\n       <use xlink:href=\"#ArialMT-49\"/>\n       <use x=\"55.615234\" xlink:href=\"#ArialMT-48\"/>\n      </g>\n     </g>\n    </g>\n    <g id=\"ytick_2\">\n     <g id=\"line2d_10\">\n      <g>\n       <use style=\"fill:#262626;stroke:#262626;stroke-width:1.25;\" x=\"44.195312\" xlink:href=\"#mb3efd217e2\" y=\"357.410182\"/>\n      </g>\n     </g>\n     <g id=\"text_11\">\n      <!-- 15 -->\n      <defs>\n       <path d=\"M 4.15625 18.75 \nL 13.375 19.53125 \nQ 14.40625 12.796875 18.140625 9.390625 \nQ 21.875 6 27.15625 6 \nQ 33.5 6 37.890625 10.78125 \nQ 42.28125 15.578125 42.28125 23.484375 \nQ 42.28125 31 38.0625 35.34375 \nQ 33.84375 39.703125 27 39.703125 \nQ 22.75 39.703125 19.328125 37.765625 \nQ 15.921875 35.84375 13.96875 32.765625 \nL 5.71875 33.84375 \nL 12.640625 70.609375 \nL 48.25 70.609375 \nL 48.25 62.203125 \nL 19.671875 62.203125 \nL 15.828125 42.96875 \nQ 22.265625 47.46875 29.34375 47.46875 \nQ 38.71875 47.46875 45.15625 40.96875 \nQ 51.609375 34.46875 51.609375 24.265625 \nQ 51.609375 14.546875 45.953125 7.46875 \nQ 39.0625 -1.21875 27.15625 -1.21875 \nQ 17.390625 -1.21875 11.203125 4.25 \nQ 5.03125 9.71875 4.15625 18.75 \nz\n\" id=\"ArialMT-53\"/>\n      </defs>\n      <g style=\"fill:#262626;\" transform=\"translate(22.46125 361.346979)scale(0.11 -0.11)\">\n       <use xlink:href=\"#ArialMT-49\"/>\n       <use x=\"55.615234\" xlink:href=\"#ArialMT-53\"/>\n      </g>\n     </g>\n    </g>\n    <g id=\"ytick_3\">\n     <g id=\"line2d_11\">\n      <g>\n       <use style=\"fill:#262626;stroke:#262626;stroke-width:1.25;\" x=\"44.195312\" xlink:href=\"#mb3efd217e2\" y=\"291.519273\"/>\n      </g>\n     </g>\n     <g id=\"text_12\">\n      <!-- 20 -->\n      <g style=\"fill:#262626;\" transform=\"translate(22.46125 295.45607)scale(0.11 -0.11)\">\n       <use xlink:href=\"#ArialMT-50\"/>\n       <use x=\"55.615234\" xlink:href=\"#ArialMT-48\"/>\n      </g>\n     </g>\n    </g>\n    <g id=\"ytick_4\">\n     <g id=\"line2d_12\">\n      <g>\n       <use style=\"fill:#262626;stroke:#262626;stroke-width:1.25;\" x=\"44.195312\" xlink:href=\"#mb3efd217e2\" y=\"225.628364\"/>\n      </g>\n     </g>\n     <g id=\"text_13\">\n      <!-- 25 -->\n      <g style=\"fill:#262626;\" transform=\"translate(22.46125 229.565161)scale(0.11 -0.11)\">\n       <use xlink:href=\"#ArialMT-50\"/>\n       <use x=\"55.615234\" xlink:href=\"#ArialMT-53\"/>\n      </g>\n     </g>\n    </g>\n    <g id=\"ytick_5\">\n     <g id=\"line2d_13\">\n      <g>\n       <use style=\"fill:#262626;stroke:#262626;stroke-width:1.25;\" x=\"44.195312\" xlink:href=\"#mb3efd217e2\" y=\"159.737455\"/>\n      </g>\n     </g>\n     <g id=\"text_14\">\n      <!-- 30 -->\n      <defs>\n       <path d=\"M 4.203125 18.890625 \nL 12.984375 20.0625 \nQ 14.5 12.59375 18.140625 9.296875 \nQ 21.78125 6 27 6 \nQ 33.203125 6 37.46875 10.296875 \nQ 41.75 14.59375 41.75 20.953125 \nQ 41.75 27 37.796875 30.921875 \nQ 33.84375 34.859375 27.734375 34.859375 \nQ 25.25 34.859375 21.53125 33.890625 \nL 22.515625 41.609375 \nQ 23.390625 41.5 23.921875 41.5 \nQ 29.546875 41.5 34.03125 44.421875 \nQ 38.53125 47.359375 38.53125 53.46875 \nQ 38.53125 58.296875 35.25 61.46875 \nQ 31.984375 64.65625 26.8125 64.65625 \nQ 21.6875 64.65625 18.265625 61.421875 \nQ 14.84375 58.203125 13.875 51.765625 \nL 5.078125 53.328125 \nQ 6.6875 62.15625 12.390625 67.015625 \nQ 18.109375 71.875 26.609375 71.875 \nQ 32.46875 71.875 37.390625 69.359375 \nQ 42.328125 66.84375 44.9375 62.5 \nQ 47.5625 58.15625 47.5625 53.265625 \nQ 47.5625 48.640625 45.0625 44.828125 \nQ 42.578125 41.015625 37.703125 38.765625 \nQ 44.046875 37.3125 47.5625 32.6875 \nQ 51.078125 28.078125 51.078125 21.140625 \nQ 51.078125 11.765625 44.234375 5.25 \nQ 37.40625 -1.265625 26.953125 -1.265625 \nQ 17.53125 -1.265625 11.296875 4.34375 \nQ 5.078125 9.96875 4.203125 18.890625 \nz\n\" id=\"ArialMT-51\"/>\n      </defs>\n      <g style=\"fill:#262626;\" transform=\"translate(22.46125 163.674251)scale(0.11 -0.11)\">\n       <use xlink:href=\"#ArialMT-51\"/>\n       <use x=\"55.615234\" xlink:href=\"#ArialMT-48\"/>\n      </g>\n     </g>\n    </g>\n    <g id=\"ytick_6\">\n     <g id=\"line2d_14\">\n      <g>\n       <use style=\"fill:#262626;stroke:#262626;stroke-width:1.25;\" x=\"44.195312\" xlink:href=\"#mb3efd217e2\" y=\"93.846545\"/>\n      </g>\n     </g>\n     <g id=\"text_15\">\n      <!-- 35 -->\n      <g style=\"fill:#262626;\" transform=\"translate(22.46125 97.783342)scale(0.11 -0.11)\">\n       <use xlink:href=\"#ArialMT-51\"/>\n       <use x=\"55.615234\" xlink:href=\"#ArialMT-53\"/>\n      </g>\n     </g>\n    </g>\n    <g id=\"ytick_7\">\n     <g id=\"line2d_15\">\n      <g>\n       <use style=\"fill:#262626;stroke:#262626;stroke-width:1.25;\" x=\"44.195312\" xlink:href=\"#mb3efd217e2\" y=\"27.955636\"/>\n      </g>\n     </g>\n     <g id=\"text_16\">\n      <!-- 40 -->\n      <g style=\"fill:#262626;\" transform=\"translate(22.46125 31.892433)scale(0.11 -0.11)\">\n       <use xlink:href=\"#ArialMT-52\"/>\n       <use x=\"55.615234\" xlink:href=\"#ArialMT-48\"/>\n      </g>\n     </g>\n    </g>\n    <g id=\"text_17\">\n     <!-- discovery % -->\n     <defs>\n      <path d=\"M 40.234375 0 \nL 40.234375 6.546875 \nQ 35.296875 -1.171875 25.734375 -1.171875 \nQ 19.53125 -1.171875 14.328125 2.25 \nQ 9.125 5.671875 6.265625 11.796875 \nQ 3.421875 17.921875 3.421875 25.875 \nQ 3.421875 33.640625 6 39.96875 \nQ 8.59375 46.296875 13.765625 49.65625 \nQ 18.953125 53.03125 25.34375 53.03125 \nQ 30.03125 53.03125 33.6875 51.046875 \nQ 37.359375 49.078125 39.65625 45.90625 \nL 39.65625 71.578125 \nL 48.390625 71.578125 \nL 48.390625 0 \nz\nM 12.453125 25.875 \nQ 12.453125 15.921875 16.640625 10.984375 \nQ 20.84375 6.0625 26.5625 6.0625 \nQ 32.328125 6.0625 36.34375 10.765625 \nQ 40.375 15.484375 40.375 25.140625 \nQ 40.375 35.796875 36.265625 40.765625 \nQ 32.171875 45.75 26.171875 45.75 \nQ 20.3125 45.75 16.375 40.96875 \nQ 12.453125 36.1875 12.453125 25.875 \nz\n\" id=\"ArialMT-100\"/>\n      <path d=\"M 3.078125 15.484375 \nL 11.765625 16.84375 \nQ 12.5 11.625 15.84375 8.84375 \nQ 19.1875 6.0625 25.203125 6.0625 \nQ 31.25 6.0625 34.171875 8.515625 \nQ 37.109375 10.984375 37.109375 14.3125 \nQ 37.109375 17.28125 34.515625 19 \nQ 32.71875 20.171875 25.53125 21.96875 \nQ 15.875 24.421875 12.140625 26.203125 \nQ 8.40625 27.984375 6.46875 31.125 \nQ 4.546875 34.28125 4.546875 38.09375 \nQ 4.546875 41.546875 6.125 44.5 \nQ 7.71875 47.46875 10.453125 49.421875 \nQ 12.5 50.921875 16.03125 51.96875 \nQ 19.578125 53.03125 23.640625 53.03125 \nQ 29.734375 53.03125 34.34375 51.265625 \nQ 38.96875 49.515625 41.15625 46.5 \nQ 43.359375 43.5 44.1875 38.484375 \nL 35.59375 37.3125 \nQ 35.015625 41.3125 32.203125 43.546875 \nQ 29.390625 45.796875 24.265625 45.796875 \nQ 18.21875 45.796875 15.625 43.796875 \nQ 13.03125 41.796875 13.03125 39.109375 \nQ 13.03125 37.40625 14.109375 36.03125 \nQ 15.1875 34.625 17.484375 33.6875 \nQ 18.796875 33.203125 25.25 31.453125 \nQ 34.578125 28.953125 38.25 27.359375 \nQ 41.9375 25.78125 44.03125 22.75 \nQ 46.140625 19.734375 46.140625 15.234375 \nQ 46.140625 10.84375 43.578125 6.953125 \nQ 41.015625 3.078125 36.171875 0.953125 \nQ 31.34375 -1.171875 25.25 -1.171875 \nQ 15.140625 -1.171875 9.84375 3.03125 \nQ 4.546875 7.234375 3.078125 15.484375 \nz\n\" id=\"ArialMT-115\"/>\n      <path d=\"M 40.4375 19 \nL 49.078125 17.875 \nQ 47.65625 8.9375 41.8125 3.875 \nQ 35.984375 -1.171875 27.484375 -1.171875 \nQ 16.84375 -1.171875 10.375 5.78125 \nQ 3.90625 12.75 3.90625 25.734375 \nQ 3.90625 34.125 6.6875 40.421875 \nQ 9.46875 46.734375 15.15625 49.875 \nQ 20.84375 53.03125 27.546875 53.03125 \nQ 35.984375 53.03125 41.359375 48.75 \nQ 46.734375 44.484375 48.25 36.625 \nL 39.703125 35.296875 \nQ 38.484375 40.53125 35.375 43.15625 \nQ 32.28125 45.796875 27.875 45.796875 \nQ 21.234375 45.796875 17.078125 41.03125 \nQ 12.9375 36.28125 12.9375 25.984375 \nQ 12.9375 15.53125 16.9375 10.796875 \nQ 20.953125 6.0625 27.390625 6.0625 \nQ 32.5625 6.0625 36.03125 9.234375 \nQ 39.5 12.40625 40.4375 19 \nz\n\" id=\"ArialMT-99\"/>\n      <path d=\"M 3.328125 25.921875 \nQ 3.328125 40.328125 11.328125 47.265625 \nQ 18.015625 53.03125 27.640625 53.03125 \nQ 38.328125 53.03125 45.109375 46.015625 \nQ 51.90625 39.015625 51.90625 26.65625 \nQ 51.90625 16.65625 48.90625 10.90625 \nQ 45.90625 5.171875 40.15625 2 \nQ 34.421875 -1.171875 27.640625 -1.171875 \nQ 16.75 -1.171875 10.03125 5.8125 \nQ 3.328125 12.796875 3.328125 25.921875 \nz\nM 12.359375 25.921875 \nQ 12.359375 15.96875 16.703125 11.015625 \nQ 21.046875 6.0625 27.640625 6.0625 \nQ 34.1875 6.0625 38.53125 11.03125 \nQ 42.875 16.015625 42.875 26.21875 \nQ 42.875 35.84375 38.5 40.796875 \nQ 34.125 45.75 27.640625 45.75 \nQ 21.046875 45.75 16.703125 40.8125 \nQ 12.359375 35.890625 12.359375 25.921875 \nz\n\" id=\"ArialMT-111\"/>\n      <path d=\"M 21 0 \nL 1.265625 51.859375 \nL 10.546875 51.859375 \nL 21.6875 20.796875 \nQ 23.484375 15.765625 25 10.359375 \nQ 26.171875 14.453125 28.265625 20.21875 \nL 39.796875 51.859375 \nL 48.828125 51.859375 \nL 29.203125 0 \nz\n\" id=\"ArialMT-118\"/>\n      <path d=\"M 6.5 0 \nL 6.5 51.859375 \nL 14.40625 51.859375 \nL 14.40625 44 \nQ 17.4375 49.515625 20 51.265625 \nQ 22.5625 53.03125 25.640625 53.03125 \nQ 30.078125 53.03125 34.671875 50.203125 \nL 31.640625 42.046875 \nQ 28.421875 43.953125 25.203125 43.953125 \nQ 22.3125 43.953125 20.015625 42.21875 \nQ 17.71875 40.484375 16.75 37.40625 \nQ 15.28125 32.71875 15.28125 27.15625 \nL 15.28125 0 \nz\n\" id=\"ArialMT-114\"/>\n      <path d=\"M 6.203125 -19.96875 \nL 5.21875 -11.71875 \nQ 8.109375 -12.5 10.25 -12.5 \nQ 13.1875 -12.5 14.9375 -11.515625 \nQ 16.703125 -10.546875 17.828125 -8.796875 \nQ 18.65625 -7.46875 20.515625 -2.25 \nQ 20.75 -1.515625 21.296875 -0.09375 \nL 1.609375 51.859375 \nL 11.078125 51.859375 \nL 21.875 21.828125 \nQ 23.96875 16.109375 25.640625 9.8125 \nQ 27.15625 15.875 29.25 21.625 \nL 40.328125 51.859375 \nL 49.125 51.859375 \nL 29.390625 -0.875 \nQ 26.21875 -9.421875 24.46875 -12.640625 \nQ 22.125 -17 19.09375 -19.015625 \nQ 16.0625 -21.046875 11.859375 -21.046875 \nQ 9.328125 -21.046875 6.203125 -19.96875 \nz\n\" id=\"ArialMT-121\"/>\n      <path id=\"ArialMT-32\"/>\n      <path d=\"M 5.8125 54.390625 \nQ 5.8125 62.0625 9.671875 67.421875 \nQ 13.53125 72.796875 20.84375 72.796875 \nQ 27.59375 72.796875 32 67.984375 \nQ 36.421875 63.1875 36.421875 53.859375 \nQ 36.421875 44.78125 31.953125 39.875 \nQ 27.484375 34.96875 20.953125 34.96875 \nQ 14.453125 34.96875 10.125 39.796875 \nQ 5.8125 44.625 5.8125 54.390625 \nz\nM 21.09375 66.75 \nQ 17.828125 66.75 15.65625 63.90625 \nQ 13.484375 61.078125 13.484375 53.515625 \nQ 13.484375 46.625 15.671875 43.8125 \nQ 17.875 41.015625 21.09375 41.015625 \nQ 24.421875 41.015625 26.59375 43.84375 \nQ 28.765625 46.6875 28.765625 54.203125 \nQ 28.765625 61.140625 26.5625 63.9375 \nQ 24.359375 66.75 21.09375 66.75 \nz\nM 21.140625 -2.640625 \nL 60.296875 72.796875 \nL 67.4375 72.796875 \nL 28.421875 -2.640625 \nz\nM 52.09375 16.796875 \nQ 52.09375 24.515625 55.953125 29.859375 \nQ 59.8125 35.203125 67.1875 35.203125 \nQ 73.921875 35.203125 78.34375 30.390625 \nQ 82.765625 25.59375 82.765625 16.265625 \nQ 82.765625 7.171875 78.296875 2.265625 \nQ 73.828125 -2.640625 67.234375 -2.640625 \nQ 60.75 -2.640625 56.421875 2.21875 \nQ 52.09375 7.078125 52.09375 16.796875 \nz\nM 67.4375 29.15625 \nQ 64.109375 29.15625 61.9375 26.3125 \nQ 59.765625 23.484375 59.765625 15.921875 \nQ 59.765625 9.078125 61.953125 6.25 \nQ 64.15625 3.421875 67.390625 3.421875 \nQ 70.75 3.421875 72.921875 6.25 \nQ 75.09375 9.078125 75.09375 16.609375 \nQ 75.09375 23.53125 72.890625 26.34375 \nQ 70.703125 29.15625 67.4375 29.15625 \nz\n\" id=\"ArialMT-37\"/>\n     </defs>\n     <g style=\"fill:#262626;\" transform=\"translate(15.935625 256.982812)rotate(-90)scale(0.12 -0.12)\">\n      <use xlink:href=\"#ArialMT-100\"/>\n      <use x=\"55.615234\" xlink:href=\"#ArialMT-105\"/>\n      <use x=\"77.832031\" xlink:href=\"#ArialMT-115\"/>\n      <use x=\"127.832031\" xlink:href=\"#ArialMT-99\"/>\n      <use x=\"177.832031\" xlink:href=\"#ArialMT-111\"/>\n      <use x=\"233.447266\" xlink:href=\"#ArialMT-118\"/>\n      <use x=\"283.447266\" xlink:href=\"#ArialMT-101\"/>\n      <use x=\"339.0625\" xlink:href=\"#ArialMT-114\"/>\n      <use x=\"372.363281\" xlink:href=\"#ArialMT-121\"/>\n      <use x=\"422.363281\" xlink:href=\"#ArialMT-32\"/>\n      <use x=\"450.146484\" xlink:href=\"#ArialMT-37\"/>\n     </g>\n    </g>\n   </g>\n   <g id=\"PathCollection_1\">\n    <defs>\n     <path d=\"M 0 3 \nC 0.795609 3 1.55874 2.683901 2.12132 2.12132 \nC 2.683901 1.55874 3 0.795609 3 0 \nC 3 -0.795609 2.683901 -1.55874 2.12132 -2.12132 \nC 1.55874 -2.683901 0.795609 -3 0 -3 \nC -0.795609 -3 -1.55874 -2.683901 -2.12132 -2.12132 \nC -2.683901 -1.55874 -3 -0.795609 -3 0 \nC -3 0.795609 -2.683901 1.55874 -2.12132 2.12132 \nC -1.55874 2.683901 -0.795609 3 0 3 \nz\n\" id=\"me76a34a447\" style=\"stroke:#4c72b0;\"/>\n    </defs>\n    <g clip-path=\"url(#p587d6278c8)\">\n     <use style=\"fill:#4c72b0;stroke:#4c72b0;\" x=\"83.802803\" xlink:href=\"#me76a34a447\" y=\"422.312727\"/>\n     <use style=\"fill:#4c72b0;stroke:#4c72b0;\" x=\"74.631676\" xlink:href=\"#me76a34a447\" y=\"421.653818\"/>\n     <use style=\"fill:#4c72b0;stroke:#4c72b0;\" x=\"102.919194\" xlink:href=\"#me76a34a447\" y=\"409.793455\"/>\n     <use style=\"fill:#4c72b0;stroke:#4c72b0;\" x=\"340.844929\" xlink:href=\"#me76a34a447\" y=\"299.096727\"/>\n     <use style=\"fill:#4c72b0;stroke:#4c72b0;\" x=\"328.341125\" xlink:href=\"#me76a34a447\" y=\"298.108364\"/>\n     <use style=\"fill:#4c72b0;stroke:#4c72b0;\" x=\"251.614376\" xlink:href=\"#me76a34a447\" y=\"293.496\"/>\n     <use style=\"fill:#4c72b0;stroke:#4c72b0;\" x=\"260.164772\" xlink:href=\"#me76a34a447\" y=\"286.906909\"/>\n     <use style=\"fill:#4c72b0;stroke:#4c72b0;\" x=\"244.305873\" xlink:href=\"#me76a34a447\" y=\"285.259636\"/>\n     <use style=\"fill:#4c72b0;stroke:#4c72b0;\" x=\"365.69327\" xlink:href=\"#me76a34a447\" y=\"280.976727\"/>\n     <use style=\"fill:#4c72b0;stroke:#4c72b0;\" x=\"683.358949\" xlink:href=\"#me76a34a447\" y=\"33.226909\"/>\n     <use style=\"fill:#4c72b0;stroke:#4c72b0;\" x=\"657.491026\" xlink:href=\"#me76a34a447\" y=\"32.238545\"/>\n     <use style=\"fill:#4c72b0;stroke:#4c72b0;\" x=\"677.135315\" xlink:href=\"#me76a34a447\" y=\"26.967273\"/>\n    </g>\n   </g>\n   <g id=\"patch_3\">\n    <path d=\"M 44.195312 442.08 \nL 44.195312 7.2 \n\" style=\"fill:none;stroke:#262626;stroke-linecap:square;stroke-linejoin:miter;stroke-width:1.25;\"/>\n   </g>\n   <g id=\"patch_4\">\n    <path d=\"M 713.795313 442.08 \nL 713.795313 7.2 \n\" style=\"fill:none;stroke:#262626;stroke-linecap:square;stroke-linejoin:miter;stroke-width:1.25;\"/>\n   </g>\n   <g id=\"patch_5\">\n    <path d=\"M 44.195312 442.08 \nL 713.795313 442.08 \n\" style=\"fill:none;stroke:#262626;stroke-linecap:square;stroke-linejoin:miter;stroke-width:1.25;\"/>\n   </g>\n   <g id=\"patch_6\">\n    <path d=\"M 44.195312 7.2 \nL 713.795313 7.2 \n\" style=\"fill:none;stroke:#262626;stroke-linecap:square;stroke-linejoin:miter;stroke-width:1.25;\"/>\n   </g>\n   <g id=\"text_18\">\n    <!-- 20_2_90.0 -->\n    <defs>\n     <path d=\"M -1.515625 -19.875 \nL -1.515625 -13.53125 \nL 56.734375 -13.53125 \nL 56.734375 -19.875 \nz\n\" id=\"ArialMT-95\"/>\n     <path d=\"M 5.46875 16.546875 \nL 13.921875 17.328125 \nQ 14.984375 11.375 18.015625 8.6875 \nQ 21.046875 6 25.78125 6 \nQ 29.828125 6 32.875 7.859375 \nQ 35.9375 9.71875 37.890625 12.8125 \nQ 39.84375 15.921875 41.15625 21.1875 \nQ 42.484375 26.46875 42.484375 31.9375 \nQ 42.484375 32.515625 42.4375 33.6875 \nQ 39.796875 29.5 35.234375 26.875 \nQ 30.671875 24.265625 25.34375 24.265625 \nQ 16.453125 24.265625 10.296875 30.703125 \nQ 4.15625 37.15625 4.15625 47.703125 \nQ 4.15625 58.59375 10.578125 65.234375 \nQ 17 71.875 26.65625 71.875 \nQ 33.640625 71.875 39.421875 68.109375 \nQ 45.21875 64.359375 48.21875 57.390625 \nQ 51.21875 50.4375 51.21875 37.25 \nQ 51.21875 23.53125 48.234375 15.40625 \nQ 45.265625 7.28125 39.375 3.03125 \nQ 33.5 -1.21875 25.59375 -1.21875 \nQ 17.1875 -1.21875 11.859375 3.4375 \nQ 6.546875 8.109375 5.46875 16.546875 \nz\nM 41.453125 48.140625 \nQ 41.453125 55.71875 37.421875 60.15625 \nQ 33.40625 64.59375 27.734375 64.59375 \nQ 21.875 64.59375 17.53125 59.8125 \nQ 13.1875 55.03125 13.1875 47.40625 \nQ 13.1875 40.578125 17.3125 36.296875 \nQ 21.4375 32.03125 27.484375 32.03125 \nQ 33.59375 32.03125 37.515625 36.296875 \nQ 41.453125 40.578125 41.453125 48.140625 \nz\n\" id=\"ArialMT-57\"/>\n     <path d=\"M 9.078125 0 \nL 9.078125 10.015625 \nL 19.09375 10.015625 \nL 19.09375 0 \nz\n\" id=\"ArialMT-46\"/>\n    </defs>\n    <g style=\"fill:#262626;\" transform=\"translate(83.802803 422.312727)scale(0.12 -0.12)\">\n     <use xlink:href=\"#ArialMT-50\"/>\n     <use x=\"55.615234\" xlink:href=\"#ArialMT-48\"/>\n     <use x=\"111.230469\" xlink:href=\"#ArialMT-95\"/>\n     <use x=\"166.845703\" xlink:href=\"#ArialMT-50\"/>\n     <use x=\"222.460938\" xlink:href=\"#ArialMT-95\"/>\n     <use x=\"278.076172\" xlink:href=\"#ArialMT-57\"/>\n     <use x=\"333.691406\" xlink:href=\"#ArialMT-48\"/>\n     <use x=\"389.306641\" xlink:href=\"#ArialMT-46\"/>\n     <use x=\"417.089844\" xlink:href=\"#ArialMT-48\"/>\n    </g>\n   </g>\n   <g id=\"text_19\">\n    <!-- 20_2_0.0 -->\n    <g style=\"fill:#262626;\" transform=\"translate(74.631676 421.653818)scale(0.12 -0.12)\">\n     <use xlink:href=\"#ArialMT-50\"/>\n     <use x=\"55.615234\" xlink:href=\"#ArialMT-48\"/>\n     <use x=\"111.230469\" xlink:href=\"#ArialMT-95\"/>\n     <use x=\"166.845703\" xlink:href=\"#ArialMT-50\"/>\n     <use x=\"222.460938\" xlink:href=\"#ArialMT-95\"/>\n     <use x=\"278.076172\" xlink:href=\"#ArialMT-48\"/>\n     <use x=\"333.691406\" xlink:href=\"#ArialMT-46\"/>\n     <use x=\"361.474609\" xlink:href=\"#ArialMT-48\"/>\n    </g>\n   </g>\n   <g id=\"text_20\">\n    <!-- 20_2_45.0 -->\n    <g style=\"fill:#262626;\" transform=\"translate(102.919194 409.793455)scale(0.12 -0.12)\">\n     <use xlink:href=\"#ArialMT-50\"/>\n     <use x=\"55.615234\" xlink:href=\"#ArialMT-48\"/>\n     <use x=\"111.230469\" xlink:href=\"#ArialMT-95\"/>\n     <use x=\"166.845703\" xlink:href=\"#ArialMT-50\"/>\n     <use x=\"222.460938\" xlink:href=\"#ArialMT-95\"/>\n     <use x=\"278.076172\" xlink:href=\"#ArialMT-52\"/>\n     <use x=\"333.691406\" xlink:href=\"#ArialMT-53\"/>\n     <use x=\"389.306641\" xlink:href=\"#ArialMT-46\"/>\n     <use x=\"417.089844\" xlink:href=\"#ArialMT-48\"/>\n    </g>\n   </g>\n   <g id=\"text_21\">\n    <!-- 10_2_90.0 -->\n    <g style=\"fill:#262626;\" transform=\"translate(340.844929 299.096727)scale(0.12 -0.12)\">\n     <use xlink:href=\"#ArialMT-49\"/>\n     <use x=\"55.615234\" xlink:href=\"#ArialMT-48\"/>\n     <use x=\"111.230469\" xlink:href=\"#ArialMT-95\"/>\n     <use x=\"166.845703\" xlink:href=\"#ArialMT-50\"/>\n     <use x=\"222.460938\" xlink:href=\"#ArialMT-95\"/>\n     <use x=\"278.076172\" xlink:href=\"#ArialMT-57\"/>\n     <use x=\"333.691406\" xlink:href=\"#ArialMT-48\"/>\n     <use x=\"389.306641\" xlink:href=\"#ArialMT-46\"/>\n     <use x=\"417.089844\" xlink:href=\"#ArialMT-48\"/>\n    </g>\n   </g>\n   <g id=\"text_22\">\n    <!-- 10_2_0.0 -->\n    <g style=\"fill:#262626;\" transform=\"translate(328.341125 298.108364)scale(0.12 -0.12)\">\n     <use xlink:href=\"#ArialMT-49\"/>\n     <use x=\"55.615234\" xlink:href=\"#ArialMT-48\"/>\n     <use x=\"111.230469\" xlink:href=\"#ArialMT-95\"/>\n     <use x=\"166.845703\" xlink:href=\"#ArialMT-50\"/>\n     <use x=\"222.460938\" xlink:href=\"#ArialMT-95\"/>\n     <use x=\"278.076172\" xlink:href=\"#ArialMT-48\"/>\n     <use x=\"333.691406\" xlink:href=\"#ArialMT-46\"/>\n     <use x=\"361.474609\" xlink:href=\"#ArialMT-48\"/>\n    </g>\n   </g>\n   <g id=\"text_23\">\n    <!-- 20_4_90.0 -->\n    <g style=\"fill:#262626;\" transform=\"translate(251.614376 293.496)scale(0.12 -0.12)\">\n     <use xlink:href=\"#ArialMT-50\"/>\n     <use x=\"55.615234\" xlink:href=\"#ArialMT-48\"/>\n     <use x=\"111.230469\" xlink:href=\"#ArialMT-95\"/>\n     <use x=\"166.845703\" xlink:href=\"#ArialMT-52\"/>\n     <use x=\"222.460938\" xlink:href=\"#ArialMT-95\"/>\n     <use x=\"278.076172\" xlink:href=\"#ArialMT-57\"/>\n     <use x=\"333.691406\" xlink:href=\"#ArialMT-48\"/>\n     <use x=\"389.306641\" xlink:href=\"#ArialMT-46\"/>\n     <use x=\"417.089844\" xlink:href=\"#ArialMT-48\"/>\n    </g>\n   </g>\n   <g id=\"text_24\">\n    <!-- 20_4_45.0 -->\n    <g style=\"fill:#262626;\" transform=\"translate(260.164772 286.906909)scale(0.12 -0.12)\">\n     <use xlink:href=\"#ArialMT-50\"/>\n     <use x=\"55.615234\" xlink:href=\"#ArialMT-48\"/>\n     <use x=\"111.230469\" xlink:href=\"#ArialMT-95\"/>\n     <use x=\"166.845703\" xlink:href=\"#ArialMT-52\"/>\n     <use x=\"222.460938\" xlink:href=\"#ArialMT-95\"/>\n     <use x=\"278.076172\" xlink:href=\"#ArialMT-52\"/>\n     <use x=\"333.691406\" xlink:href=\"#ArialMT-53\"/>\n     <use x=\"389.306641\" xlink:href=\"#ArialMT-46\"/>\n     <use x=\"417.089844\" xlink:href=\"#ArialMT-48\"/>\n    </g>\n   </g>\n   <g id=\"text_25\">\n    <!-- 20_4_0.0 -->\n    <g style=\"fill:#262626;\" transform=\"translate(244.305873 285.259636)scale(0.12 -0.12)\">\n     <use xlink:href=\"#ArialMT-50\"/>\n     <use x=\"55.615234\" xlink:href=\"#ArialMT-48\"/>\n     <use x=\"111.230469\" xlink:href=\"#ArialMT-95\"/>\n     <use x=\"166.845703\" xlink:href=\"#ArialMT-52\"/>\n     <use x=\"222.460938\" xlink:href=\"#ArialMT-95\"/>\n     <use x=\"278.076172\" xlink:href=\"#ArialMT-48\"/>\n     <use x=\"333.691406\" xlink:href=\"#ArialMT-46\"/>\n     <use x=\"361.474609\" xlink:href=\"#ArialMT-48\"/>\n    </g>\n   </g>\n   <g id=\"text_26\">\n    <!-- 10_2_45.0 -->\n    <g style=\"fill:#262626;\" transform=\"translate(365.69327 280.976727)scale(0.12 -0.12)\">\n     <use xlink:href=\"#ArialMT-49\"/>\n     <use x=\"55.615234\" xlink:href=\"#ArialMT-48\"/>\n     <use x=\"111.230469\" xlink:href=\"#ArialMT-95\"/>\n     <use x=\"166.845703\" xlink:href=\"#ArialMT-50\"/>\n     <use x=\"222.460938\" xlink:href=\"#ArialMT-95\"/>\n     <use x=\"278.076172\" xlink:href=\"#ArialMT-52\"/>\n     <use x=\"333.691406\" xlink:href=\"#ArialMT-53\"/>\n     <use x=\"389.306641\" xlink:href=\"#ArialMT-46\"/>\n     <use x=\"417.089844\" xlink:href=\"#ArialMT-48\"/>\n    </g>\n   </g>\n   <g id=\"text_27\">\n    <!-- 10_4_90.0 -->\n    <g style=\"fill:#262626;\" transform=\"translate(683.358949 33.226909)scale(0.12 -0.12)\">\n     <use xlink:href=\"#ArialMT-49\"/>\n     <use x=\"55.615234\" xlink:href=\"#ArialMT-48\"/>\n     <use x=\"111.230469\" xlink:href=\"#ArialMT-95\"/>\n     <use x=\"166.845703\" xlink:href=\"#ArialMT-52\"/>\n     <use x=\"222.460938\" xlink:href=\"#ArialMT-95\"/>\n     <use x=\"278.076172\" xlink:href=\"#ArialMT-57\"/>\n     <use x=\"333.691406\" xlink:href=\"#ArialMT-48\"/>\n     <use x=\"389.306641\" xlink:href=\"#ArialMT-46\"/>\n     <use x=\"417.089844\" xlink:href=\"#ArialMT-48\"/>\n    </g>\n   </g>\n   <g id=\"text_28\">\n    <!-- 10_4_0.0 -->\n    <g style=\"fill:#262626;\" transform=\"translate(657.491026 32.238545)scale(0.12 -0.12)\">\n     <use xlink:href=\"#ArialMT-49\"/>\n     <use x=\"55.615234\" xlink:href=\"#ArialMT-48\"/>\n     <use x=\"111.230469\" xlink:href=\"#ArialMT-95\"/>\n     <use x=\"166.845703\" xlink:href=\"#ArialMT-52\"/>\n     <use x=\"222.460938\" xlink:href=\"#ArialMT-95\"/>\n     <use x=\"278.076172\" xlink:href=\"#ArialMT-48\"/>\n     <use x=\"333.691406\" xlink:href=\"#ArialMT-46\"/>\n     <use x=\"361.474609\" xlink:href=\"#ArialMT-48\"/>\n    </g>\n   </g>\n   <g id=\"text_29\">\n    <!-- 10_4_45.0 -->\n    <g style=\"fill:#262626;\" transform=\"translate(677.135315 26.967273)scale(0.12 -0.12)\">\n     <use xlink:href=\"#ArialMT-49\"/>\n     <use x=\"55.615234\" xlink:href=\"#ArialMT-48\"/>\n     <use x=\"111.230469\" xlink:href=\"#ArialMT-95\"/>\n     <use x=\"166.845703\" xlink:href=\"#ArialMT-52\"/>\n     <use x=\"222.460938\" xlink:href=\"#ArialMT-95\"/>\n     <use x=\"278.076172\" xlink:href=\"#ArialMT-52\"/>\n     <use x=\"333.691406\" xlink:href=\"#ArialMT-53\"/>\n     <use x=\"389.306641\" xlink:href=\"#ArialMT-46\"/>\n     <use x=\"417.089844\" xlink:href=\"#ArialMT-48\"/>\n    </g>\n   </g>\n  </g>\n </g>\n <defs>\n  <clipPath id=\"p587d6278c8\">\n   <rect height=\"434.88\" width=\"669.6\" x=\"44.195312\" y=\"7.2\"/>\n  </clipPath>\n </defs>\n</svg>\n",
      "image/png": "[encoded data removed]"
     },
     "metadata": {}
    }
   ],
   "source": [
    "fig, ax = plt.subplots(figsize=(12, 8))\n",
    "ax.scatter(discovery_time[\"mean_time\"], discovery_time[\"discovered_pct\"])\n",
    "ax.set_xlabel(\"time\")\n",
    "ax.set_ylabel(\"discovery %\")\n",
    "for i, txt in enumerate(discovery_time.index.values):\n",
    "    ax.annotate(txt, (discovery_time[\"mean_time\"][i], discovery_time[\"discovered_pct\"][i]))"
   ]
  },
  {
   "cell_type": "code",
   "execution_count": 70,
   "metadata": {},
   "outputs": [],
   "source": [
    "# 50 x 5 = 250 clusters per coverage_config_id\n",
    "discovered_artifacts = all_results.loc[all_results[\"discovery_prob\"].notna(), :]\n",
    "\n",
    "\n",
    "# discovered_artifacts.groupby([\"coverage_config_id\", \"assemblage_config_id\"]).agg(clusters_discovered = pd.NamedAgg(\"cluster_id\", \"nunique\")).sort_values(by=\"clusters_discovered\")"
   ]
  },
  {
   "cell_type": "code",
   "execution_count": null,
   "metadata": {},
   "outputs": [],
   "source": []
  },
  {
   "cell_type": "code",
   "execution_count": null,
   "metadata": {},
   "outputs": [],
   "source": []
  },
  {
   "cell_type": "code",
   "execution_count": null,
   "metadata": {},
   "outputs": [],
   "source": [
    "[k for k, val in surveys.items() if \"5_5_90.0\" in k]"
   ]
  },
  {
   "cell_type": "code",
   "execution_count": null,
   "metadata": {
    "tags": []
   },
   "outputs": [],
   "source": [
    "print(s.name.split(\"_\"))\n",
    "s.discovery.groupby(\"cluster\").agg(discovered = pd.NamedAgg(\"discovery_prob\", \"sum\"))"
   ]
  },
  {
   "cell_type": "code",
   "execution_count": null,
   "metadata": {},
   "outputs": [],
   "source": []
  },
  {
   "cell_type": "code",
   "execution_count": null,
   "metadata": {},
   "outputs": [],
   "source": []
  },
  {
   "cell_type": "code",
   "execution_count": null,
   "metadata": {},
   "outputs": [],
   "source": [
    "# Make random point clusters\n",
    "# Set box to slightly less than Area to help ensure all points are within Area\n",
    "points, clusters = make_blobs(n_samples=40, centers=5, cluster_std=20, center_box=(25, 975))    \n",
    "\n",
    "geo_points = gpd.points_from_xy(points.T[0], points.T[1])  # convert to shapely Points\n",
    "point_features = []  # list to store Features\n",
    "for idx, point in enumerate(geo_points):\n",
    "    # create Feature objects from shapely Points\n",
    "    feature = prospect.Feature(name=f\"point_{idx}_cluster_{clusters[idx]}\", layer_name=\"sparse_clusters\", shape=point)\n",
    "    point_features.append(feature)\n",
    "\n",
    "# Make Layer from Feature objects\n",
    "sparse_layer = prospect.Layer(name=\"sparse_layer\", area=area, assemblage_name=\"sparse_assemblage\", input_features=point_features)\n",
    "sparse_layer.df[\"cluster\"] = clusters  # add an arbitrary column to keep track of cluster\n",
    "sparse_assemblage = prospect.Assemblage(name=\"sparse_assemblage\", area_name=\"area\", layer_list=[sparse_layer])"
   ]
  },
  {
   "cell_type": "code",
   "execution_count": null,
   "metadata": {},
   "outputs": [],
   "source": [
    "sparse_assemblage.df.head()"
   ]
  },
  {
   "cell_type": "code",
   "execution_count": null,
   "metadata": {},
   "outputs": [],
   "source": []
  },
  {
   "cell_type": "code",
   "execution_count": null,
   "metadata": {},
   "outputs": [],
   "source": []
  },
  {
   "cell_type": "code",
   "execution_count": null,
   "metadata": {},
   "outputs": [],
   "source": []
  },
  {
   "cell_type": "code",
   "execution_count": null,
   "metadata": {},
   "outputs": [],
   "source": []
  },
  {
   "cell_type": "code",
   "execution_count": null,
   "metadata": {},
   "outputs": [],
   "source": []
  },
  {
   "cell_type": "code",
   "execution_count": null,
   "metadata": {},
   "outputs": [],
   "source": []
  },
  {
   "cell_type": "code",
   "execution_count": null,
   "metadata": {
    "tags": []
   },
   "outputs": [],
   "source": [
    "# parent_rates = [0.00001, 0.00005]\n",
    "# max_child_rates = [12, 25]\n",
    "# gaussian_variances = [10, 25, 50]\n",
    "\n",
    "# assemblage_param_sets = itertools.product(*[parent_rates, max_child_rates, gaussian_variances])\n",
    "\n",
    "# assemblages = []\n",
    "\n",
    "# for parent_rate, max_child_rate, gaussian_variance in assemblage_param_sets:\n",
    "#     class_a_layer = prospect.Layer.from_thomas_points(\n",
    "#         parent_rate=parent_rate,\n",
    "#         child_rate=max_child_rate,\n",
    "#         gauss_var=gaussian_variance, \n",
    "#         name=f\"layer_A\", \n",
    "#         area=area,\n",
    "#         assemblage_name=f\"assemblage_{parent_rate}_{max_child_rate}_{gaussian_variance}\", \n",
    "#         time_penalty=0.0, \n",
    "#         ideal_obs_rate=1.0\n",
    "#     )\n",
    "\n",
    "#     class_b_layer = prospect.Layer.from_thomas_points(\n",
    "#         parent_rate=parent_rate,\n",
    "#         child_rate=max_child_rate - 2,\n",
    "#         gauss_var=gaussian_variance, \n",
    "#         name=f\"layer_B\", \n",
    "#         area=area, \n",
    "#         assemblage_name=f\"assemblage_{parent_rate}_{max_child_rate}_{gaussian_variance}\", \n",
    "#         time_penalty=0.0, \n",
    "#         ideal_obs_rate=1.0\n",
    "#     )\n",
    "\n",
    "#     class_c_layer = prospect.Layer.from_thomas_points(\n",
    "#         parent_rate=parent_rate,\n",
    "#         child_rate=max_child_rate - 4,\n",
    "#         gauss_var=gaussian_variance, \n",
    "#         name=f\"layer_C\", \n",
    "#         area=area, \n",
    "#         assemblage_name=f\"assemblage_{parent_rate}_{max_child_rate}_{gaussian_variance}\", \n",
    "#         time_penalty=0.0, \n",
    "#         ideal_obs_rate=1.0\n",
    "#     )\n",
    "\n",
    "#     class_d_layer = prospect.Layer.from_thomas_points(\n",
    "#         parent_rate=parent_rate,\n",
    "#         child_rate=max_child_rate - 6,\n",
    "#         gauss_var=gaussian_variance, \n",
    "#         name=f\"layer_D\", \n",
    "#         area=area, \n",
    "#         assemblage_name=f\"assemblage_{parent_rate}_{max_child_rate}_{gaussian_variance}\", \n",
    "#         time_penalty=0.0, \n",
    "#         ideal_obs_rate=1.0\n",
    "#     )\n",
    "\n",
    "#     class_e_layer = prospect.Layer.from_thomas_points(\n",
    "#         parent_rate=parent_rate,\n",
    "#         child_rate=max_child_rate - 8,\n",
    "#         gauss_var=gaussian_variance, \n",
    "#         name=f\"layer_E\", \n",
    "#         area=area, \n",
    "#         assemblage_name=f\"assemblage_{parent_rate}_{max_child_rate}_{gaussian_variance}\", \n",
    "#         time_penalty=0.0, \n",
    "#         ideal_obs_rate=1.0\n",
    "#     )\n",
    "\n",
    "#     class_f_layer = prospect.Layer.from_thomas_points(\n",
    "#         parent_rate=parent_rate,\n",
    "#         child_rate=max_child_rate - 10,\n",
    "#         gauss_var=gaussian_variance, \n",
    "#         name=f\"layer_F\", \n",
    "#         area=area, \n",
    "#         assemblage_name=f\"assemblage_{parent_rate}_{max_child_rate}_{gaussian_variance}\", \n",
    "#         time_penalty=0.0, \n",
    "#         ideal_obs_rate=1.0\n",
    "#     )\n",
    "\n",
    "#     layers = [class_a_layer, class_b_layer, class_c_layer, class_d_layer, class_e_layer, class_f_layer]\n",
    "\n",
    "#     # Add layers to `Assemblage`\n",
    "#     assemblage = prospect.Assemblage(\n",
    "#         name=f\"assemblage_{parent_rate}_{max_child_rate}_{gaussian_variance}\", \n",
    "#         area_name=\"area\", \n",
    "#         layer_list=layers\n",
    "#     )\n",
    "    \n",
    "#     assemblages.append(assemblage)"
   ]
  },
  {
   "cell_type": "code",
   "execution_count": null,
   "metadata": {},
   "outputs": [],
   "source": [
    "# EXAMPLE\n",
    "\n",
    "# artifact_class_counts = get_class_sizes(assemblage.df, class_col=\"layer_name\")\n",
    "\n",
    "# DiversityMeasureResult(\n",
    "#     richness_S = richness(artifact_class_counts),\n",
    "#     shannon_diversity_index_H = shannon_diversity_index(artifact_class_counts),\n",
    "#     shannon_evenness_EH = shannon_evennness(artifact_class_counts),\n",
    "#     simpsons_diversity_index_D = simpsons_diversity_index(artifact_class_counts),\n",
    "#     simpsons_equitability_ED = simpsons_equitability(artifact_class_counts),\n",
    "# )"
   ]
  },
  {
   "cell_type": "markdown",
   "metadata": {},
   "source": [
    "- What is the density of this assemblage?\n",
    "- What is the diversity of this assemblage?\n",
    "    - N classes\n",
    "    - Size of classes\n",
    "    - Rank order of classes"
   ]
  },
  {
   "cell_type": "markdown",
   "metadata": {},
   "source": [
    "## Create a range of `Coverage` approaches\n",
    "\n",
    "These are all transect-based `Coverage` definitions. They vary in spacing between transects and the width of the surveyor's scan (`sweep_width`)"
   ]
  },
  {
   "cell_type": "code",
   "execution_count": null,
   "metadata": {},
   "outputs": [],
   "source": [
    "# Create a bunch of transect Coverage configurations\n",
    "spacings = [5, 10, 20]\n",
    "sweep_widths = [2, 5]\n",
    "orientations = [0.0, 45.0, 90.0]\n",
    "\n",
    "coverage_param_sets = itertools.product(*[spacings, sweep_widths, orientations])\n",
    "\n",
    "coverages = []\n",
    "\n",
    "for spacing, sweep_width, orientation in coverage_param_sets:\n",
    "    coverage = prospect.Coverage.from_transects(\n",
    "        name=f\"coverage_{spacing}_{sweep_width}_{orientation}\",\n",
    "        area=area, \n",
    "        spacing=spacing,\n",
    "        sweep_width=sweep_width,\n",
    "        orientation=orientation\n",
    "    )\n",
    "\n",
    "    coverages.append(coverage)"
   ]
  },
  {
   "cell_type": "code",
   "execution_count": null,
   "metadata": {},
   "outputs": [],
   "source": [
    "surveyor = prospect.Surveyor\n",
    "team = prospect.Team()\n",
    "\n",
    "# Create a bunch of transect Coverage configurations\n",
    "spacings = [5, 10, 20]\n",
    "sweep_widths = [2, 5]\n",
    "orientations = [0.0, 45.0, 90.0]\n",
    "\n",
    "coverage_param_sets = itertools.product(*[spacings, sweep_widths, orientations])\n",
    "\n",
    "coverages = []\n",
    "\n",
    "for spacing, sweep_width, orientation in coverage_param_sets:\n",
    "    coverage = prospect.Coverage.from_transects(\n",
    "        name=f\"coverage_{spacing}_{sweep_width}_{orientation}\",\n",
    "        area=area, \n",
    "        spacing=spacing,\n",
    "        sweep_width=sweep_width,\n",
    "        orientation=orientation\n",
    "    )\n",
    "\n",
    "    coverages.append(coverage)\n",
    "\n",
    "for i in range(10):  # run all coverages with 10 different Assemblages\n",
    "    # Make random point clusters\n",
    "    # Set box to slightly less than Area to help ensure all points are within Area\n",
    "    points, clusters = make_blobs(n_samples=40, centers=5, cluster_std=20, center_box=(25, 975))    \n",
    "\n",
    "    geo_points = gpd.points_from_xy(points.T[0], points.T[1])  # convert to shapely Points\n",
    "    point_features = []  # list to store Features\n",
    "    for idx, point in enumerate(geo_points):\n",
    "        # create Feature objects from shapely Points\n",
    "        feature = prospect.Feature(name=f\"run_{i}_point_{idx}_cluster_{clusters[idx]}\", layer_name=\"sparse_clusters\", shape=point)\n",
    "        point_features.append(feature)\n",
    "\n",
    "    # Make Layer from Feature objects\n",
    "    sparse_layer = prospect.Layer(name=\"sparse_layer\", area=area, assemblage_name=\"sparse_assemblage\", input_features=point_features)\n",
    "    sparse_layer.df[\"cluster\"] = clusters  # add an arbitrary column to keep track of cluster\n",
    "    sparse_assemblage = prospect.Assemblage(name=f\"sparse_assemblage_{i}\", area_name=\"area\", layer_list=[sparse_layer])\n",
    "    \n",
    "    for coverage in coverages:\n",
    "        survey = prospect.Survey(name=f\"survey_{i}_coverage_{coverage.name}\", area=area, assemblage=sparse_assemblage, coverage=coverage, team=team)"
   ]
  },
  {
   "cell_type": "code",
   "execution_count": null,
   "metadata": {},
   "outputs": [],
   "source": [
    "coverages"
   ]
  },
  {
   "cell_type": "markdown",
   "metadata": {},
   "source": [
    "## Combine `Assemblage` and `Coverage` sets"
   ]
  },
  {
   "cell_type": "markdown",
   "metadata": {},
   "source": [
    "## Run simulations"
   ]
  },
  {
   "cell_type": "code",
   "execution_count": null,
   "metadata": {
    "tags": []
   },
   "outputs": [],
   "source": [
    "ac_combos = itertools.product(*[assemblages, coverages])\n",
    "\n",
    "survey_results = []\n",
    "\n",
    "for assemblage, coverage in tqdm(ac_combos):\n",
    "    survey_name = f\"survey_{assemblage.name}_{coverage.name}\"\n",
    "\n",
    "    survey = prospect.Survey(\n",
    "        name=survey_name, \n",
    "        area=area,\n",
    "        assemblage=assemblage, \n",
    "        coverage=coverage,\n",
    "        team=team\n",
    "    )\n",
    "\n",
    "    survey.run(n_runs=10)\n",
    "    survey_results.append(survey)"
   ]
  },
  {
   "cell_type": "code",
   "execution_count": null,
   "metadata": {},
   "outputs": [],
   "source": [
    "def get_density(artifacts_df, area_df):\n",
    "    return artifacts_df.shape[0] / area_df.area\n",
    "\n",
    "def get_class_sizes(artifacts_df, class_col=\"layer_name\"):\n",
    "    return artifacts_df[class_col].value_counts()\n",
    "\n",
    "def richness(abundances: pd.Series):\n",
    "    return abundances.shape[0]\n",
    "\n",
    "def shannon_diversity_index(abundances: pd.Series):\n",
    "    p = abundances / abundances.sum()\n",
    "    h = -1 * np.sum(p * np.log(p))\n",
    "    return h\n",
    "\n",
    "def shannon_evennness(abundances: pd.Series):\n",
    "    h = shannon_diversity_index(abundances)\n",
    "    eh = h / np.log(richness(abundances))\n",
    "    return eh\n",
    "\n",
    "def simpsons_diversity_index(abundances: pd.Series):\n",
    "    p = abundances / abundances.sum()\n",
    "    d = 1 / np.sum(p ** 2)\n",
    "    return d\n",
    "\n",
    "def simpsons_equitability(abundances: pd.Series):\n",
    "    d = simpsons_diversity_index(abundances)\n",
    "    ed = d * (1 / len(abundances))\n",
    "    return ed\n",
    "\n",
    "def calculate_diversity_measures(df):\n",
    "    abundances = get_class_sizes(df, class_col=\"layer_name\")\n",
    "    S = richness(abundances)\n",
    "    h = shannon_diversity_index(abundances)\n",
    "    eh = shannon_evennness(abundances)\n",
    "    d = simpsons_diversity_index(abundances)\n",
    "    ed = simpsons_equitability(abundances)\n",
    "    return S, h, eh, d, ed"
   ]
  },
  {
   "cell_type": "code",
   "execution_count": null,
   "metadata": {},
   "outputs": [],
   "source": [
    "survey_results[0].discovery"
   ]
  },
  {
   "cell_type": "code",
   "execution_count": null,
   "metadata": {},
   "outputs": [],
   "source": [
    "\n",
    "diversity = []\n",
    "\n",
    "for survey in survey_results:\n",
    "    # calculate diversity indices of original assemblage\n",
    "    original_diversity = calculate_diversity_measures(survey.assemblage.df)  # tuple len==5\n",
    "\n",
    "    discovery = survey.discovery.copy()\n",
    "    # merge layer_name\n",
    "    discovery = discovery.merge(survey.assemblage.df.loc[:, [\"feature_name\", \"layer_name\"]], how=\"left\", on=\"feature_name\")\n",
    "    # drop discovery_probability == NaN\n",
    "    discovery = discovery[discovery[\"discovery_prob\"].notna()]\n",
    "        \n",
    "    # calculate the diversity indices again\n",
    "    posterior_diversity = calculate_diversity_measures(discovery)\n",
    "\n",
    "    # stitch it all back together\n",
    "    diversity_df = pd.DataFrame({\"survey_name\":survey.name, \"diversity_index\": [\"richness\", \"shannon_diversity\", \"shannon_evenness\", \"simpsons_diversity\", \"simpsons_equitability\"], \"original\":original_diversity, \"posterior\":posterior_diversity})\n",
    "    diversity_df[\"delta\"] = diversity_df[\"posterior\"] - diversity_df[\"original\"]\n",
    "    diversity.append(diversity_df)\n",
    "\n",
    "\n",
    "diversity_measures = pd.concat(diversity)"
   ]
  },
  {
   "cell_type": "code",
   "execution_count": null,
   "metadata": {},
   "outputs": [],
   "source": [
    "# pd.DataFrame.from_records(diversity)"
   ]
  },
  {
   "cell_type": "code",
   "execution_count": null,
   "metadata": {},
   "outputs": [],
   "source": [
    "diversity_measures.head(15)"
   ]
  },
  {
   "cell_type": "code",
   "execution_count": null,
   "metadata": {},
   "outputs": [],
   "source": [
    "import altair as alt\n",
    "\n",
    "alt.Chart(diversity_measures).mark_bar().encode(\n",
    "    x=alt.X(\"delta:Q\", bin=True),\n",
    "    y=\"count()\",\n",
    "    row=alt.Row(\"diversity_index:N\")\n",
    ")"
   ]
  },
  {
   "cell_type": "code",
   "execution_count": null,
   "metadata": {},
   "outputs": [],
   "source": []
  },
  {
   "cell_type": "markdown",
   "metadata": {},
   "source": [
    "## Define some measures of diversity"
   ]
  },
  {
   "cell_type": "code",
   "execution_count": null,
   "metadata": {},
   "outputs": [],
   "source": [
    "for a in assemblages:\n",
    "    a.df[\"assemblage\"] = a.name\n",
    "artifacts_presurvey = pd.concat([a.df for a in assemblages])\n",
    "artifacts_presurvey"
   ]
  },
  {
   "cell_type": "code",
   "execution_count": null,
   "metadata": {},
   "outputs": [],
   "source": [
    "presurvey_groups = artifacts_presurvey.groupby(\"assemblage\").apply(calculate_diversity_measures).to_frame()\n",
    "presurvey_groups"
   ]
  },
  {
   "cell_type": "code",
   "execution_count": null,
   "metadata": {},
   "outputs": [],
   "source": [
    "presurvey_groups[[\"richness\", \"shannon_diversity\", \"shannon_evenness\", \"simpsons_diversity\", \"simpsons_equitability\"]] = pd.DataFrame(presurvey_groups[0].tolist(), index=presurvey_groups.index)\n",
    "presurvey_groups = presurvey_groups.drop(columns=0)"
   ]
  },
  {
   "cell_type": "code",
   "execution_count": null,
   "metadata": {},
   "outputs": [],
   "source": [
    "presurvey_groups"
   ]
  },
  {
   "cell_type": "code",
   "execution_count": null,
   "metadata": {},
   "outputs": [],
   "source": [
    "results[\"layer_name\"] = results[\"feature_name\"].str[0:-2]\n",
    "results[\"assemblage\"] = results[\"survey_name\"].str[7:29]"
   ]
  },
  {
   "cell_type": "code",
   "execution_count": null,
   "metadata": {},
   "outputs": [],
   "source": [
    "results.head()"
   ]
  },
  {
   "cell_type": "code",
   "execution_count": null,
   "metadata": {},
   "outputs": [],
   "source": [
    "finds = results.loc[results[\"discovery_prob\"].notna()]"
   ]
  },
  {
   "cell_type": "code",
   "execution_count": null,
   "metadata": {},
   "outputs": [],
   "source": [
    "survey_groups = finds.groupby(\"survey_name\").apply(calculate_diversity_measures).to_frame()"
   ]
  },
  {
   "cell_type": "code",
   "execution_count": null,
   "metadata": {},
   "outputs": [],
   "source": [
    "# df[['b1', 'b2']] = pd.DataFrame(df['b'].tolist(), index=df.index)\n",
    "    # h = shannon_diversity_index(abundances)\n",
    "    # eh = shannon_evennness(abundances)\n",
    "    # d = simpsons_diversity_index(abundances)\n",
    "    # ed = simpsons_equitability(abundances)\n",
    "\n",
    "survey_groups[[\"richness\", \"shannon_diversity\", \"shannon_evenness\", \"simpsons_diversity\", \"simpsons_equitability\"]] = pd.DataFrame(survey_groups[0].tolist(), index=survey_groups.index)\n",
    "survey_groups = survey_groups.drop(columns=0)"
   ]
  },
  {
   "cell_type": "code",
   "execution_count": null,
   "metadata": {},
   "outputs": [],
   "source": [
    "survey_groups"
   ]
  },
  {
   "cell_type": "code",
   "execution_count": null,
   "metadata": {},
   "outputs": [],
   "source": [
    "original_diversity = "
   ]
  },
  {
   "cell_type": "markdown",
   "metadata": {},
   "source": [
    "## Parse results"
   ]
  },
  {
   "cell_type": "code",
   "execution_count": null,
   "metadata": {},
   "outputs": [],
   "source": []
  },
  {
   "cell_type": "code",
   "execution_count": null,
   "metadata": {},
   "outputs": [],
   "source": [
    "\n",
    "\n",
    "# @dataclass\n",
    "# class DiversityMeasureResult:\n",
    "#     richness_S: int\n",
    "#     shannon_diversity_index_H: float\n",
    "#     shannon_evenness_EH: float\n",
    "#     simpsons_diversity_index_D: float\n",
    "#     simpsons_equitability_ED: float\n"
   ]
  }
 ],
 "metadata": {
  "language_info": {
   "codemirror_mode": {
    "name": "ipython",
    "version": 3
   },
   "file_extension": ".py",
   "mimetype": "text/x-python",
   "name": "python",
   "nbconvert_exporter": "python",
   "pygments_lexer": "ipython3",
   "version": "3.7.6-final"
  },
  "orig_nbformat": 2,
  "kernelspec": {
   "name": "python_defaultSpec_1596515554754",
   "display_name": "Python 3.7.6 64-bit ('prospect': conda)"
  }
 },
 "nbformat": 4,
 "nbformat_minor": 2
}