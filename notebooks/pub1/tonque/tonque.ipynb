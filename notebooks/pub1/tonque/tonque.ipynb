{
 "cells": [
  {
   "cell_type": "markdown",
   "metadata": {},
   "source": [
    "# Tonque survey simulations\n",
    "\n",
    "This notebook recreates the Tonque experimental survey reported in \n",
    "\n",
    ">Wandsnider, L., Camilli, E.L., 1992. The Character of Surface Archaeological Deposits and Its Influence on Survey Accuracy. J. Field Archaeol. 19, 169–188. https://doi.org/10.2307/529977 \n",
    "\n",
    "I use the `prospect` Python package to simulate the survey under multiple scenarios. The simulations have already been run and saved to disk, so those can be loaded to explore existing results. \n",
    "\n",
    "If you'd like to experiment with changes, you can set the variables that start `LOAD_* = None` to re-run the full simulations. "
   ]
  },
  {
   "cell_type": "code",
   "execution_count": 1,
   "metadata": {},
   "outputs": [],
   "source": [
    "import pickle\n",
    "from typing import List\n",
    "\n",
    "import numpy as np \n",
    "import matplotlib.pyplot as plt\n",
    "import pandas as pd\n",
    "import prospect\n",
    "import seaborn as sns\n",
    "from mpl_toolkits.axes_grid1.anchored_artists import AnchoredSizeBar\n",
    "from tqdm.notebook import tqdm, trange"
   ]
  },
  {
   "cell_type": "code",
   "execution_count": 2,
   "metadata": {},
   "outputs": [],
   "source": [
    "sns.set_style(\"white\")\n",
    "sns.set_context(\"notebook\")"
   ]
  },
  {
   "cell_type": "markdown",
   "metadata": {},
   "source": [
    "## Functions to run a \"perfect\" version of the Tonque survey and calculate some summary statistics"
   ]
  },
  {
   "cell_type": "code",
   "execution_count": 3,
   "metadata": {},
   "outputs": [],
   "source": [
    "def tonque_perfect(\n",
    "    artifact_group: str, \n",
    "    n_seeded_artifacts: int, \n",
    "    n_surveys: int = 1000, \n",
    "    sweep_width: float=2.0\n",
    ") -> List[float]:\n",
    "    \"\"\"Run a full survey with parameters matching the Tonque project\n",
    "    \n",
    "    Parameters\n",
    "    ----------\n",
    "    artifact_group : str\n",
    "        Name of the group, e.g., \"white_large\"\n",
    "    n_seeded_artifacts : int\n",
    "        How many artifacts were seeded from this category\n",
    "    n_surveys : int\n",
    "        Number of surveys to run for each artifact group\n",
    "    sweep_width : float\n",
    "        Distance on one side of the transect. sweep_width * 2 = transect width\n",
    "    \n",
    "    Returns\n",
    "    -------\n",
    "    discovery_fracs : List[float]\n",
    "        A list of length n_surveys where each value is the fraction of seeded \n",
    "        artifacts that were recovered in that one iteration of the survey\n",
    "    \"\"\"\n",
    "    target_poisson_rate = n_seeded_artifacts / 160000\n",
    "\n",
    "    # 400 x 400 meter area\n",
    "    area = prospect.Area.from_area_value(name=\"Tonque\", value=160000, vis=1.0)\n",
    "\n",
    "    # Transects spaced 5 meters apart\n",
    "    coverage = prospect.Coverage.from_transects(\n",
    "        name=\"tonque_transects\", area=area, spacing=5, sweep_width=sweep_width\n",
    "    )\n",
    "\n",
    "    # A single surveyor that finds everything they encounter\n",
    "    surveyor = prospect.Surveyor(\n",
    "        name=\"perfecto\", team_name=\"single_perfect\", surveyor_type=\"expert\", skill=1.0\n",
    "    )\n",
    "    team = prospect.Team(name=\"single_perfect\", surveyor_list=[surveyor])\n",
    "\n",
    "    discovery_fracs = []\n",
    "    for _ in trange(n_surveys):\n",
    "        try:\n",
    "            # Create artifact layer in a loop to guarantee number \n",
    "            # matches Camilli and Wandsnider \n",
    "            n_artifacts = 0\n",
    "            while n_artifacts != n_seeded_artifacts:\n",
    "                artifacts = prospect.Layer.from_poisson_points(\n",
    "                    rate=target_poisson_rate, \n",
    "                    name=f\"{artifact_group}\", \n",
    "                    area=area, \n",
    "                    ideal_obs_rate=1.0\n",
    "                )\n",
    "                n_artifacts = artifacts.df.shape[0]\n",
    "\n",
    "            # Single-layer assemblage\n",
    "            assemblage = prospect.Assemblage(name=\"washers\", layer_list=[artifacts])\n",
    "            # Initialize Survey\n",
    "            survey = prospect.Survey(\n",
    "                name=f\"tonque_{artifact_group}\", \n",
    "                area=area, \n",
    "                assemblage=assemblage, \n",
    "                coverage=coverage, \n",
    "                team=team\n",
    "            )\n",
    "            # Run Survey\n",
    "            n_runs = 1\n",
    "            survey.run(n_runs=n_runs)\n",
    "            # Calculate the fraction of the original seeded artifacts that were found\n",
    "            discovery_fracs.append(\n",
    "                (\n",
    "                    (\n",
    "                        survey.discovery[\"discovery_prob\"] >= 0.9\n",
    "                    ).sum() / n_runs) / artifacts.df.shape[0]\n",
    "            )\n",
    "        except:\n",
    "            discovery_fracs.append(0.0)\n",
    "\n",
    "    return discovery_fracs"
   ]
  },
  {
   "cell_type": "code",
   "execution_count": 4,
   "metadata": {},
   "outputs": [],
   "source": [
    "def tonque_perfect_stats(discovery_fracs: List[float], obs_frac: float) -> None:\n",
    "    \"\"\"Generate some summary statistics for the results of tonque_perfect()\n",
    "    \n",
    "    Parameters\n",
    "    ----------\n",
    "    discovery_fracs : List[float]\n",
    "        List identical to the output of tonque_perfect()\n",
    "    obs_frac : float\n",
    "        Fraction of artifacts recovered by Camilli and Wandsnider\n",
    "    \n",
    "    Returns\n",
    "    -------\n",
    "    None    \n",
    "    \"\"\"\n",
    "    \n",
    "    print(f\"Mean artifacts discovered: {np.mean(discovery_fracs)}\")\n",
    "    print(f\"Std Dev: {np.std(discovery_fracs)}\")\n",
    "    print(f\"Min/Max: {np.min(discovery_fracs)}, {np.max(discovery_fracs)}\")\n",
    "    frac_lte_obs = (\n",
    "        len([val for val in discovery_fracs if val <= obs_frac]) / len(discovery_fracs)\n",
    "    )\n",
    "    print(f\"Fraction of 'perfect' surveys at or below observed: {frac_lte_obs}\\n\")"
   ]
  },
  {
   "cell_type": "code",
   "execution_count": 5,
   "metadata": {},
   "outputs": [],
   "source": [
    "# Color scheme based on ColorBrewer2.org qualitative \"8-class Paired\"\n",
    "AREA_LT_BLUE = \"#a6cee3\"\n",
    "COVERAGE_BLUE = \"#1f78b4\"\n",
    "LAYER_GREEN = {\"facecolor\": \"#33a02c\", \"edgecolor\": \"#b2df8a\"}\n",
    "\n",
    "def tonque_perfect_plot(\n",
    "    artifact_group: str, \n",
    "    n_seeded_artifacts: int, \n",
    "    sweep_width: float=2.0\n",
    ") -> None:\n",
    "    \"\"\"Generate plot of building blocks of the simulation\n",
    "    \n",
    "    Parameters\n",
    "    ----------\n",
    "    artifact_group : str\n",
    "        Name of the group, e.g., \"white_large\"\n",
    "    n_seeded_artifacts : int\n",
    "        How many artifacts were seeded from this category\n",
    "    sweep_width : float\n",
    "        Distance on one side of the transect. sweep_width * 2 = transect width\n",
    "    \n",
    "    Returns\n",
    "    -------\n",
    "    None\n",
    "    \"\"\"\n",
    "    \n",
    "    target_poisson_rate = n_seeded_artifacts / 160000\n",
    "\n",
    "    # 400 x 400 meter area\n",
    "    area = prospect.Area.from_area_value(name=\"Tonque\", value=160000, vis=1.0)\n",
    "\n",
    "    # Transects spaced 5 meters apart\n",
    "    coverage = prospect.Coverage.from_transects(name=\"tonque_transects\", area=area, spacing=5, sweep_width=sweep_width)\n",
    "\n",
    "    # A single surveyor that finds everything they encounter\n",
    "    surveyor = prospect.Surveyor(name=\"perfecto\", team_name=\"single_perfect\", surveyor_type=\"expert\", skill=1.0)\n",
    "    team = prospect.Team(name=\"single_perfect\", surveyor_list=[surveyor])\n",
    "\n",
    "    # Create artifact layer in a loop to guarantee number matches Camilli and Wandsnider \n",
    "    n_artifacts = 0\n",
    "    while n_artifacts != n_seeded_artifacts:\n",
    "        artifacts = prospect.Layer.from_poisson_points(rate=target_poisson_rate, name=f\"{artifact_group}\", area=area, ideal_obs_rate=1.0)\n",
    "        n_artifacts = artifacts.df.shape[0]\n",
    "\n",
    "    # Single-layer assemblage\n",
    "    assemblage = prospect.Assemblage(name=\"washers\", layer_list=[artifacts])\n",
    "\n",
    "    survey = prospect.Survey(name=f\"tonque_{artifact_group}\", area=area, assemblage=assemblage, coverage=coverage, team=team)\n",
    "\n",
    "#     n_runs = 1\n",
    "#     survey.run(n_runs=n_runs)\n",
    "\n",
    "    fig, ax = plt.subplots(2, 2, figsize=(12, 8))\n",
    "\n",
    "    # Area\n",
    "    ax[0][0].set_title(\"Area\", size=\"x-large\", pad=0)\n",
    "    area.df.plot(ax=ax[0][0], color=AREA_LT_BLUE)\n",
    "\n",
    "    # Assemblage\n",
    "    ax[0][1].set_title(\"Assemblage\", size=\"x-large\", pad=0)\n",
    "    area.df.plot(ax=ax[0][1], facecolor=\"none\", edgecolor=AREA_LT_BLUE)\n",
    "    assemblage.df.plot(ax=ax[0][1], facecolor=LAYER_GREEN[\"facecolor\"], edgecolor=LAYER_GREEN[\"edgecolor\"])\n",
    "\n",
    "    # Coverage\n",
    "    ax[1][0].set_title(\"Coverage\", size=\"x-large\", pad=0)\n",
    "    area.df.plot(ax=ax[1][0], facecolor=\"none\", edgecolor=AREA_LT_BLUE)\n",
    "    coverage.df.plot(ax=ax[1][0], color=COVERAGE_BLUE)\n",
    "\n",
    "    # Combined\n",
    "    ax[1][1].set_title(\"Combined\", size=\"x-large\", pad=0)\n",
    "    area.df.plot(ax=ax[1][1], color=AREA_LT_BLUE)\n",
    "    coverage.df.plot(ax=ax[1][1], facecolor=COVERAGE_BLUE, edgecolor=\"none\")\n",
    "    assemblage.df.plot(ax=ax[1][1], facecolor=LAYER_GREEN[\"facecolor\"], edgecolor=LAYER_GREEN[\"edgecolor\"])\n",
    "\n",
    "    scalebar = AnchoredSizeBar(\n",
    "        ax[1][1].transData,\n",
    "        100, \n",
    "        \"100 m\", \n",
    "        \"lower right\", \n",
    "        pad=-0.2,\n",
    "        color=\"black\",\n",
    "        frameon=False,\n",
    "        size_vertical=1)\n",
    "    ax[1][1].add_artist(scalebar)\n",
    "\n",
    "    for sub_ax in fig.axes:\n",
    "        sub_ax.axis(\"off\")\n",
    "    sns.despine(left=True, bottom=True)\n",
    "    plt.tight_layout()"
   ]
  },
  {
   "cell_type": "markdown",
   "metadata": {},
   "source": [
    "## Run an example of a single simulation's building blocks"
   ]
  },
  {
   "cell_type": "code",
   "execution_count": 6,
   "metadata": {},
   "outputs": [
    {
     "data": {
      "image/png": "[encoded data removed]",
      "text/plain": [
       "<Figure size 864x576 with 4 Axes>"
      ]
     },
     "metadata": {},
     "output_type": "display_data"
    }
   ],
   "source": [
    "tonque_perfect_plot(artifact_group=\"white_large\", n_seeded_artifacts=28, sweep_width=1.0)"
   ]
  },
  {
   "cell_type": "markdown",
   "metadata": {},
   "source": [
    "## Set the relevant parameters to match values in Camilli and Wandsnider"
   ]
  },
  {
   "cell_type": "code",
   "execution_count": 7,
   "metadata": {},
   "outputs": [],
   "source": [
    "tonque_configs = [\n",
    "    {\n",
    "        \"artifact_group\": \"white_large\",\n",
    "        \"n_seeded_artifacts\": 28,\n",
    "        \"obs_frac\": 0.71\n",
    "    },\n",
    "    {\n",
    "        \"artifact_group\": \"white_medium\",\n",
    "        \"n_seeded_artifacts\": 43,\n",
    "        \"obs_frac\": 0.47\n",
    "    },\n",
    "    {\n",
    "        \"artifact_group\": \"white_small\",\n",
    "        \"n_seeded_artifacts\": 40,\n",
    "        \"obs_frac\": 0.70\n",
    "    },\n",
    "    {\n",
    "        \"artifact_group\": \"brown_large\",\n",
    "        \"n_seeded_artifacts\": 26,\n",
    "        \"obs_frac\": 0.62\n",
    "    },\n",
    "    {\n",
    "        \"artifact_group\": \"brown_medium\",\n",
    "        \"n_seeded_artifacts\": 44,\n",
    "        \"obs_frac\": 0.30\n",
    "    },\n",
    "    {\n",
    "        \"artifact_group\": \"brown_small\",\n",
    "        \"n_seeded_artifacts\": 43,\n",
    "        \"obs_frac\": 0.23\n",
    "    },\n",
    "    {\n",
    "        \"artifact_group\": \"black_large\",\n",
    "        \"n_seeded_artifacts\": 23,\n",
    "        \"obs_frac\": 0.65\n",
    "    },\n",
    "    {\n",
    "        \"artifact_group\": \"black_medium\",\n",
    "        \"n_seeded_artifacts\": 43,\n",
    "        \"obs_frac\": 0.37\n",
    "    },\n",
    "    {\n",
    "        \"artifact_group\": \"black_small\",\n",
    "        \"n_seeded_artifacts\": 38,\n",
    "        \"obs_frac\": 0.53\n",
    "    },\n",
    "]"
   ]
  },
  {
   "cell_type": "markdown",
   "metadata": {},
   "source": [
    "## 2m transect widths\n",
    "\n",
    "These surveys use 2 meter transect widths (1 meter on each side)"
   ]
  },
  {
   "cell_type": "markdown",
   "metadata": {},
   "source": [
    "### Build and run the surveys (or load from disk)"
   ]
  },
  {
   "cell_type": "code",
   "execution_count": 8,
   "metadata": {},
   "outputs": [],
   "source": [
    "LOAD_FROM_PATH = \"./datasets/tonque_survey_results_2m_transect_width.pkl\"\n",
    "\n",
    "\n",
    "if LOAD_FROM_PATH is not None:\n",
    "    with open(LOAD_FROM_PATH, mode=\"rb\") as tonque_file:\n",
    "        tonque_results_2m = pickle.load(tonque_file)\n",
    "\n",
    "else:\n",
    "    tonque_results_2m = tonque_configs.copy()\n",
    "    for config in tonque_results_2m:\n",
    "        discovery_fracs = tonque_perfect(\n",
    "            artifact_group=config[\"artifact_group\"], \n",
    "            n_seeded_artifacts=config[\"n_seeded_artifacts\"], \n",
    "            n_surveys=2000, \n",
    "            sweep_width=1\n",
    "        )\n",
    "        config[\"discovery_fracs\"] = discovery_fracs\n",
    "    \n",
    "    with open(\"./datasets/tonque_survey_results_2m_transect_width.pkl\", mode=\"wb\") as tonque_file:\n",
    "        pickle.dump(tonque_results_2m, tonque_file)"
   ]
  },
  {
   "cell_type": "code",
   "execution_count": 9,
   "metadata": {},
   "outputs": [
    {
     "data": {
      "text/plain": [
       "dict_keys(['artifact_group', 'n_seeded_artifacts', 'obs_frac', 'discovery_fracs'])"
      ]
     },
     "execution_count": 9,
     "metadata": {},
     "output_type": "execute_result"
    }
   ],
   "source": [
    "tonque_results_2m[0].keys()"
   ]
  },
  {
   "cell_type": "code",
   "execution_count": 10,
   "metadata": {},
   "outputs": [
    {
     "name": "stdout",
     "output_type": "stream",
     "text": [
      "white_large\n",
      "Mean artifacts discovered: 0.40303571428571433\n",
      "Std Dev: 0.09308882498310253\n",
      "Min/Max: 0.07142857142857142, 0.75\n",
      "Fraction of 'perfect' surveys at or below observed: 0.9995\n",
      "\n",
      "white_medium\n",
      "Mean artifacts discovered: 0.40118604651162787\n",
      "Std Dev: 0.07594367201835998\n",
      "Min/Max: 0.16279069767441862, 0.6744186046511628\n",
      "Fraction of 'perfect' surveys at or below observed: 0.843\n",
      "\n",
      "white_small\n",
      "Mean artifacts discovered: 0.3993\n",
      "Std Dev: 0.07940881563151538\n",
      "Min/Max: 0.15, 0.675\n",
      "Fraction of 'perfect' surveys at or below observed: 1.0\n",
      "\n",
      "brown_large\n",
      "Mean artifacts discovered: 0.40069230769230774\n",
      "Std Dev: 0.09808277508936403\n",
      "Min/Max: 0.07692307692307693, 0.7692307692307693\n",
      "Fraction of 'perfect' surveys at or below observed: 0.994\n",
      "\n",
      "brown_medium\n",
      "Mean artifacts discovered: 0.40181818181818174\n",
      "Std Dev: 0.07514311414431654\n",
      "Min/Max: 0.11363636363636363, 0.6363636363636364\n",
      "Fraction of 'perfect' surveys at or below observed: 0.0995\n",
      "\n",
      "brown_small\n",
      "Mean artifacts discovered: 0.4031395348837209\n",
      "Std Dev: 0.07347429582586378\n",
      "Min/Max: 0.13953488372093023, 0.6511627906976745\n",
      "Fraction of 'perfect' surveys at or below observed: 0.003\n",
      "\n",
      "black_large\n",
      "Mean artifacts discovered: 0.3989782608695652\n",
      "Std Dev: 0.10276285168386667\n",
      "Min/Max: 0.08695652173913043, 0.782608695652174\n",
      "Fraction of 'perfect' surveys at or below observed: 0.985\n",
      "\n",
      "black_medium\n",
      "Mean artifacts discovered: 0.4005116279069767\n",
      "Std Dev: 0.07344831112958278\n",
      "Min/Max: 0.16279069767441862, 0.6511627906976745\n",
      "Fraction of 'perfect' surveys at or below observed: 0.293\n",
      "\n",
      "black_small\n",
      "Mean artifacts discovered: 0.4026578947368421\n",
      "Std Dev: 0.07928174364471471\n",
      "Min/Max: 0.18421052631578946, 0.7105263157894737\n",
      "Fraction of 'perfect' surveys at or below observed: 0.9515\n",
      "\n"
     ]
    }
   ],
   "source": [
    "for result_set in tonque_results_2m:\n",
    "    print(result_set[\"artifact_group\"])\n",
    "    tonque_perfect_stats(discovery_fracs=result_set[\"discovery_fracs\"], obs_frac=result_set[\"obs_frac\"])"
   ]
  },
  {
   "cell_type": "markdown",
   "metadata": {},
   "source": [
    "### Turn results in a pandas DataFrame for easier plotting with seaborn\n",
    "\n",
    "Each row is a unique run of the survey."
   ]
  },
  {
   "cell_type": "code",
   "execution_count": 11,
   "metadata": {},
   "outputs": [
    {
     "data": {
      "text/html": [
       "<div>\n",
       "<style scoped>\n",
       "    .dataframe tbody tr th:only-of-type {\n",
       "        vertical-align: middle;\n",
       "    }\n",
       "\n",
       "    .dataframe tbody tr th {\n",
       "        vertical-align: top;\n",
       "    }\n",
       "\n",
       "    .dataframe thead th {\n",
       "        text-align: right;\n",
       "    }\n",
       "</style>\n",
       "<table border=\"1\" class=\"dataframe\">\n",
       "  <thead>\n",
       "    <tr style=\"text-align: right;\">\n",
       "      <th></th>\n",
       "      <th>discovery_frac</th>\n",
       "      <th>artifact_group</th>\n",
       "      <th>obs_frac</th>\n",
       "      <th>color</th>\n",
       "      <th>size</th>\n",
       "    </tr>\n",
       "  </thead>\n",
       "  <tbody>\n",
       "    <tr>\n",
       "      <th>0</th>\n",
       "      <td>0.428571</td>\n",
       "      <td>white_large</td>\n",
       "      <td>0.71</td>\n",
       "      <td>white</td>\n",
       "      <td>large</td>\n",
       "    </tr>\n",
       "    <tr>\n",
       "      <th>1</th>\n",
       "      <td>0.357143</td>\n",
       "      <td>white_large</td>\n",
       "      <td>0.71</td>\n",
       "      <td>white</td>\n",
       "      <td>large</td>\n",
       "    </tr>\n",
       "    <tr>\n",
       "      <th>2</th>\n",
       "      <td>0.392857</td>\n",
       "      <td>white_large</td>\n",
       "      <td>0.71</td>\n",
       "      <td>white</td>\n",
       "      <td>large</td>\n",
       "    </tr>\n",
       "    <tr>\n",
       "      <th>3</th>\n",
       "      <td>0.535714</td>\n",
       "      <td>white_large</td>\n",
       "      <td>0.71</td>\n",
       "      <td>white</td>\n",
       "      <td>large</td>\n",
       "    </tr>\n",
       "    <tr>\n",
       "      <th>4</th>\n",
       "      <td>0.464286</td>\n",
       "      <td>white_large</td>\n",
       "      <td>0.71</td>\n",
       "      <td>white</td>\n",
       "      <td>large</td>\n",
       "    </tr>\n",
       "  </tbody>\n",
       "</table>\n",
       "</div>"
      ],
      "text/plain": [
       "   discovery_frac artifact_group  obs_frac  color   size\n",
       "0        0.428571    white_large      0.71  white  large\n",
       "1        0.357143    white_large      0.71  white  large\n",
       "2        0.392857    white_large      0.71  white  large\n",
       "3        0.535714    white_large      0.71  white  large\n",
       "4        0.464286    white_large      0.71  white  large"
      ]
     },
     "execution_count": 11,
     "metadata": {},
     "output_type": "execute_result"
    }
   ],
   "source": [
    "LOAD_RESULTS_FROM_PATH = \"./datasets/tonque_survey_results_2m_transect_width.csv\"\n",
    "\n",
    "if LOAD_RESULTS_FROM_PATH is not None:\n",
    "    results_df = pd.read_csv(LOAD_RESULTS_FROM_PATH).loc[:, [\"discovery_frac\", \"artifact_group\", \"obs_frac\", \"color\", \"size\"]]\n",
    "\n",
    "else:\n",
    "    # Make DataFrame with columns for \"discovery_frac\", \"artifact_group\", \"obs_frac\", \"color\", \"size\"\n",
    "    artifact_group_dfs = []\n",
    "    for result_set in tonque_results_2m:\n",
    "        artifact_group_df = pd.DataFrame(\n",
    "            {\n",
    "                \"discovery_frac\": result_set[\"discovery_fracs\"],\n",
    "                \"artifact_group\": [result_set[\"artifact_group\"]] * len(result_set[\"discovery_fracs\"]),\n",
    "                \"obs_frac\": [result_set[\"obs_frac\"]] * len(result_set[\"discovery_fracs\"]),\n",
    "            }\n",
    "        )\n",
    "\n",
    "        artifact_group_dfs.append(artifact_group_df)\n",
    "\n",
    "    results_df = pd.concat(artifact_group_dfs, axis=0)\n",
    "    # Parse the artifact_group string to get the color and size as categorical\n",
    "    results_df[[\"color\", \"size\"]] = results_df[\"artifact_group\"].str.split(\"_\", expand=True)\n",
    "\n",
    "    results_df.to_csv(\"./datasets/tonque_survey_results_2m_transect_width.csv\")\n",
    "\n",
    "results_df.head()"
   ]
  },
  {
   "cell_type": "markdown",
   "metadata": {},
   "source": [
    "### Plot all nine color/size combinations"
   ]
  },
  {
   "cell_type": "code",
   "execution_count": 12,
   "metadata": {},
   "outputs": [
    {
     "data": {
      "text/plain": [
       "[0.71, 0.47, 0.7, 0.62, 0.3, 0.23, 0.65, 0.37, 0.53]"
      ]
     },
     "execution_count": 12,
     "metadata": {},
     "output_type": "execute_result"
    }
   ],
   "source": [
    "# Prepare this list to use in labeling\n",
    "obs_fracs = results_df.groupby([\"artifact_group\"], sort=False)[\"obs_frac\"].max().tolist()\n",
    "obs_fracs"
   ]
  },
  {
   "cell_type": "code",
   "execution_count": 13,
   "metadata": {
    "jupyter": {
     "source_hidden": true
    }
   },
   "outputs": [
    {
     "data": {
      "image/png": "[encoded data removed]",
      "text/plain": [
       "<Figure size 648x648 with 9 Axes>"
      ]
     },
     "metadata": {},
     "output_type": "display_data"
    }
   ],
   "source": [
    "# Create a 3x3 grid where each plot is a unique color/size combination\n",
    "g = sns.FacetGrid(\n",
    "    results_df, \n",
    "    col=\"size\", \n",
    "    row=\"color\", \n",
    "    hue=\"color\", \n",
    "    palette=[\"white\", \"saddlebrown\", \"black\"], \n",
    "    xlim=(0,1), \n",
    "    ylim=(0, 800), \n",
    "    margin_titles=True\n",
    ")\n",
    "# Fill the grid with histograms of discovery_frac\n",
    "g.map(sns.histplot, \"discovery_frac\", binwidth=0.05, edgecolor=\"black\")\n",
    "\n",
    "# Style the plot\n",
    "g.set_axis_labels(\"Fraction of artifacts discovered\", \"Survey runs\")\n",
    "g.set(yticks=[0, 200, 400, 600, 800])\n",
    "# Loop over each subplot\n",
    "for i, ax in enumerate(g.axes.flat):\n",
    "    # Make title more human-readable\n",
    "    if ax.get_title():\n",
    "        # Get only part after \"=\"\n",
    "        ax.set_title(\n",
    "            ax.get_title().split('=')[1],\n",
    "        )\n",
    "    # Make right-margin labels more human-readable\n",
    "    # These are stored as the first entry in ax.texts\n",
    "    # only on the right-most plots\n",
    "    if ax.texts:\n",
    "        # Reconstruct the label, using only the part after \"=\"\n",
    "        txt=ax.texts[0]\n",
    "        ax.text(\n",
    "            txt.get_unitless_position()[0], txt.get_unitless_position()[1], \n",
    "            txt.get_text().split(\"=\")[1],\n",
    "            transform=ax.transAxes,\n",
    "            va='center',\n",
    "            rotation=-90\n",
    "        )\n",
    "        # Drop the old label\n",
    "        ax.texts[0].remove()\n",
    "\n",
    "    # Draw a vertical line representing the fraction observed by Camilli and Wandsnider\n",
    "    # for this color/size combination\n",
    "    ax.axvline(obs_fracs[i], color=\"black\", linestyle=\":\")\n",
    "    # Label the vertical line with the precise value\n",
    "    ax.text(obs_fracs[i] - 0.06, 650, f\"{obs_fracs[i]:.2f}\", rotation=90)\n",
    "# Drop the left, right, and top spines    \n",
    "sns.despine(left=True)\n",
    "plt.tight_layout()\n",
    "plt.savefig(\"./plots/tonque_survey_results_2m_transect_width.png\", dpi=300)"
   ]
  },
  {
   "cell_type": "markdown",
   "metadata": {},
   "source": [
    "## 3 meter transect widths\n",
    "\n",
    "These surveys use 3 meter transect widths (1.5 meters on each side)"
   ]
  },
  {
   "cell_type": "markdown",
   "metadata": {},
   "source": [
    "### Build and run the surveys (or load from disk)"
   ]
  },
  {
   "cell_type": "code",
   "execution_count": 14,
   "metadata": {},
   "outputs": [],
   "source": [
    "LOAD_FROM_PATH = \"./datasets/tonque_survey_results_3m_transect_width.pkl\"\n",
    "\n",
    "\n",
    "if LOAD_FROM_PATH is not None:\n",
    "    with open(LOAD_FROM_PATH, mode=\"rb\") as tonque_file:\n",
    "        tonque_results_3m = pickle.load(tonque_file)\n",
    "\n",
    "else:\n",
    "    tonque_results_3m = tonque_configs.copy()\n",
    "    for config in tonque_results_3m:\n",
    "        discovery_fracs = tonque_perfect(\n",
    "            artifact_group=config[\"artifact_group\"], \n",
    "            n_seeded_artifacts=config[\"n_seeded_artifacts\"], \n",
    "            n_surveys=2000, \n",
    "            sweep_width=1.5\n",
    "        )\n",
    "        config[\"discovery_fracs\"] = discovery_fracs\n",
    "    \n",
    "    with open(\"./datasets/tonque_survey_results_3m_transect_width.pkl\", mode=\"wb\") as tonque_file:\n",
    "        pickle.dump(tonque_results_3m, tonque_file)"
   ]
  },
  {
   "cell_type": "code",
   "execution_count": 15,
   "metadata": {},
   "outputs": [
    {
     "data": {
      "text/plain": [
       "dict_keys(['artifact_group', 'n_seeded_artifacts', 'obs_frac', 'discovery_fracs'])"
      ]
     },
     "execution_count": 15,
     "metadata": {},
     "output_type": "execute_result"
    }
   ],
   "source": [
    "tonque_results_3m[0].keys()"
   ]
  },
  {
   "cell_type": "code",
   "execution_count": 16,
   "metadata": {},
   "outputs": [
    {
     "name": "stdout",
     "output_type": "stream",
     "text": [
      "white_large\n",
      "Mean artifacts discovered: 0.5988392857142857\n",
      "Std Dev: 0.09302487426566541\n",
      "Min/Max: 0.32142857142857145, 0.8571428571428571\n",
      "Fraction of 'perfect' surveys at or below observed: 0.848\n",
      "\n",
      "white_medium\n",
      "Mean artifacts discovered: 0.6\n",
      "Std Dev: 0.0727836388582736\n",
      "Min/Max: 0.3488372093023256, 0.813953488372093\n",
      "Fraction of 'perfect' surveys at or below observed: 0.0465\n",
      "\n",
      "white_small\n",
      "Mean artifacts discovered: 0.603275\n",
      "Std Dev: 0.07594339586165476\n",
      "Min/Max: 0.3, 0.875\n",
      "Fraction of 'perfect' surveys at or below observed: 0.932\n",
      "\n",
      "brown_large\n",
      "Mean artifacts discovered: 0.602153846153846\n",
      "Std Dev: 0.09566540556797534\n",
      "Min/Max: 0.19230769230769232, 0.9230769230769231\n",
      "Fraction of 'perfect' surveys at or below observed: 0.6095\n",
      "\n",
      "brown_medium\n",
      "Mean artifacts discovered: 0.5985113636363636\n",
      "Std Dev: 0.07262638510222388\n",
      "Min/Max: 0.38636363636363635, 0.8409090909090909\n",
      "Fraction of 'perfect' surveys at or below observed: 0.0\n",
      "\n",
      "brown_small\n",
      "Mean artifacts discovered: 0.6019767441860465\n",
      "Std Dev: 0.07386705128505501\n",
      "Min/Max: 0.32558139534883723, 0.813953488372093\n",
      "Fraction of 'perfect' surveys at or below observed: 0.0\n",
      "\n",
      "black_large\n",
      "Mean artifacts discovered: 0.6005434782608695\n",
      "Std Dev: 0.10363291101646567\n",
      "Min/Max: 0.21739130434782608, 0.9130434782608695\n",
      "Fraction of 'perfect' surveys at or below observed: 0.6055\n",
      "\n",
      "black_medium\n",
      "Mean artifacts discovered: 0.6013023255813954\n",
      "Std Dev: 0.0764662479404744\n",
      "Min/Max: 0.3488372093023256, 0.8604651162790697\n",
      "Fraction of 'perfect' surveys at or below observed: 0.0005\n",
      "\n",
      "black_small\n",
      "Mean artifacts discovered: 0.5982894736842105\n",
      "Std Dev: 0.07980575014516615\n",
      "Min/Max: 0.34210526315789475, 0.8421052631578947\n",
      "Fraction of 'perfect' surveys at or below observed: 0.231\n",
      "\n"
     ]
    }
   ],
   "source": [
    "for result_set in tonque_results_3m:\n",
    "    print(result_set[\"artifact_group\"])\n",
    "    tonque_perfect_stats(discovery_fracs=result_set[\"discovery_fracs\"], obs_frac=result_set[\"obs_frac\"])"
   ]
  },
  {
   "cell_type": "markdown",
   "metadata": {},
   "source": [
    "### Turn results in a pandas DataFrame for easier plotting with seaborn\n",
    "\n",
    "Each row is a unique run of the survey."
   ]
  },
  {
   "cell_type": "code",
   "execution_count": 17,
   "metadata": {},
   "outputs": [
    {
     "data": {
      "text/html": [
       "<div>\n",
       "<style scoped>\n",
       "    .dataframe tbody tr th:only-of-type {\n",
       "        vertical-align: middle;\n",
       "    }\n",
       "\n",
       "    .dataframe tbody tr th {\n",
       "        vertical-align: top;\n",
       "    }\n",
       "\n",
       "    .dataframe thead th {\n",
       "        text-align: right;\n",
       "    }\n",
       "</style>\n",
       "<table border=\"1\" class=\"dataframe\">\n",
       "  <thead>\n",
       "    <tr style=\"text-align: right;\">\n",
       "      <th></th>\n",
       "      <th>discovery_frac</th>\n",
       "      <th>artifact_group</th>\n",
       "      <th>obs_frac</th>\n",
       "      <th>color</th>\n",
       "      <th>size</th>\n",
       "    </tr>\n",
       "  </thead>\n",
       "  <tbody>\n",
       "    <tr>\n",
       "      <th>0</th>\n",
       "      <td>0.607143</td>\n",
       "      <td>white_large</td>\n",
       "      <td>0.71</td>\n",
       "      <td>white</td>\n",
       "      <td>large</td>\n",
       "    </tr>\n",
       "    <tr>\n",
       "      <th>1</th>\n",
       "      <td>0.607143</td>\n",
       "      <td>white_large</td>\n",
       "      <td>0.71</td>\n",
       "      <td>white</td>\n",
       "      <td>large</td>\n",
       "    </tr>\n",
       "    <tr>\n",
       "      <th>2</th>\n",
       "      <td>0.607143</td>\n",
       "      <td>white_large</td>\n",
       "      <td>0.71</td>\n",
       "      <td>white</td>\n",
       "      <td>large</td>\n",
       "    </tr>\n",
       "    <tr>\n",
       "      <th>3</th>\n",
       "      <td>0.607143</td>\n",
       "      <td>white_large</td>\n",
       "      <td>0.71</td>\n",
       "      <td>white</td>\n",
       "      <td>large</td>\n",
       "    </tr>\n",
       "    <tr>\n",
       "      <th>4</th>\n",
       "      <td>0.500000</td>\n",
       "      <td>white_large</td>\n",
       "      <td>0.71</td>\n",
       "      <td>white</td>\n",
       "      <td>large</td>\n",
       "    </tr>\n",
       "  </tbody>\n",
       "</table>\n",
       "</div>"
      ],
      "text/plain": [
       "   discovery_frac artifact_group  obs_frac  color   size\n",
       "0        0.607143    white_large      0.71  white  large\n",
       "1        0.607143    white_large      0.71  white  large\n",
       "2        0.607143    white_large      0.71  white  large\n",
       "3        0.607143    white_large      0.71  white  large\n",
       "4        0.500000    white_large      0.71  white  large"
      ]
     },
     "execution_count": 17,
     "metadata": {},
     "output_type": "execute_result"
    }
   ],
   "source": [
    "LOAD_RESULTS_FROM_PATH = \"./datasets/tonque_survey_results_3m_transect_width.csv\"\n",
    "\n",
    "if LOAD_RESULTS_FROM_PATH is not None:\n",
    "    results_df = pd.read_csv(LOAD_RESULTS_FROM_PATH).loc[:, [\"discovery_frac\", \"artifact_group\", \"obs_frac\", \"color\", \"size\"]]\n",
    "\n",
    "else:\n",
    "    # Make DataFrame with columns for \"discovery_frac\", \"artifact_group\", \"obs_frac\", \"color\", \"size\"\n",
    "    artifact_group_dfs = []\n",
    "    for result_set in tonque_results_3m:\n",
    "        artifact_group_df = pd.DataFrame(\n",
    "            {\n",
    "                \"discovery_frac\": result_set[\"discovery_fracs\"],\n",
    "                \"artifact_group\": [result_set[\"artifact_group\"]] * len(result_set[\"discovery_fracs\"]),\n",
    "                \"obs_frac\": [result_set[\"obs_frac\"]] * len(result_set[\"discovery_fracs\"]),\n",
    "            }\n",
    "        )\n",
    "\n",
    "        artifact_group_dfs.append(artifact_group_df)\n",
    "\n",
    "    results_df = pd.concat(artifact_group_dfs, axis=0)\n",
    "    # Parse the artifact_group string to get the color and size as categorical\n",
    "    results_df[[\"color\", \"size\"]] = results_df[\"artifact_group\"].str.split(\"_\", expand=True)\n",
    "\n",
    "    results_df.to_csv(\"./datasets/tonque_survey_results_3m_transect_width.csv\")\n",
    "\n",
    "results_df.head()"
   ]
  },
  {
   "cell_type": "markdown",
   "metadata": {},
   "source": [
    "### Plot all nine color/size combinations"
   ]
  },
  {
   "cell_type": "code",
   "execution_count": 18,
   "metadata": {},
   "outputs": [
    {
     "data": {
      "text/plain": [
       "[0.71, 0.47, 0.7, 0.62, 0.3, 0.23, 0.65, 0.37, 0.53]"
      ]
     },
     "execution_count": 18,
     "metadata": {},
     "output_type": "execute_result"
    }
   ],
   "source": [
    "# Prepare this list to use in labeling\n",
    "obs_fracs = results_df.groupby([\"artifact_group\"], sort=False)[\"obs_frac\"].max().tolist()\n",
    "obs_fracs"
   ]
  },
  {
   "cell_type": "code",
   "execution_count": 19,
   "metadata": {
    "jupyter": {
     "source_hidden": true
    }
   },
   "outputs": [
    {
     "data": {
      "image/png": "[encoded data removed]",
      "text/plain": [
       "<Figure size 648x648 with 9 Axes>"
      ]
     },
     "metadata": {},
     "output_type": "display_data"
    }
   ],
   "source": [
    "# Create a 3x3 grid where each plot is a unique color/size combination\n",
    "g = sns.FacetGrid(\n",
    "    results_df, \n",
    "    col=\"size\", \n",
    "    row=\"color\", \n",
    "    hue=\"color\", \n",
    "    palette=[\"white\", \"saddlebrown\", \"black\"], \n",
    "    xlim=(0,1), \n",
    "    ylim=(0, 800), \n",
    "    margin_titles=True\n",
    ")\n",
    "# Fill the grid with histograms of discovery_frac\n",
    "g.map(sns.histplot, \"discovery_frac\", binwidth=0.05, edgecolor=\"black\")\n",
    "\n",
    "# Style the plot\n",
    "g.set_axis_labels(\"Fraction of artifacts discovered\", \"Survey runs\")\n",
    "g.set(yticks=[0, 200, 400, 600, 800])\n",
    "# Loop over each subplot\n",
    "for i, ax in enumerate(g.axes.flat):\n",
    "    # Make title more human-readable\n",
    "    if ax.get_title():\n",
    "        # Get only part after \"=\"\n",
    "        ax.set_title(\n",
    "            ax.get_title().split('=')[1],\n",
    "        )\n",
    "    # Make right-margin labels more human-readable\n",
    "    # These are stored as the first entry in ax.texts\n",
    "    # only on the right-most plots\n",
    "    if ax.texts:\n",
    "        # Reconstruct the label, using only the part after \"=\"\n",
    "        txt=ax.texts[0]\n",
    "        ax.text(\n",
    "            txt.get_unitless_position()[0], txt.get_unitless_position()[1], \n",
    "            txt.get_text().split(\"=\")[1],\n",
    "            transform=ax.transAxes,\n",
    "            va='center',\n",
    "            rotation=-90\n",
    "        )\n",
    "        # Drop the old label\n",
    "        ax.texts[0].remove()\n",
    "\n",
    "    # Draw a vertical line representing the fraction observed by Camilli and Wandsnider\n",
    "    # for this color/size combination\n",
    "    ax.axvline(obs_fracs[i], color=\"black\", linestyle=\":\")\n",
    "    # Label the vertical line with the precise value\n",
    "    ax.text(obs_fracs[i] - 0.06, 650, f\"{obs_fracs[i]:.2f}\", rotation=90)\n",
    "# Drop the left, right, and top spines    \n",
    "sns.despine(left=True)\n",
    "plt.tight_layout()\n",
    "plt.savefig(\"./plots/tonque_survey_results_3m_transect_width.png\", dpi=300)"
   ]
  },
  {
   "cell_type": "code",
   "execution_count": null,
   "metadata": {},
   "outputs": [],
   "source": []
  }
 ],
 "metadata": {
  "kernelspec": {
   "display_name": "Python 3",
   "language": "python",
   "name": "python3"
  },
  "language_info": {
   "codemirror_mode": {
    "name": "ipython",
    "version": 3
   },
   "file_extension": ".py",
   "mimetype": "text/x-python",
   "name": "python",
   "nbconvert_exporter": "python",
   "pygments_lexer": "ipython3",
   "version": "3.8.6"
  }
 },
 "nbformat": 4,
 "nbformat_minor": 4
}
