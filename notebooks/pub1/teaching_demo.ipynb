{
 "metadata": {
  "language_info": {
   "codemirror_mode": {
    "name": "ipython",
    "version": 3
   },
   "file_extension": ".py",
   "mimetype": "text/x-python",
   "name": "python",
   "nbconvert_exporter": "python",
   "pygments_lexer": "ipython3",
   "version": 3
  },
  "orig_nbformat": 2
 },
 "nbformat": 4,
 "nbformat_minor": 2,
 "cells": [
  {
   "source": [
    "\n",
    "- Ceramics at high localized density\n",
    "- Chipped stone artifacts at medium density\n",
    "- Ground stone artifacts at low density"
   ],
   "cell_type": "markdown",
   "metadata": {}
  }
 ]
}