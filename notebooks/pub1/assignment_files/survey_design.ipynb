{
 "metadata": {
  "language_info": {
   "codemirror_mode": {
    "name": "ipython",
    "version": 3
   },
   "file_extension": ".py",
   "mimetype": "text/x-python",
   "name": "python",
   "nbconvert_exporter": "python",
   "pygments_lexer": "ipython3",
   "version": "3.7.9-final"
  },
  "orig_nbformat": 2,
  "kernelspec": {
   "name": "python3",
   "display_name": "Python 3",
   "language": "python"
  }
 },
 "nbformat": 4,
 "nbformat_minor": 2,
 "cells": [
  {
   "source": [
    "# Survey design assignment\n",
    "\n",
    "Created by Jacob Deppen, 2021"
   ],
   "cell_type": "markdown",
   "metadata": {}
  },
  {
   "source": [
    "## Background\n",
    "\n",
    "A new terminal for the region’s main international airport is set to be built adjacent to the existing airport. When the original airport was constructed in the early 1950s, a survey project identified clusters of Iron Age artifacts that are believed to represent individual households in a loosely-defined village, a rare and important discovery in the region. In preparation for the new terminal, the local government, who operates the airport, is soliciting bids for archaeological survey work on the planned development site. The main priority identified by local officials is to understand if the Iron Age village extends into the development site and if so, to locate additional Iron Age artifact clusters (households).\n",
    "\n",
    "\n",
    "## Goal\n",
    "\n",
    "Submit a bid with a survey design that will correctly detect the number of clusters at least 90% of the time. The winning bid will be the survey design that can complete the task in the least amount of total survey time.\n",
    "\n",
    "\n",
    "## Assumptions\n",
    "\n",
    "- Surveyors can scan transects at an average rate of about one meter per four seconds.\n",
    "- Surveyors can scan with a maximum sweep width of two meters.\n",
    "- Surveyors can scan radial survey units at a rate of about one square meter per ten seconds.\n",
    "- Recording an artifact takes about 60 seconds.\n",
    "- The ground has been cleared of vegetation and the surface visibility is perfect throughout the area.\n",
    "- Iron Age artifacts are easy to recognize.\n",
    "- You will have an expertly-skilled survey crew who will recognize all Iron Age artifacts and can record artifacts in the minimum time.\n",
    "\n",
    "\n",
    "## Additional details\n",
    "\n",
    "You are given: \n",
    "- Boundary shapefiles for the new terminal development site and the area surveyed in the 1950s. You also have access to the point locations of Iron Age artifacts from the previous survey. \n",
    "- Code to generate the Area, Assemblage, and Team building blocks for the 1950s survey. \n",
    "- Code to generate the Area and Team building blocks for the upcoming survey.\n",
    "- Code to calculate the number of clusters with the DBSCAN algorithm.\n",
    "\n",
    "You can use these shapefiles and code to try to calibrate your survey design.\n",
    "\n",
    "## Submission\n",
    "\n",
    "Your submission should include:\n",
    "- Python code that will generate a Prospect Coverage object for the planned development site. Your Coverage will be run against a range of Assemblage possibilities in the development site to see if it detects the correct number of clusters at least 90% of the time.\n",
    "- A Jupyter Notebook that demonstrates and explains why you’ve chosen this survey design. In other words, show your work."
   ],
   "cell_type": "markdown",
   "metadata": {}
  },
  {
   "cell_type": "code",
   "execution_count": 1,
   "metadata": {},
   "outputs": [],
   "source": [
    "from typing import Dict\n",
    "\n",
    "import geopandas as gpd\n",
    "import numpy as np\n",
    "import prospect\n",
    "from sklearn.cluster import DBSCAN\n",
    "from sklearn.preprocessing import StandardScaler"
   ]
  },
  {
   "source": [
    "## Calculate the number of clusters in a GeoDataFrame of points\n",
    "\n",
    "This same function will be used to evaluate your submission, so you should be careful to avoid altering it, especially the parameters of `DBSCAN`."
   ],
   "cell_type": "markdown",
   "metadata": {}
  },
  {
   "cell_type": "code",
   "execution_count": null,
   "metadata": {},
   "outputs": [],
   "source": [
    "def get_n_clusters(points: gpd.GeoDataFrame) -> Dict[str, int]:\n",
    "    \"\"\"Calculate the number of clusters using DBSCAN\n",
    "\n",
    "    Parameters\n",
    "    ----------\n",
    "    points : geopandas.GeoDataFrame\n",
    "        A GeoDataFrame where each row is a point\n",
    "\n",
    "    Returns\n",
    "    -------\n",
    "    Dict[str, int]\n",
    "        A dictionary with entries for `\"n_clusters\"` and `\"n_noise\"` according to\n",
    "        the output of DBSCAN\n",
    "    \"\"\"\n",
    "    # Wrangle the GeoDataFrame into the form expected by DBSCAN (n_samples, n_features)\n",
    "    coords = np.stack([points.geometry.x.values, points.geometry.y.values]).T\n",
    "    # Scale the coordinates\n",
    "    scaled_coords = StandardScaler().fit_transform(coords)\n",
    "    # Initialize and fit DBSCAN\n",
    "    db = DBSCAN(eps=0.3, min_samples=4)\n",
    "    db.fit(scaled_coords)\n",
    "    # Grab the cluster labels\n",
    "    labels = db.labels_\n",
    "\n",
    "    # Number of clusters in labels, ignoring noise if present\n",
    "    n_clusters = len(set(labels)) - (1 if -1 in labels else 0)\n",
    "    n_noise = list(labels).count(-1)\n",
    "\n",
    "    return {\"n_clusters\": n_clusters, \"n_noise\": n_noise}"
   ]
  },
  {
   "source": [
    "## Generate Prospect `Area`, `Assemblage`, and `Team` from the 1950 survey"
   ],
   "cell_type": "markdown",
   "metadata": {}
  },
  {
   "cell_type": "code",
   "execution_count": null,
   "metadata": {},
   "outputs": [],
   "source": [
    "area_1950 = prospect.Area.from_shapefile(\n",
    "    name=\"boundary_1950\", \n",
    "    path=\"./previous_survey_1950/boundary_1950.shp\",\n",
    "    vis=1.0,\n",
    ")\n",
    "\n",
    "layer_1950 = prospect.Layer.from_shapefile(\n",
    "    path=\"./previous_survey_1950/artifacts_1950.shp\", \n",
    "    name=\"layer_1950\", \n",
    "    area=area_1950, \n",
    "    time_penalty=60, \n",
    "    ideal_obs_rate=1.0,\n",
    ")\n",
    "\n",
    "assemblage_1950 = prospect.Assemblage(\n",
    "    name=\"assemblage_1950\", \n",
    "    layer_list=[layer_1950],\n",
    ")\n",
    "\n",
    "surveyor_1950 = prospect.Surveyor(\n",
    "    name=\"surveyor_1950\", \n",
    "    team_name=\"team_1950\", \n",
    "    surveyor_type=\"expert\", \n",
    "    skill=1.0, \n",
    "    speed_penalty=0.0,\n",
    ")\n",
    "\n",
    "team_1950 = prospect.Team(\n",
    "    name=\"team_1950\", \n",
    "    surveyor_list=[surveyor_1950], \n",
    "    assignment=\"naive\",\n",
    ")"
   ]
  },
  {
   "source": [
    "## Design and calibrate your survey\n",
    "\n",
    "Use the above objects to experiment with different `Coverage` configurations and find one that will accurately return the number of clusters in `Assemblage` while minimizing the total survey time."
   ],
   "cell_type": "markdown",
   "metadata": {}
  },
  {
   "cell_type": "code",
   "execution_count": null,
   "metadata": {},
   "outputs": [],
   "source": []
  },
  {
   "cell_type": "code",
   "execution_count": null,
   "metadata": {},
   "outputs": [],
   "source": []
  },
  {
   "source": [
    "## Generate Prospect `Area` and `Team` for the proposed survey\n",
    "\n",
    "After you have a good sense of what approach works well for the 1950 survey area, try to use the same methodology for some hypothetical `Assemblage`s in the `Area` of proposed survey. "
   ],
   "cell_type": "markdown",
   "metadata": {}
  },
  {
   "cell_type": "code",
   "execution_count": null,
   "metadata": {},
   "outputs": [],
   "source": [
    "area_proposed = prospect.Area.from_shapefile(\n",
    "    name=\"boundary_proposed\", \n",
    "    path=\"./proposed_survey/boundary_proposed.shp\",\n",
    "    vis=1.0,\n",
    ")\n",
    "\n",
    "surveyor_proposed = prospect.Surveyor(\n",
    "    name=\"surveyor_proposed\", \n",
    "    team_name=\"team_proposed\", \n",
    "    surveyor_type=\"expert\", \n",
    "    skill=1.0, \n",
    "    speed_penalty=0.0,\n",
    ")\n",
    "\n",
    "team_proposed = prospect.Team(\n",
    "    name=\"team_proposed\", \n",
    "    surveyor_list=[surveyor_proposed], \n",
    "    assignment=\"naive\",\n",
    ")"
   ]
  },
  {
   "cell_type": "code",
   "execution_count": null,
   "metadata": {},
   "outputs": [],
   "source": []
  },
  {
   "cell_type": "code",
   "execution_count": null,
   "metadata": {},
   "outputs": [],
   "source": []
  },
  {
   "cell_type": "code",
   "execution_count": null,
   "metadata": {},
   "outputs": [],
   "source": []
  }
 ]
}