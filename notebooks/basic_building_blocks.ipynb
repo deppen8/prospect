{
 "cells": [
  {
   "cell_type": "code",
   "execution_count": 1,
   "metadata": {},
   "outputs": [],
   "source": [
    "import pandas as pd\n",
    "import numpy as np\n",
    "import geopandas as gpd\n",
    "import matplotlib.pyplot as plt; \n",
    "%matplotlib inline\n",
    "from shapely.geometry import Point, Polygon, box"
   ]
  },
  {
   "cell_type": "code",
   "execution_count": 2,
   "metadata": {},
   "outputs": [
    {
     "data": {
      "text/html": [
       "<div>\n",
       "<style scoped>\n",
       "    .dataframe tbody tr th:only-of-type {\n",
       "        vertical-align: middle;\n",
       "    }\n",
       "\n",
       "    .dataframe tbody tr th {\n",
       "        vertical-align: top;\n",
       "    }\n",
       "\n",
       "    .dataframe thead th {\n",
       "        text-align: right;\n",
       "    }\n",
       "</style>\n",
       "<table border=\"1\" class=\"dataframe\">\n",
       "  <thead>\n",
       "    <tr style=\"text-align: right;\">\n",
       "      <th></th>\n",
       "      <th>area_name</th>\n",
       "      <th>visibility</th>\n",
       "      <th>geometry</th>\n",
       "    </tr>\n",
       "  </thead>\n",
       "  <tbody>\n",
       "    <tr>\n",
       "      <th>0</th>\n",
       "      <td>area1</td>\n",
       "      <td>0.9</td>\n",
       "      <td>POLYGON ((1 0, 1 1, 0 1, 0 0, 1 0))</td>\n",
       "    </tr>\n",
       "  </tbody>\n",
       "</table>\n",
       "</div>"
      ],
      "text/plain": [
       "  area_name  visibility                             geometry\n",
       "0     area1         0.9  POLYGON ((1 0, 1 1, 0 1, 0 0, 1 0))"
      ]
     },
     "execution_count": 2,
     "metadata": {},
     "output_type": "execute_result"
    }
   ],
   "source": [
    "from shapely.geometry import box\n",
    "import geopandas as gpd\n",
    "\n",
    "xmin=0; ymin=0; xmax=1; ymax=1\n",
    "rect = box(xmin, ymin, xmax, ymax)\n",
    "area1 = gpd.GeoDataFrame({'area_name':['area1'],\n",
    "                          'visibility': [0.90],\n",
    "                          'geometry': rect}, \n",
    "                         geometry='geometry'\n",
    "                        )\n",
    "area1"
   ]
  },
  {
   "cell_type": "code",
   "execution_count": 3,
   "metadata": {},
   "outputs": [
    {
     "data": {
      "text/html": [
       "<div>\n",
       "<style scoped>\n",
       "    .dataframe tbody tr th:only-of-type {\n",
       "        vertical-align: middle;\n",
       "    }\n",
       "\n",
       "    .dataframe tbody tr th {\n",
       "        vertical-align: top;\n",
       "    }\n",
       "\n",
       "    .dataframe thead th {\n",
       "        text-align: right;\n",
       "    }\n",
       "</style>\n",
       "<table border=\"1\" class=\"dataframe\">\n",
       "  <thead>\n",
       "    <tr style=\"text-align: right;\">\n",
       "      <th></th>\n",
       "      <th>layer_name</th>\n",
       "      <th>fid</th>\n",
       "      <th>time_penalty</th>\n",
       "      <th>ideal_obs_rate</th>\n",
       "      <th>geometry</th>\n",
       "    </tr>\n",
       "  </thead>\n",
       "  <tbody>\n",
       "    <tr>\n",
       "      <th>0</th>\n",
       "      <td>ceramics</td>\n",
       "      <td>ceramics_0</td>\n",
       "      <td>0.1</td>\n",
       "      <td>0.95</td>\n",
       "      <td>POINT (0.2632293239240059 0.8804683873891883)</td>\n",
       "    </tr>\n",
       "    <tr>\n",
       "      <th>1</th>\n",
       "      <td>ceramics</td>\n",
       "      <td>ceramics_1</td>\n",
       "      <td>0.1</td>\n",
       "      <td>0.95</td>\n",
       "      <td>POINT (0.5718831884170252 0.3997966666387478)</td>\n",
       "    </tr>\n",
       "    <tr>\n",
       "      <th>2</th>\n",
       "      <td>ceramics</td>\n",
       "      <td>ceramics_2</td>\n",
       "      <td>0.1</td>\n",
       "      <td>0.95</td>\n",
       "      <td>POINT (0.07077968717039973 0.4232877177242337)</td>\n",
       "    </tr>\n",
       "  </tbody>\n",
       "</table>\n",
       "</div>"
      ],
      "text/plain": [
       "  layer_name         fid  time_penalty  ideal_obs_rate  \\\n",
       "0   ceramics  ceramics_0           0.1            0.95   \n",
       "1   ceramics  ceramics_1           0.1            0.95   \n",
       "2   ceramics  ceramics_2           0.1            0.95   \n",
       "\n",
       "                                         geometry  \n",
       "0   POINT (0.2632293239240059 0.8804683873891883)  \n",
       "1   POINT (0.5718831884170252 0.3997966666387478)  \n",
       "2  POINT (0.07077968717039973 0.4232877177242337)  "
      ]
     },
     "execution_count": 3,
     "metadata": {},
     "output_type": "execute_result"
    }
   ],
   "source": [
    "from numpy.random import random\n",
    "from shapely.geometry import Point\n",
    "import geopandas as gpd\n",
    "\n",
    "n = 3\n",
    "xrange=(0, 1); yrange=(0, 1)\n",
    "\n",
    "xs = (random(n) * (xrange[1] - xrange[0])) + xrange[0]\n",
    "ys = (random(n) * (yrange[1] - yrange[0])) + yrange[0]\n",
    "gds = gpd.GeoSeries([Point(xy) for xy in zip(xs, ys)])\n",
    "\n",
    "ceramics = gpd.GeoDataFrame({'layer_name': ['ceramics'] * n,\n",
    "                           'fid': [f'ceramics_{i}' for i in range(n)],\n",
    "                           'time_penalty': [0.1] * n,\n",
    "                           'ideal_obs_rate': [0.95] * n,\n",
    "                           'geometry': gds},\n",
    "                          geometry = 'geometry'\n",
    "                         )\n",
    "ceramics"
   ]
  },
  {
   "cell_type": "code",
   "execution_count": 4,
   "metadata": {},
   "outputs": [
    {
     "data": {
      "text/html": [
       "<div>\n",
       "<style scoped>\n",
       "    .dataframe tbody tr th:only-of-type {\n",
       "        vertical-align: middle;\n",
       "    }\n",
       "\n",
       "    .dataframe tbody tr th {\n",
       "        vertical-align: top;\n",
       "    }\n",
       "\n",
       "    .dataframe thead th {\n",
       "        text-align: right;\n",
       "    }\n",
       "</style>\n",
       "<table border=\"1\" class=\"dataframe\">\n",
       "  <thead>\n",
       "    <tr style=\"text-align: right;\">\n",
       "      <th></th>\n",
       "      <th>layer_name</th>\n",
       "      <th>fid</th>\n",
       "      <th>time_penalty</th>\n",
       "      <th>ideal_obs_rate</th>\n",
       "      <th>geometry</th>\n",
       "    </tr>\n",
       "  </thead>\n",
       "  <tbody>\n",
       "    <tr>\n",
       "      <th>0</th>\n",
       "      <td>lithics</td>\n",
       "      <td>lithics_0</td>\n",
       "      <td>0.15</td>\n",
       "      <td>0.8</td>\n",
       "      <td>POINT (0.2388537290566652 0.5915310138048444)</td>\n",
       "    </tr>\n",
       "    <tr>\n",
       "      <th>1</th>\n",
       "      <td>lithics</td>\n",
       "      <td>lithics_1</td>\n",
       "      <td>0.15</td>\n",
       "      <td>0.8</td>\n",
       "      <td>POINT (0.3053942964950834 0.9313355287478928)</td>\n",
       "    </tr>\n",
       "  </tbody>\n",
       "</table>\n",
       "</div>"
      ],
      "text/plain": [
       "  layer_name        fid  time_penalty  ideal_obs_rate  \\\n",
       "0    lithics  lithics_0          0.15             0.8   \n",
       "1    lithics  lithics_1          0.15             0.8   \n",
       "\n",
       "                                        geometry  \n",
       "0  POINT (0.2388537290566652 0.5915310138048444)  \n",
       "1  POINT (0.3053942964950834 0.9313355287478928)  "
      ]
     },
     "execution_count": 4,
     "metadata": {},
     "output_type": "execute_result"
    }
   ],
   "source": [
    "n = 2\n",
    "xrange=(0, 1); yrange=(0, 1)\n",
    "\n",
    "xs = (random(n) * (xrange[1] - xrange[0])) + xrange[0]\n",
    "ys = (random(n) * (yrange[1] - yrange[0])) + yrange[0]\n",
    "gds = gpd.GeoSeries([Point(xy) for xy in zip(xs, ys)])\n",
    "\n",
    "lithics = gpd.GeoDataFrame({'layer_name': ['lithics'] * n,\n",
    "                           'fid': [f'lithics_{i}' for i in range(n)],\n",
    "                           'time_penalty': [0.15] * n,\n",
    "                           'ideal_obs_rate': [0.80] * n,\n",
    "                           'geometry': gds},\n",
    "                          geometry = 'geometry'\n",
    "                         )\n",
    "lithics"
   ]
  },
  {
   "cell_type": "code",
   "execution_count": 5,
   "metadata": {},
   "outputs": [
    {
     "data": {
      "text/html": [
       "<div>\n",
       "<style scoped>\n",
       "    .dataframe tbody tr th:only-of-type {\n",
       "        vertical-align: middle;\n",
       "    }\n",
       "\n",
       "    .dataframe tbody tr th {\n",
       "        vertical-align: top;\n",
       "    }\n",
       "\n",
       "    .dataframe thead th {\n",
       "        text-align: right;\n",
       "    }\n",
       "</style>\n",
       "<table border=\"1\" class=\"dataframe\">\n",
       "  <thead>\n",
       "    <tr style=\"text-align: right;\">\n",
       "      <th></th>\n",
       "      <th>layer_name</th>\n",
       "      <th>fid</th>\n",
       "      <th>time_penalty</th>\n",
       "      <th>ideal_obs_rate</th>\n",
       "      <th>geometry</th>\n",
       "    </tr>\n",
       "  </thead>\n",
       "  <tbody>\n",
       "    <tr>\n",
       "      <th>0</th>\n",
       "      <td>ceramics</td>\n",
       "      <td>ceramics_0</td>\n",
       "      <td>0.10</td>\n",
       "      <td>0.95</td>\n",
       "      <td>POINT (0.2632293239240059 0.8804683873891883)</td>\n",
       "    </tr>\n",
       "    <tr>\n",
       "      <th>1</th>\n",
       "      <td>ceramics</td>\n",
       "      <td>ceramics_1</td>\n",
       "      <td>0.10</td>\n",
       "      <td>0.95</td>\n",
       "      <td>POINT (0.5718831884170252 0.3997966666387478)</td>\n",
       "    </tr>\n",
       "    <tr>\n",
       "      <th>2</th>\n",
       "      <td>ceramics</td>\n",
       "      <td>ceramics_2</td>\n",
       "      <td>0.10</td>\n",
       "      <td>0.95</td>\n",
       "      <td>POINT (0.07077968717039973 0.4232877177242337)</td>\n",
       "    </tr>\n",
       "    <tr>\n",
       "      <th>3</th>\n",
       "      <td>lithics</td>\n",
       "      <td>lithics_0</td>\n",
       "      <td>0.15</td>\n",
       "      <td>0.80</td>\n",
       "      <td>POINT (0.2388537290566652 0.5915310138048444)</td>\n",
       "    </tr>\n",
       "    <tr>\n",
       "      <th>4</th>\n",
       "      <td>lithics</td>\n",
       "      <td>lithics_1</td>\n",
       "      <td>0.15</td>\n",
       "      <td>0.80</td>\n",
       "      <td>POINT (0.3053942964950834 0.9313355287478928)</td>\n",
       "    </tr>\n",
       "  </tbody>\n",
       "</table>\n",
       "</div>"
      ],
      "text/plain": [
       "  layer_name         fid  time_penalty  ideal_obs_rate  \\\n",
       "0   ceramics  ceramics_0          0.10            0.95   \n",
       "1   ceramics  ceramics_1          0.10            0.95   \n",
       "2   ceramics  ceramics_2          0.10            0.95   \n",
       "3    lithics   lithics_0          0.15            0.80   \n",
       "4    lithics   lithics_1          0.15            0.80   \n",
       "\n",
       "                                         geometry  \n",
       "0   POINT (0.2632293239240059 0.8804683873891883)  \n",
       "1   POINT (0.5718831884170252 0.3997966666387478)  \n",
       "2  POINT (0.07077968717039973 0.4232877177242337)  \n",
       "3   POINT (0.2388537290566652 0.5915310138048444)  \n",
       "4   POINT (0.3053942964950834 0.9313355287478928)  "
      ]
     },
     "execution_count": 5,
     "metadata": {},
     "output_type": "execute_result"
    }
   ],
   "source": [
    "assemblage = pd.concat([ceramics, lithics], ignore_index=True)\n",
    "assemblage"
   ]
  },
  {
   "cell_type": "code",
   "execution_count": 6,
   "metadata": {},
   "outputs": [
    {
     "data": {
      "text/plain": [
       "<matplotlib.axes._subplots.AxesSubplot at 0x127cb6518>"
      ]
     },
     "execution_count": 6,
     "metadata": {},
     "output_type": "execute_result"
    },
    {
     "data": {
      "image/png": "[encoded data removed]",
      "text/plain": [
       "<Figure size 432x288 with 1 Axes>"
      ]
     },
     "metadata": {
      "needs_background": "light"
     },
     "output_type": "display_data"
    }
   ],
   "source": [
    "assemblage.plot()"
   ]
  },
  {
   "cell_type": "code",
   "execution_count": 7,
   "metadata": {},
   "outputs": [
    {
     "data": {
      "text/html": [
       "<div>\n",
       "<style scoped>\n",
       "    .dataframe tbody tr th:only-of-type {\n",
       "        vertical-align: middle;\n",
       "    }\n",
       "\n",
       "    .dataframe tbody tr th {\n",
       "        vertical-align: top;\n",
       "    }\n",
       "\n",
       "    .dataframe thead th {\n",
       "        text-align: right;\n",
       "    }\n",
       "</style>\n",
       "<table border=\"1\" class=\"dataframe\">\n",
       "  <thead>\n",
       "    <tr style=\"text-align: right;\">\n",
       "      <th></th>\n",
       "      <th>sid</th>\n",
       "      <th>surveyor_type</th>\n",
       "      <th>skill</th>\n",
       "      <th>speed_penalty</th>\n",
       "    </tr>\n",
       "  </thead>\n",
       "  <tbody>\n",
       "    <tr>\n",
       "      <th>0</th>\n",
       "      <td>pi_0</td>\n",
       "      <td>pi</td>\n",
       "      <td>1.00</td>\n",
       "      <td>0.0</td>\n",
       "    </tr>\n",
       "    <tr>\n",
       "      <th>1</th>\n",
       "      <td>grad_0</td>\n",
       "      <td>grad</td>\n",
       "      <td>0.95</td>\n",
       "      <td>0.0</td>\n",
       "    </tr>\n",
       "    <tr>\n",
       "      <th>2</th>\n",
       "      <td>undergrad_0</td>\n",
       "      <td>undergrad</td>\n",
       "      <td>0.85</td>\n",
       "      <td>0.2</td>\n",
       "    </tr>\n",
       "    <tr>\n",
       "      <th>3</th>\n",
       "      <td>undergrad_1</td>\n",
       "      <td>undergrad</td>\n",
       "      <td>0.85</td>\n",
       "      <td>0.2</td>\n",
       "    </tr>\n",
       "    <tr>\n",
       "      <th>4</th>\n",
       "      <td>undergrad_2</td>\n",
       "      <td>undergrad</td>\n",
       "      <td>0.85</td>\n",
       "      <td>0.2</td>\n",
       "    </tr>\n",
       "  </tbody>\n",
       "</table>\n",
       "</div>"
      ],
      "text/plain": [
       "           sid surveyor_type  skill  speed_penalty\n",
       "0         pi_0            pi   1.00            0.0\n",
       "1       grad_0          grad   0.95            0.0\n",
       "2  undergrad_0     undergrad   0.85            0.2\n",
       "3  undergrad_1     undergrad   0.85            0.2\n",
       "4  undergrad_2     undergrad   0.85            0.2"
      ]
     },
     "execution_count": 7,
     "metadata": {},
     "output_type": "execute_result"
    }
   ],
   "source": [
    "import pandas as pd\n",
    "\n",
    "team = pd.DataFrame({'surveyor_type': ['pi', 'grad', 'undergrad', 'undergrad', 'undergrad'],\n",
    "                     'skill': [1.0, 0.95, 0.85, 0.85, 0.85],\n",
    "                     'speed_penalty': [0.0, 0.0, 0.2, 0.2, 0.2]\n",
    "                    })\n",
    "\n",
    "for stype in team['surveyor_type'].unique():\n",
    "    stype_df = team.loc[team['surveyor_type']==stype, :]\n",
    "    team.loc[stype_df.index, 'sid'] = [i for i in range(stype_df.shape[0])]\n",
    "\n",
    "team['sid'] = team.apply(lambda x: x['surveyor_type'] + '_' + str(int(x['sid'])), axis=1)\n",
    "team = team.loc[:, ['sid', 'surveyor_type', 'skill', 'speed_penalty']]\n",
    "team"
   ]
  },
  {
   "cell_type": "code",
   "execution_count": 8,
   "metadata": {},
   "outputs": [
    {
     "data": {
      "text/html": [
       "<div>\n",
       "<style scoped>\n",
       "    .dataframe tbody tr th:only-of-type {\n",
       "        vertical-align: middle;\n",
       "    }\n",
       "\n",
       "    .dataframe tbody tr th {\n",
       "        vertical-align: top;\n",
       "    }\n",
       "\n",
       "    .dataframe thead th {\n",
       "        text-align: right;\n",
       "    }\n",
       "</style>\n",
       "<table border=\"1\" class=\"dataframe\">\n",
       "  <thead>\n",
       "    <tr style=\"text-align: right;\">\n",
       "      <th></th>\n",
       "      <th>sid</th>\n",
       "      <th>surveyor_type</th>\n",
       "      <th>skill</th>\n",
       "      <th>speed_penalty</th>\n",
       "    </tr>\n",
       "  </thead>\n",
       "  <tbody>\n",
       "    <tr>\n",
       "      <th>0</th>\n",
       "      <td>pi_0</td>\n",
       "      <td>pi</td>\n",
       "      <td>1.00</td>\n",
       "      <td>0.0</td>\n",
       "    </tr>\n",
       "    <tr>\n",
       "      <th>1</th>\n",
       "      <td>grad_0</td>\n",
       "      <td>grad</td>\n",
       "      <td>0.95</td>\n",
       "      <td>0.0</td>\n",
       "    </tr>\n",
       "    <tr>\n",
       "      <th>2</th>\n",
       "      <td>undergrad_0</td>\n",
       "      <td>undergrad</td>\n",
       "      <td>0.85</td>\n",
       "      <td>0.2</td>\n",
       "    </tr>\n",
       "    <tr>\n",
       "      <th>3</th>\n",
       "      <td>undergrad_1</td>\n",
       "      <td>undergrad</td>\n",
       "      <td>0.85</td>\n",
       "      <td>0.2</td>\n",
       "    </tr>\n",
       "    <tr>\n",
       "      <th>4</th>\n",
       "      <td>undergrad_2</td>\n",
       "      <td>undergrad</td>\n",
       "      <td>0.85</td>\n",
       "      <td>0.2</td>\n",
       "    </tr>\n",
       "  </tbody>\n",
       "</table>\n",
       "</div>"
      ],
      "text/plain": [
       "           sid surveyor_type  skill  speed_penalty\n",
       "0         pi_0            pi   1.00            0.0\n",
       "1       grad_0          grad   0.95            0.0\n",
       "2  undergrad_0     undergrad   0.85            0.2\n",
       "3  undergrad_1     undergrad   0.85            0.2\n",
       "4  undergrad_2     undergrad   0.85            0.2"
      ]
     },
     "execution_count": 8,
     "metadata": {},
     "output_type": "execute_result"
    }
   ],
   "source": [
    "team"
   ]
  },
  {
   "cell_type": "code",
   "execution_count": null,
   "metadata": {},
   "outputs": [],
   "source": []
  },
  {
   "cell_type": "code",
   "execution_count": null,
   "metadata": {},
   "outputs": [],
   "source": []
  },
  {
   "cell_type": "code",
   "execution_count": null,
   "metadata": {},
   "outputs": [],
   "source": []
  },
  {
   "cell_type": "code",
   "execution_count": null,
   "metadata": {},
   "outputs": [],
   "source": []
  },
  {
   "cell_type": "code",
   "execution_count": null,
   "metadata": {},
   "outputs": [],
   "source": []
  },
  {
   "cell_type": "code",
   "execution_count": null,
   "metadata": {},
   "outputs": [],
   "source": []
  },
  {
   "cell_type": "code",
   "execution_count": null,
   "metadata": {},
   "outputs": [],
   "source": []
  },
  {
   "cell_type": "code",
   "execution_count": null,
   "metadata": {},
   "outputs": [],
   "source": []
  },
  {
   "cell_type": "code",
   "execution_count": null,
   "metadata": {},
   "outputs": [],
   "source": []
  },
  {
   "cell_type": "code",
   "execution_count": null,
   "metadata": {},
   "outputs": [],
   "source": []
  },
  {
   "cell_type": "code",
   "execution_count": null,
   "metadata": {},
   "outputs": [],
   "source": []
  },
  {
   "cell_type": "code",
   "execution_count": null,
   "metadata": {},
   "outputs": [],
   "source": []
  },
  {
   "cell_type": "code",
   "execution_count": null,
   "metadata": {},
   "outputs": [],
   "source": []
  },
  {
   "cell_type": "code",
   "execution_count": null,
   "metadata": {},
   "outputs": [],
   "source": []
  }
 ],
 "metadata": {
  "kernelspec": {
   "display_name": "Python 3",
   "language": "python",
   "name": "python3"
  },
  "language_info": {
   "codemirror_mode": {
    "name": "ipython",
    "version": 3
   },
   "file_extension": ".py",
   "mimetype": "text/x-python",
   "name": "python",
   "nbconvert_exporter": "python",
   "pygments_lexer": "ipython3",
   "version": "3.6.6"
  }
 },
 "nbformat": 4,
 "nbformat_minor": 2
}
