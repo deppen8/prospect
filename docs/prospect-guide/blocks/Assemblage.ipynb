{
 "cells": [
  {
   "source": [
    "# Assemblage"
   ],
   "cell_type": "markdown",
   "metadata": {}
  },
  {
   "cell_type": "markdown",
   "metadata": {},
   "source": [
    "The `Assemblage` represents all of the things that can potentially be discovered within an `Area`. These are most commonly going to be artifacts represented as points, but can theoretically be other shapes as well. The `Assemblage` must lie within the `Area`, so an `Area` object is a required parameter of the `Assemblage` creation methods.\n",
    "\n",
    "An `Assemblage` is made from a list of `Layer` objects, so most of the heavy lifting is done by creating each `Layer`. We will walk through `Layer` creation methods first, then we will put them together in an `Assemblage`."
   ]
  },
  {
   "cell_type": "markdown",
   "metadata": {
    "toc-hr-collapsed": false
   },
   "source": [
    "## Creating a `Layer`"
   ]
  },
  {
   "cell_type": "markdown",
   "metadata": {},
   "source": [
    "A `Layer` is intended to be a group of artifacts or other features that share `time_penalty` and `ideal_obs_rate` parameters. More practically, you can think of a `Layer` standing in for a type of artifact. For example, you might expect those parameters to be the same for any Iron Age ceramics, so you can put all of the Iron Age ceramics into the same `Layer`.\n",
    "\n",
    "Each element of the `Layer` (i.e., each individual artifact) is a `Feature` object. Most of the time it will make more sense to use `Layer` methods to create many `Feature` objects at the same time, but it is possible to create the `Feature` objects one-by-one and assembling them into a `Layer`."
   ]
  },
  {
   "cell_type": "markdown",
   "metadata": {},
   "source": [
    "### From a list of `Feature` objects"
   ]
  },
  {
   "cell_type": "markdown",
   "metadata": {},
   "source": [
    "To create a `Feature`, we need a `shapely` object, so let's create a few simple points."
   ]
  },
  {
   "cell_type": "code",
   "execution_count": 1,
   "metadata": {},
   "outputs": [],
   "source": [
    "from shapely.geometry import Point\n",
    "import prospect\n",
    "from scipy.stats import beta\n",
    "\n",
    "pt1 = Point(10, 10)\n",
    "ft1 = prospect.Feature(\n",
    "    name=\"feature1\", \n",
    "    layer_name=\"demo_layer\", \n",
    "    shape=pt1,\n",
    "    time_penalty=prospect.utils.truncnorm(mean=10, sd=7, lower=0, upper=50),\n",
    "    ideal_obs_rate=beta(9, 1)\n",
    ")\n",
    "\n",
    "pt2 = Point(50, 50)\n",
    "ft2 = prospect.Feature(\n",
    "    name=\"feature2\",\n",
    "    layer_name=\"demo_layer\", \n",
    "    shape=pt2,\n",
    "    time_penalty=prospect.utils.truncnorm(mean=10, sd=7, lower=0, upper=50),\n",
    "    ideal_obs_rate=beta(9, 1)\n",
    ")\n",
    "\n",
    "pt3 = Point(90, 90)\n",
    "ft3 = prospect.Feature(\n",
    "    name=\"feature3\",\n",
    "    layer_name=\"demo_layer\",\n",
    "    shape=pt3,\n",
    "    time_penalty=prospect.utils.truncnorm(mean=10, sd=7, lower=0, upper=50),\n",
    "    ideal_obs_rate=beta(9, 1)\n",
    ")"
   ]
  },
  {
   "cell_type": "markdown",
   "metadata": {},
   "source": [
    "```{note}\n",
    "Notice that we kept the `time_penalty` and `ideal_obs_rate` parameters constant. It is not *required* that all members of a `Layer` have identical values for these parameters, but it is probably a good idea. If you need to use different values, it is probably best to use one `Layer` per unique set of parameters.\n",
    "```\n",
    "\n",
    "Now let's put our `Feature` objects into a `Layer`. The `Layer` constructor will check and ensure that the `Feature` objects are located within the `Area` boundaries, so you must pass an `Area` when creating a `Layer`.\n",
    "\n",
    "```{note}\n",
    "Currently this spatial rule is only enforced if all of the elements in `input_features` are `Point` objects. It is my hope to include `LineString` and `Polygon` `Feature` objects in this \"clipping\" operation in the future.\n",
    "```"
   ]
  },
  {
   "cell_type": "code",
   "execution_count": 2,
   "metadata": {},
   "outputs": [],
   "source": [
    "demo_area = prospect.Area.from_area_value(\n",
    "    name='demo_area', \n",
    "    value=10000\n",
    ")"
   ]
  },
  {
   "cell_type": "code",
   "execution_count": 3,
   "metadata": {},
   "outputs": [],
   "source": [
    "layer_from_list = prospect.Layer(\n",
    "    name='demo_layer', \n",
    "    area=demo_area,\n",
    "    assemblage_name='demo_assemblage',\n",
    "    input_features=[ft1, ft2, ft3]\n",
    ")"
   ]
  },
  {
   "cell_type": "code",
   "execution_count": 4,
   "metadata": {},
   "outputs": [
    {
     "data": {
      "text/plain": [
       "prospect.layer.Layer"
      ]
     },
     "execution_count": 4,
     "metadata": {},
     "output_type": "execute_result"
    }
   ],
   "source": [
    "type(layer_from_list)"
   ]
  },
  {
   "cell_type": "code",
   "execution_count": 5,
   "metadata": {},
   "outputs": [
    {
     "data": {
      "text/html": [
       "<div>\n",
       "<style scoped>\n",
       "    .dataframe tbody tr th:only-of-type {\n",
       "        vertical-align: middle;\n",
       "    }\n",
       "\n",
       "    .dataframe tbody tr th {\n",
       "        vertical-align: top;\n",
       "    }\n",
       "\n",
       "    .dataframe thead th {\n",
       "        text-align: right;\n",
       "    }\n",
       "</style>\n",
       "<table border=\"1\" class=\"dataframe\">\n",
       "  <thead>\n",
       "    <tr style=\"text-align: right;\">\n",
       "      <th></th>\n",
       "      <th>feature_name</th>\n",
       "      <th>layer_name</th>\n",
       "      <th>shape</th>\n",
       "      <th>time_penalty</th>\n",
       "      <th>ideal_obs_rate</th>\n",
       "    </tr>\n",
       "  </thead>\n",
       "  <tbody>\n",
       "    <tr>\n",
       "      <th>0</th>\n",
       "      <td>feature1</td>\n",
       "      <td>demo_layer</td>\n",
       "      <td>POINT (10.00000 10.00000)</td>\n",
       "      <td>&lt;scipy.stats._distn_infrastructure.rv_frozen o...</td>\n",
       "      <td>&lt;scipy.stats._distn_infrastructure.rv_frozen o...</td>\n",
       "    </tr>\n",
       "    <tr>\n",
       "      <th>1</th>\n",
       "      <td>feature2</td>\n",
       "      <td>demo_layer</td>\n",
       "      <td>POINT (50.00000 50.00000)</td>\n",
       "      <td>&lt;scipy.stats._distn_infrastructure.rv_frozen o...</td>\n",
       "      <td>&lt;scipy.stats._distn_infrastructure.rv_frozen o...</td>\n",
       "    </tr>\n",
       "    <tr>\n",
       "      <th>2</th>\n",
       "      <td>feature3</td>\n",
       "      <td>demo_layer</td>\n",
       "      <td>POINT (90.00000 90.00000)</td>\n",
       "      <td>&lt;scipy.stats._distn_infrastructure.rv_frozen o...</td>\n",
       "      <td>&lt;scipy.stats._distn_infrastructure.rv_frozen o...</td>\n",
       "    </tr>\n",
       "  </tbody>\n",
       "</table>\n",
       "</div>"
      ],
      "text/plain": [
       "  feature_name  layer_name                      shape  \\\n",
       "0     feature1  demo_layer  POINT (10.00000 10.00000)   \n",
       "1     feature2  demo_layer  POINT (50.00000 50.00000)   \n",
       "2     feature3  demo_layer  POINT (90.00000 90.00000)   \n",
       "\n",
       "                                        time_penalty  \\\n",
       "0  <scipy.stats._distn_infrastructure.rv_frozen o...   \n",
       "1  <scipy.stats._distn_infrastructure.rv_frozen o...   \n",
       "2  <scipy.stats._distn_infrastructure.rv_frozen o...   \n",
       "\n",
       "                                      ideal_obs_rate  \n",
       "0  <scipy.stats._distn_infrastructure.rv_frozen o...  \n",
       "1  <scipy.stats._distn_infrastructure.rv_frozen o...  \n",
       "2  <scipy.stats._distn_infrastructure.rv_frozen o...  "
      ]
     },
     "execution_count": 5,
     "metadata": {},
     "output_type": "execute_result"
    }
   ],
   "source": [
    "layer_from_list.df"
   ]
  },
  {
   "cell_type": "code",
   "execution_count": 6,
   "metadata": {},
   "outputs": [
    {
     "data": {
      "text/plain": [
       "geopandas.geodataframe.GeoDataFrame"
      ]
     },
     "execution_count": 6,
     "metadata": {},
     "output_type": "execute_result"
    }
   ],
   "source": [
    "type(layer_from_list.df)"
   ]
  },
  {
   "cell_type": "markdown",
   "metadata": {},
   "source": [
    "We can use the plotting functionality from `geopandas` to visualize the `Layer` members within the `Area`."
   ]
  },
  {
   "cell_type": "code",
   "execution_count": 7,
   "metadata": {},
   "outputs": [
    {
     "data": {
      "text/plain": [
       "<matplotlib.axes._subplots.AxesSubplot at 0x125099f90>"
      ]
     },
     "execution_count": 7,
     "metadata": {},
     "output_type": "execute_result"
    },
    {
     "data": {
      "image/png": "[encoded data removed]",
      "text/plain": [
       "<Figure size 432x288 with 1 Axes>"
      ]
     },
     "metadata": {
      "needs_background": "light"
     },
     "output_type": "display_data"
    }
   ],
   "source": [
    "layer_from_list.df.plot(ax=demo_area.df.plot(), color=\"orange\")"
   ]
  },
  {
   "cell_type": "markdown",
   "metadata": {},
   "source": [
    "### From a shapefile"
   ]
  },
  {
   "cell_type": "markdown",
   "metadata": {},
   "source": [
    "The `from_shapefile()` method is useful for reading in existing datasets as `Layer` objects. These could be data from a completed field survey or maybe data designed to test some custom question."
   ]
  },
  {
   "cell_type": "code",
   "execution_count": 8,
   "metadata": {},
   "outputs": [],
   "source": [
    "area_from_shp = prospect.Area.from_shapefile(\n",
    "    name=\"area_shp\", \n",
    "    path=\"./data/demo_area.shp\"\n",
    ")\n",
    "\n",
    "layer_from_shp = prospect.Layer.from_shapefile(\n",
    "    path=\"./data/demo_layer.shp\",\n",
    "    name=\"demo_layer_from_shp\",\n",
    "    area=area_from_shp,\n",
    "    assemblage_name=\"demo_assemblage\",\n",
    "    time_penalty=prospect.utils.truncnorm(mean=10, sd=7, lower=0, upper=50),\n",
    "    ideal_obs_rate=beta(9, 1)\n",
    ")"
   ]
  },
  {
   "cell_type": "code",
   "execution_count": 9,
   "metadata": {},
   "outputs": [
    {
     "data": {
      "text/html": [
       "<div>\n",
       "<style scoped>\n",
       "    .dataframe tbody tr th:only-of-type {\n",
       "        vertical-align: middle;\n",
       "    }\n",
       "\n",
       "    .dataframe tbody tr th {\n",
       "        vertical-align: top;\n",
       "    }\n",
       "\n",
       "    .dataframe thead th {\n",
       "        text-align: right;\n",
       "    }\n",
       "</style>\n",
       "<table border=\"1\" class=\"dataframe\">\n",
       "  <thead>\n",
       "    <tr style=\"text-align: right;\">\n",
       "      <th></th>\n",
       "      <th>feature_name</th>\n",
       "      <th>layer_name</th>\n",
       "      <th>shape</th>\n",
       "      <th>time_penalty</th>\n",
       "      <th>ideal_obs_rate</th>\n",
       "    </tr>\n",
       "  </thead>\n",
       "  <tbody>\n",
       "    <tr>\n",
       "      <th>0</th>\n",
       "      <td>demo_layer_from_shp_0</td>\n",
       "      <td>demo_layer_from_shp</td>\n",
       "      <td>POINT (533579.123 4388848.757)</td>\n",
       "      <td>&lt;scipy.stats._distn_infrastructure.rv_frozen o...</td>\n",
       "      <td>&lt;scipy.stats._distn_infrastructure.rv_frozen o...</td>\n",
       "    </tr>\n",
       "    <tr>\n",
       "      <th>1</th>\n",
       "      <td>demo_layer_from_shp_1</td>\n",
       "      <td>demo_layer_from_shp</td>\n",
       "      <td>POINT (533638.844 4388883.594)</td>\n",
       "      <td>&lt;scipy.stats._distn_infrastructure.rv_frozen o...</td>\n",
       "      <td>&lt;scipy.stats._distn_infrastructure.rv_frozen o...</td>\n",
       "    </tr>\n",
       "    <tr>\n",
       "      <th>2</th>\n",
       "      <td>demo_layer_from_shp_2</td>\n",
       "      <td>demo_layer_from_shp</td>\n",
       "      <td>POINT (533621.702 4388842.121)</td>\n",
       "      <td>&lt;scipy.stats._distn_infrastructure.rv_frozen o...</td>\n",
       "      <td>&lt;scipy.stats._distn_infrastructure.rv_frozen o...</td>\n",
       "    </tr>\n",
       "    <tr>\n",
       "      <th>3</th>\n",
       "      <td>demo_layer_from_shp_3</td>\n",
       "      <td>demo_layer_from_shp</td>\n",
       "      <td>POINT (533701.882 4388861.475)</td>\n",
       "      <td>&lt;scipy.stats._distn_infrastructure.rv_frozen o...</td>\n",
       "      <td>&lt;scipy.stats._distn_infrastructure.rv_frozen o...</td>\n",
       "    </tr>\n",
       "    <tr>\n",
       "      <th>4</th>\n",
       "      <td>demo_layer_from_shp_4</td>\n",
       "      <td>demo_layer_from_shp</td>\n",
       "      <td>POINT (533669.810 4388763.047)</td>\n",
       "      <td>&lt;scipy.stats._distn_infrastructure.rv_frozen o...</td>\n",
       "      <td>&lt;scipy.stats._distn_infrastructure.rv_frozen o...</td>\n",
       "    </tr>\n",
       "    <tr>\n",
       "      <th>5</th>\n",
       "      <td>demo_layer_from_shp_5</td>\n",
       "      <td>demo_layer_from_shp</td>\n",
       "      <td>POINT (533575.252 4388787.930)</td>\n",
       "      <td>&lt;scipy.stats._distn_infrastructure.rv_frozen o...</td>\n",
       "      <td>&lt;scipy.stats._distn_infrastructure.rv_frozen o...</td>\n",
       "    </tr>\n",
       "    <tr>\n",
       "      <th>6</th>\n",
       "      <td>demo_layer_from_shp_6</td>\n",
       "      <td>demo_layer_from_shp</td>\n",
       "      <td>POINT (533771.556 4388874.194)</td>\n",
       "      <td>&lt;scipy.stats._distn_infrastructure.rv_frozen o...</td>\n",
       "      <td>&lt;scipy.stats._distn_infrastructure.rv_frozen o...</td>\n",
       "    </tr>\n",
       "    <tr>\n",
       "      <th>7</th>\n",
       "      <td>demo_layer_from_shp_7</td>\n",
       "      <td>demo_layer_from_shp</td>\n",
       "      <td>POINT (533717.918 4388839.910)</td>\n",
       "      <td>&lt;scipy.stats._distn_infrastructure.rv_frozen o...</td>\n",
       "      <td>&lt;scipy.stats._distn_infrastructure.rv_frozen o...</td>\n",
       "    </tr>\n",
       "  </tbody>\n",
       "</table>\n",
       "</div>"
      ],
      "text/plain": [
       "            feature_name           layer_name                           shape  \\\n",
       "0  demo_layer_from_shp_0  demo_layer_from_shp  POINT (533579.123 4388848.757)   \n",
       "1  demo_layer_from_shp_1  demo_layer_from_shp  POINT (533638.844 4388883.594)   \n",
       "2  demo_layer_from_shp_2  demo_layer_from_shp  POINT (533621.702 4388842.121)   \n",
       "3  demo_layer_from_shp_3  demo_layer_from_shp  POINT (533701.882 4388861.475)   \n",
       "4  demo_layer_from_shp_4  demo_layer_from_shp  POINT (533669.810 4388763.047)   \n",
       "5  demo_layer_from_shp_5  demo_layer_from_shp  POINT (533575.252 4388787.930)   \n",
       "6  demo_layer_from_shp_6  demo_layer_from_shp  POINT (533771.556 4388874.194)   \n",
       "7  demo_layer_from_shp_7  demo_layer_from_shp  POINT (533717.918 4388839.910)   \n",
       "\n",
       "                                        time_penalty  \\\n",
       "0  <scipy.stats._distn_infrastructure.rv_frozen o...   \n",
       "1  <scipy.stats._distn_infrastructure.rv_frozen o...   \n",
       "2  <scipy.stats._distn_infrastructure.rv_frozen o...   \n",
       "3  <scipy.stats._distn_infrastructure.rv_frozen o...   \n",
       "4  <scipy.stats._distn_infrastructure.rv_frozen o...   \n",
       "5  <scipy.stats._distn_infrastructure.rv_frozen o...   \n",
       "6  <scipy.stats._distn_infrastructure.rv_frozen o...   \n",
       "7  <scipy.stats._distn_infrastructure.rv_frozen o...   \n",
       "\n",
       "                                      ideal_obs_rate  \n",
       "0  <scipy.stats._distn_infrastructure.rv_frozen o...  \n",
       "1  <scipy.stats._distn_infrastructure.rv_frozen o...  \n",
       "2  <scipy.stats._distn_infrastructure.rv_frozen o...  \n",
       "3  <scipy.stats._distn_infrastructure.rv_frozen o...  \n",
       "4  <scipy.stats._distn_infrastructure.rv_frozen o...  \n",
       "5  <scipy.stats._distn_infrastructure.rv_frozen o...  \n",
       "6  <scipy.stats._distn_infrastructure.rv_frozen o...  \n",
       "7  <scipy.stats._distn_infrastructure.rv_frozen o...  "
      ]
     },
     "execution_count": 9,
     "metadata": {},
     "output_type": "execute_result"
    }
   ],
   "source": [
    "layer_from_shp.df"
   ]
  },
  {
   "cell_type": "markdown",
   "metadata": {},
   "source": [
    "Let's plot the resulting `Layer`."
   ]
  },
  {
   "cell_type": "code",
   "execution_count": 10,
   "metadata": {},
   "outputs": [
    {
     "data": {
      "text/plain": [
       "<matplotlib.axes._subplots.AxesSubplot at 0x12b164210>"
      ]
     },
     "execution_count": 10,
     "metadata": {},
     "output_type": "execute_result"
    },
    {
     "data": {
      "image/png": "[encoded data removed]",
      "text/plain": [
       "<Figure size 432x288 with 1 Axes>"
      ]
     },
     "metadata": {
      "needs_background": "light"
     },
     "output_type": "display_data"
    }
   ],
   "source": [
    "layer_from_shp.df.plot(ax=area_from_shp.df.plot(), color=\"orange\")"
   ]
  },
  {
   "cell_type": "markdown",
   "metadata": {},
   "source": [
    "### From pseudorandom points"
   ]
  },
  {
   "cell_type": "markdown",
   "metadata": {},
   "source": [
    "To very quickly create a `Layer` with a specific number of points, you can use the `from_pseudorandom_points()` method. This method uses `numpy` to draw $n$ random values for coordinates for `Point` objects."
   ]
  },
  {
   "cell_type": "code",
   "execution_count": 11,
   "metadata": {},
   "outputs": [],
   "source": [
    "area_from_shp = prospect.Area.from_shapefile(\n",
    "    name=\"area_shp\", \n",
    "    path=\"./data/demo_area.shp\"\n",
    ")\n",
    "\n",
    "layer_from_pseudo_rand = prospect.Layer.from_pseudorandom_points(\n",
    "    n=100,\n",
    "    name=\"demo_layer_from_pseu_rand\",\n",
    "    area=area_from_shp,\n",
    "    assemblage_name=\"demo_assemblage\",\n",
    "    time_penalty=prospect.utils.truncnorm(mean=10, sd=7, lower=0, upper=50),\n",
    "    ideal_obs_rate=beta(9, 1)\n",
    ")"
   ]
  },
  {
   "cell_type": "code",
   "execution_count": 12,
   "metadata": {},
   "outputs": [
    {
     "data": {
      "text/plain": [
       "(100, 5)"
      ]
     },
     "execution_count": 12,
     "metadata": {},
     "output_type": "execute_result"
    }
   ],
   "source": [
    "layer_from_pseudo_rand.df.shape"
   ]
  },
  {
   "cell_type": "code",
   "execution_count": 13,
   "metadata": {},
   "outputs": [
    {
     "data": {
      "text/plain": [
       "<matplotlib.axes._subplots.AxesSubplot at 0x12b4409d0>"
      ]
     },
     "execution_count": 13,
     "metadata": {},
     "output_type": "execute_result"
    },
    {
     "data": {
      "image/png": "[encoded data removed]",
      "text/plain": [
       "<Figure size 432x288 with 1 Axes>"
      ]
     },
     "metadata": {
      "needs_background": "light"
     },
     "output_type": "display_data"
    }
   ],
   "source": [
    "layer_from_pseudo_rand.df.plot(ax=area_from_shp.df.plot(), color='orange')"
   ]
  },
  {
   "cell_type": "markdown",
   "metadata": {
    "toc-hr-collapsed": false
   },
   "source": [
    "### From point processes"
   ]
  },
  {
   "cell_type": "markdown",
   "metadata": {},
   "source": [
    "`prospect` offers methods for creating `Layer` objects using existing point pattern types: Poisson, Thomas, and Matern."
   ]
  },
  {
   "cell_type": "markdown",
   "metadata": {},
   "source": [
    "```{caution}\n",
    "For all of these point pattern types, the generated points are *not* guaranteed to fall within the given `Area`, only within its bounding box. The generated `GeoDataFrame` of points, `df`, is clipped by the actual `Area` bounds *after* they are generated, which can result in fewer points than expected. If you need to examine what has been clipped, all original points will remain in the `input_features` attribute.\n",
    "```"
   ]
  },
  {
   "cell_type": "markdown",
   "metadata": {},
   "source": [
    "#### Poisson"
   ]
  },
  {
   "cell_type": "markdown",
   "metadata": {},
   "source": [
    "A Poisson point process is usually said to be more \"purely\" random than most random number generators (like the one used in `from_pseudorandom_points()`)\n",
    "\n",
    "The rate (usually called \"lambda\") of the Poisson point process represents the number of events per unit of area per unit of time across some theoretical space of which our `Area` is some subset. In this case, we only have one unit of time, so the rate really represents a theoretical number of events per unit area. For example, if the specified rate is 5, in any 1x1 square, the number of points observed will be drawn randomly from a Poisson distribution with a shape parameter of 5. In practical terms, this means that over many 1x1 areas (or many observations of the same area), the mean number of points observed in that area will approximate 5."
   ]
  },
  {
   "cell_type": "code",
   "execution_count": 14,
   "metadata": {},
   "outputs": [],
   "source": [
    "area_from_shp = prospect.Area.from_shapefile(\n",
    "    name=\"area_shp\", \n",
    "    path=\"./data/demo_area.shp\"\n",
    ")\n",
    "\n",
    "layer_from_poisson = prospect.Layer.from_poisson_points(\n",
    "    rate=0.005,\n",
    "    name=\"demo_layer_from_poisson\", \n",
    "    area=area_from_shp, \n",
    "    assemblage_name=\"demo_assemblage\",\n",
    "    time_penalty=prospect.utils.truncnorm(mean=10, sd=7, lower=0, upper=50),\n",
    "    ideal_obs_rate=beta(9, 1)\n",
    ")"
   ]
  },
  {
   "cell_type": "code",
   "execution_count": 15,
   "metadata": {},
   "outputs": [
    {
     "data": {
      "text/plain": [
       "(143, 5)"
      ]
     },
     "execution_count": 15,
     "metadata": {},
     "output_type": "execute_result"
    }
   ],
   "source": [
    "layer_from_poisson.df.shape"
   ]
  },
  {
   "cell_type": "code",
   "execution_count": 16,
   "metadata": {},
   "outputs": [
    {
     "data": {
      "text/plain": [
       "<matplotlib.axes._subplots.AxesSubplot at 0x12b58b8d0>"
      ]
     },
     "execution_count": 16,
     "metadata": {},
     "output_type": "execute_result"
    },
    {
     "data": {
      "image/png": "[encoded data removed]",
      "text/plain": [
       "<Figure size 432x288 with 1 Axes>"
      ]
     },
     "metadata": {
      "needs_background": "light"
     },
     "output_type": "display_data"
    }
   ],
   "source": [
    "layer_from_poisson.df.plot(ax=area_from_shp.df.plot(), color='orange')"
   ]
  },
  {
   "cell_type": "markdown",
   "metadata": {},
   "source": [
    "#### Thomas"
   ]
  },
  {
   "cell_type": "markdown",
   "metadata": {},
   "source": [
    "A Thomas point process is a two-stage Poisson process. It has a Poisson number of clusters, each with a Poisson number of points distributed with an isotropic Gaussian distribution of a given variance. The points that are used to define the parent clusters are *not* represented in the output.\n",
    "\n",
    "```{tip}\n",
    "This is an excellent way to generate artifact clusters.\n",
    "```"
   ]
  },
  {
   "cell_type": "code",
   "execution_count": 17,
   "metadata": {},
   "outputs": [],
   "source": [
    "area_from_shp = prospect.Area.from_shapefile(\n",
    "    name=\"area_shp\", \n",
    "    path=\"./data/demo_area.shp\"\n",
    ")\n",
    "\n",
    "layer_from_thomas = prospect.Layer.from_thomas_points(\n",
    "    parent_rate=0.001,\n",
    "    child_rate=10,\n",
    "    gauss_var=5,\n",
    "    name=\"demo_layer_from_thomas\", \n",
    "    area=area_from_shp, \n",
    "    assemblage_name=\"demo_assemblage\",\n",
    "    time_penalty=prospect.utils.truncnorm(mean=10, sd=7, lower=0, upper=50),\n",
    "    ideal_obs_rate=beta(9, 1)\n",
    ")"
   ]
  },
  {
   "cell_type": "code",
   "execution_count": 18,
   "metadata": {},
   "outputs": [
    {
     "data": {
      "text/plain": [
       "(380, 5)"
      ]
     },
     "execution_count": 18,
     "metadata": {},
     "output_type": "execute_result"
    }
   ],
   "source": [
    "layer_from_thomas.df.shape"
   ]
  },
  {
   "cell_type": "code",
   "execution_count": 19,
   "metadata": {},
   "outputs": [
    {
     "data": {
      "text/plain": [
       "<matplotlib.axes._subplots.AxesSubplot at 0x12b79b450>"
      ]
     },
     "execution_count": 19,
     "metadata": {},
     "output_type": "execute_result"
    },
    {
     "data": {
      "image/png": "[encoded data removed]",
      "text/plain": [
       "<Figure size 432x288 with 1 Axes>"
      ]
     },
     "metadata": {
      "needs_background": "light"
     },
     "output_type": "display_data"
    }
   ],
   "source": [
    "layer_from_thomas.df.plot(ax=area_from_shp.df.plot(), color='orange')"
   ]
  },
  {
   "cell_type": "markdown",
   "metadata": {},
   "source": [
    "#### Matern"
   ]
  },
  {
   "cell_type": "markdown",
   "metadata": {},
   "source": [
    "The Matern process is similar to the Thomas point process. It has a Poisson number of parent clusters like the Thomas process, but in this case, each parent cluster has a Poisson number of points distributed uniformly across a disk of a given radius.\n",
    "\n",
    "```{tip}\n",
    "This is an excellent method for generating circular clusters of artifacts.\n",
    "```"
   ]
  },
  {
   "cell_type": "code",
   "execution_count": 20,
   "metadata": {},
   "outputs": [],
   "source": [
    "area_from_shp = prospect.Area.from_shapefile(\n",
    "    name=\"area_shp\", \n",
    "    path=\"./data/demo_area.shp\"\n",
    ")\n",
    "\n",
    "layer_from_matern = prospect.Layer.from_matern_points(\n",
    "    parent_rate=0.001,\n",
    "    child_rate=10,\n",
    "    radius=5,\n",
    "    name=\"demo_layer_from_matern\", \n",
    "    area=area_from_shp, \n",
    "    assemblage_name=\"demo_assemblage\",\n",
    "    time_penalty=prospect.utils.truncnorm(mean=10, sd=7, lower=0, upper=50),\n",
    "    ideal_obs_rate=beta(9, 1)\n",
    ")"
   ]
  },
  {
   "cell_type": "code",
   "execution_count": 21,
   "metadata": {},
   "outputs": [
    {
     "data": {
      "text/plain": [
       "(296, 5)"
      ]
     },
     "execution_count": 21,
     "metadata": {},
     "output_type": "execute_result"
    }
   ],
   "source": [
    "layer_from_matern.df.shape"
   ]
  },
  {
   "cell_type": "code",
   "execution_count": 22,
   "metadata": {},
   "outputs": [
    {
     "data": {
      "text/plain": [
       "<matplotlib.axes._subplots.AxesSubplot at 0x12b995890>"
      ]
     },
     "execution_count": 22,
     "metadata": {},
     "output_type": "execute_result"
    },
    {
     "data": {
      "image/png": "[encoded data removed]",
      "text/plain": [
       "<Figure size 432x288 with 1 Axes>"
      ]
     },
     "metadata": {
      "needs_background": "light"
     },
     "output_type": "display_data"
    }
   ],
   "source": [
    "layer_from_matern.df.plot(ax=area_from_shp.df.plot(), color='orange')"
   ]
  },
  {
   "cell_type": "markdown",
   "metadata": {},
   "source": [
    "\n",
    "```{admonition} COMING SOON: from_rectangles()\n",
    ":class: tip\n",
    "In the future I plan to implement a convenience method for placing rectangles (or other polygon shapes) randomly within an `Area` using a Poisson point process to determine the centerpoints of the polygons.\n",
    "```"
   ]
  },
  {
   "cell_type": "markdown",
   "metadata": {},
   "source": [
    "## `time_penalty` parameter"
   ]
  },
  {
   "cell_type": "markdown",
   "metadata": {},
   "source": [
    "The time penalty is meant to reflect the amount of time added to the search time to record any particular `Feature` object when it is found.\n",
    "\n",
    "This parameter requires some knowledge or intuition about the recording methods that are (or could be) used in the field. For example, if special labeling or curation procedures are to be applied to some class of artifacts, that might justify a greater time penalty for that `Layer` of artifacts. Recall though that this parameter is applied to all `Features` that make up a `Layer`, so take care to include only `Feature` objects for which this `time_penalty` value holds.\n",
    "\n",
    "Let's revisit the last example we saw. Here, we specify the `time_penalty` parameter of the `Layer` as a truncated normal distribution with a mean of 10, a standard deviation of 7, lower bound at 0, and upper bound at 50."
   ]
  },
  {
   "cell_type": "code",
   "execution_count": 23,
   "metadata": {},
   "outputs": [],
   "source": [
    "area_from_shp = prospect.Area.from_shapefile(\n",
    "    name=\"area_shp\", \n",
    "    path=\"./data/demo_area.shp\"\n",
    ")\n",
    "\n",
    "layer_from_matern = prospect.Layer.from_matern_points(\n",
    "    parent_rate=0.001,\n",
    "    child_rate=10,\n",
    "    radius=5,\n",
    "    name=\"demo_layer_from_matern\", \n",
    "    area=area_from_shp, \n",
    "    assemblage_name=\"demo_assemblage\",\n",
    "    time_penalty=prospect.utils.truncnorm(mean=10, sd=7, lower=0, upper=50),\n",
    "    ideal_obs_rate=beta(9, 1)\n",
    ")"
   ]
  },
  {
   "cell_type": "markdown",
   "metadata": {},
   "source": [
    "We can check that the `time_penalty` column of the `<Layer>.df` attribute is indeed a `scipy` distribution."
   ]
  },
  {
   "cell_type": "code",
   "execution_count": 24,
   "metadata": {},
   "outputs": [
    {
     "data": {
      "text/plain": [
       "0    <scipy.stats._distn_infrastructure.rv_frozen o...\n",
       "1    <scipy.stats._distn_infrastructure.rv_frozen o...\n",
       "2    <scipy.stats._distn_infrastructure.rv_frozen o...\n",
       "3    <scipy.stats._distn_infrastructure.rv_frozen o...\n",
       "4    <scipy.stats._distn_infrastructure.rv_frozen o...\n",
       "Name: time_penalty, dtype: object"
      ]
     },
     "execution_count": 24,
     "metadata": {},
     "output_type": "execute_result"
    }
   ],
   "source": [
    "layer_from_matern.df['time_penalty'].head()"
   ]
  },
  {
   "cell_type": "markdown",
   "metadata": {},
   "source": [
    "## `ideal_obs_rate` parameter"
   ]
  },
  {
   "cell_type": "markdown",
   "metadata": {},
   "source": [
    "Of all the `prospect` parameters, the ideal observation rate is perhaps the most difficult to define. It represents the frequency with which an artifact or feature will be recorded, assuming the following ideal conditions: \n",
    "- It lies inside or intersects the `Coverage`\n",
    "- Surface visibility is 100%\n",
    "- The surveyor's skill is 1.0\n",
    "\n",
    "These assumptions are important to consider further. The ideal observation rate is specified here solely as a property of the materials (i.e., artifacts or features) themselves, unrelated to the distance from the observer, surface visibility, or surveyor skill. These other factors are all accounted for in other parts of the simulation, so users should avoid replicating that uncertainty here. For most `Layer` objects, this value should probably be 1.0 or close to 1.0, but there are some scenarios where you might want to consider an alternate value. For instance:\n",
    "- If the `Layer` represents extremely small artifacts (e.g., beads, tiny stone flakes) that are hard to observe even in the best conditions.\n",
    "- If the `Layer` represents artifacts or features that are difficult to differentiate from the surface \"background\" in a particular context. For example, in a gravelly area, ceramic sherds can be difficult to differentiate from rocks. A major caveat here is that this \"background noise\" is sometimes considered in surface visibility estimations, so the user should take care not to duplicate that uncertainty if it is already accounted for in the `Area` building block.\n",
    "\n",
    "Let's look at the `Layer` from above once again."
   ]
  },
  {
   "cell_type": "code",
   "execution_count": 25,
   "metadata": {},
   "outputs": [],
   "source": [
    "area_from_shp = prospect.Area.from_shapefile(\n",
    "    name=\"area_shp\", \n",
    "    path=\"./data/demo_area.shp\"\n",
    ")\n",
    "\n",
    "layer_from_matern = prospect.Layer.from_matern_points(\n",
    "    parent_rate=0.001,\n",
    "    child_rate=10,\n",
    "    radius=5,\n",
    "    name=\"demo_layer_from_matern\", \n",
    "    area=area_from_shp, \n",
    "    assemblage_name=\"demo_assemblage\",\n",
    "    time_penalty=prospect.utils.truncnorm(mean=10, sd=7, lower=0, upper=50),\n",
    "    ideal_obs_rate=beta(9, 1)\n",
    ")"
   ]
  },
  {
   "cell_type": "markdown",
   "metadata": {},
   "source": [
    "By setting the `ideal_obs_rate` parameter to a Beta distribution (`scipy.stats.beta(9, 1)`), we are saying, for example, that if there were 10 artifacts of this type in an area, even a highly-skilled surveyor in perfect visibility conditions would only discover 9 of them most of the time."
   ]
  },
  {
   "cell_type": "markdown",
   "metadata": {},
   "source": [
    "## Creating an `Assemblage` from `Layer` objects"
   ]
  },
  {
   "cell_type": "markdown",
   "metadata": {},
   "source": [
    "An `Assemblage` is merely a collection of `Layer` objects. You can pass your previously-created `Layer` objects in a list to the `Assemblage` constructor. We'll pass it all of the `Layer` objects we created above."
   ]
  },
  {
   "cell_type": "code",
   "execution_count": 26,
   "metadata": {},
   "outputs": [],
   "source": [
    "demo_assemblage = prospect.Assemblage(\n",
    "    name=\"demo_assemblage\",\n",
    "    area_name=\"area_shp\",\n",
    "    layer_list=[\n",
    "        layer_from_list,\n",
    "        layer_from_shp,\n",
    "        layer_from_pseudo_rand,\n",
    "        layer_from_poisson,\n",
    "        layer_from_thomas,\n",
    "        layer_from_matern\n",
    "    ]\n",
    ")"
   ]
  },
  {
   "cell_type": "markdown",
   "metadata": {},
   "source": [
    "We can see that all of the `Feature` objects from the various `Layer` objects are part of one `Assemblage` object."
   ]
  },
  {
   "cell_type": "code",
   "execution_count": 27,
   "metadata": {},
   "outputs": [
    {
     "data": {
      "text/html": [
       "<div>\n",
       "<style scoped>\n",
       "    .dataframe tbody tr th:only-of-type {\n",
       "        vertical-align: middle;\n",
       "    }\n",
       "\n",
       "    .dataframe tbody tr th {\n",
       "        vertical-align: top;\n",
       "    }\n",
       "\n",
       "    .dataframe thead th {\n",
       "        text-align: right;\n",
       "    }\n",
       "</style>\n",
       "<table border=\"1\" class=\"dataframe\">\n",
       "  <thead>\n",
       "    <tr style=\"text-align: right;\">\n",
       "      <th></th>\n",
       "      <th>feature_name</th>\n",
       "      <th>layer_name</th>\n",
       "      <th>shape</th>\n",
       "      <th>time_penalty</th>\n",
       "      <th>ideal_obs_rate</th>\n",
       "    </tr>\n",
       "  </thead>\n",
       "  <tbody>\n",
       "    <tr>\n",
       "      <th>0</th>\n",
       "      <td>feature1</td>\n",
       "      <td>demo_layer</td>\n",
       "      <td>POINT (10.000 10.000)</td>\n",
       "      <td>&lt;scipy.stats._distn_infrastructure.rv_frozen o...</td>\n",
       "      <td>&lt;scipy.stats._distn_infrastructure.rv_frozen o...</td>\n",
       "    </tr>\n",
       "    <tr>\n",
       "      <th>1</th>\n",
       "      <td>feature2</td>\n",
       "      <td>demo_layer</td>\n",
       "      <td>POINT (50.000 50.000)</td>\n",
       "      <td>&lt;scipy.stats._distn_infrastructure.rv_frozen o...</td>\n",
       "      <td>&lt;scipy.stats._distn_infrastructure.rv_frozen o...</td>\n",
       "    </tr>\n",
       "    <tr>\n",
       "      <th>2</th>\n",
       "      <td>feature3</td>\n",
       "      <td>demo_layer</td>\n",
       "      <td>POINT (90.000 90.000)</td>\n",
       "      <td>&lt;scipy.stats._distn_infrastructure.rv_frozen o...</td>\n",
       "      <td>&lt;scipy.stats._distn_infrastructure.rv_frozen o...</td>\n",
       "    </tr>\n",
       "    <tr>\n",
       "      <th>3</th>\n",
       "      <td>demo_layer_from_shp_0</td>\n",
       "      <td>demo_layer_from_shp</td>\n",
       "      <td>POINT (533579.123 4388848.757)</td>\n",
       "      <td>&lt;scipy.stats._distn_infrastructure.rv_frozen o...</td>\n",
       "      <td>&lt;scipy.stats._distn_infrastructure.rv_frozen o...</td>\n",
       "    </tr>\n",
       "    <tr>\n",
       "      <th>4</th>\n",
       "      <td>demo_layer_from_shp_1</td>\n",
       "      <td>demo_layer_from_shp</td>\n",
       "      <td>POINT (533638.844 4388883.594)</td>\n",
       "      <td>&lt;scipy.stats._distn_infrastructure.rv_frozen o...</td>\n",
       "      <td>&lt;scipy.stats._distn_infrastructure.rv_frozen o...</td>\n",
       "    </tr>\n",
       "    <tr>\n",
       "      <th>5</th>\n",
       "      <td>demo_layer_from_shp_2</td>\n",
       "      <td>demo_layer_from_shp</td>\n",
       "      <td>POINT (533621.702 4388842.121)</td>\n",
       "      <td>&lt;scipy.stats._distn_infrastructure.rv_frozen o...</td>\n",
       "      <td>&lt;scipy.stats._distn_infrastructure.rv_frozen o...</td>\n",
       "    </tr>\n",
       "    <tr>\n",
       "      <th>6</th>\n",
       "      <td>demo_layer_from_shp_3</td>\n",
       "      <td>demo_layer_from_shp</td>\n",
       "      <td>POINT (533701.882 4388861.475)</td>\n",
       "      <td>&lt;scipy.stats._distn_infrastructure.rv_frozen o...</td>\n",
       "      <td>&lt;scipy.stats._distn_infrastructure.rv_frozen o...</td>\n",
       "    </tr>\n",
       "    <tr>\n",
       "      <th>7</th>\n",
       "      <td>demo_layer_from_shp_4</td>\n",
       "      <td>demo_layer_from_shp</td>\n",
       "      <td>POINT (533669.810 4388763.047)</td>\n",
       "      <td>&lt;scipy.stats._distn_infrastructure.rv_frozen o...</td>\n",
       "      <td>&lt;scipy.stats._distn_infrastructure.rv_frozen o...</td>\n",
       "    </tr>\n",
       "    <tr>\n",
       "      <th>8</th>\n",
       "      <td>demo_layer_from_shp_5</td>\n",
       "      <td>demo_layer_from_shp</td>\n",
       "      <td>POINT (533575.252 4388787.930)</td>\n",
       "      <td>&lt;scipy.stats._distn_infrastructure.rv_frozen o...</td>\n",
       "      <td>&lt;scipy.stats._distn_infrastructure.rv_frozen o...</td>\n",
       "    </tr>\n",
       "    <tr>\n",
       "      <th>9</th>\n",
       "      <td>demo_layer_from_shp_6</td>\n",
       "      <td>demo_layer_from_shp</td>\n",
       "      <td>POINT (533771.556 4388874.194)</td>\n",
       "      <td>&lt;scipy.stats._distn_infrastructure.rv_frozen o...</td>\n",
       "      <td>&lt;scipy.stats._distn_infrastructure.rv_frozen o...</td>\n",
       "    </tr>\n",
       "  </tbody>\n",
       "</table>\n",
       "</div>"
      ],
      "text/plain": [
       "            feature_name           layer_name                           shape  \\\n",
       "0               feature1           demo_layer           POINT (10.000 10.000)   \n",
       "1               feature2           demo_layer           POINT (50.000 50.000)   \n",
       "2               feature3           demo_layer           POINT (90.000 90.000)   \n",
       "3  demo_layer_from_shp_0  demo_layer_from_shp  POINT (533579.123 4388848.757)   \n",
       "4  demo_layer_from_shp_1  demo_layer_from_shp  POINT (533638.844 4388883.594)   \n",
       "5  demo_layer_from_shp_2  demo_layer_from_shp  POINT (533621.702 4388842.121)   \n",
       "6  demo_layer_from_shp_3  demo_layer_from_shp  POINT (533701.882 4388861.475)   \n",
       "7  demo_layer_from_shp_4  demo_layer_from_shp  POINT (533669.810 4388763.047)   \n",
       "8  demo_layer_from_shp_5  demo_layer_from_shp  POINT (533575.252 4388787.930)   \n",
       "9  demo_layer_from_shp_6  demo_layer_from_shp  POINT (533771.556 4388874.194)   \n",
       "\n",
       "                                        time_penalty  \\\n",
       "0  <scipy.stats._distn_infrastructure.rv_frozen o...   \n",
       "1  <scipy.stats._distn_infrastructure.rv_frozen o...   \n",
       "2  <scipy.stats._distn_infrastructure.rv_frozen o...   \n",
       "3  <scipy.stats._distn_infrastructure.rv_frozen o...   \n",
       "4  <scipy.stats._distn_infrastructure.rv_frozen o...   \n",
       "5  <scipy.stats._distn_infrastructure.rv_frozen o...   \n",
       "6  <scipy.stats._distn_infrastructure.rv_frozen o...   \n",
       "7  <scipy.stats._distn_infrastructure.rv_frozen o...   \n",
       "8  <scipy.stats._distn_infrastructure.rv_frozen o...   \n",
       "9  <scipy.stats._distn_infrastructure.rv_frozen o...   \n",
       "\n",
       "                                      ideal_obs_rate  \n",
       "0  <scipy.stats._distn_infrastructure.rv_frozen o...  \n",
       "1  <scipy.stats._distn_infrastructure.rv_frozen o...  \n",
       "2  <scipy.stats._distn_infrastructure.rv_frozen o...  \n",
       "3  <scipy.stats._distn_infrastructure.rv_frozen o...  \n",
       "4  <scipy.stats._distn_infrastructure.rv_frozen o...  \n",
       "5  <scipy.stats._distn_infrastructure.rv_frozen o...  \n",
       "6  <scipy.stats._distn_infrastructure.rv_frozen o...  \n",
       "7  <scipy.stats._distn_infrastructure.rv_frozen o...  \n",
       "8  <scipy.stats._distn_infrastructure.rv_frozen o...  \n",
       "9  <scipy.stats._distn_infrastructure.rv_frozen o...  "
      ]
     },
     "execution_count": 27,
     "metadata": {},
     "output_type": "execute_result"
    }
   ],
   "source": [
    "demo_assemblage.df.head(10)"
   ]
  },
  {
   "cell_type": "code",
   "execution_count": null,
   "metadata": {},
   "outputs": [],
   "source": []
  }
 ],
 "metadata": {
  "kernelspec": {
   "display_name": "Python 3",
   "language": "python",
   "name": "python3"
  },
  "language_info": {
   "codemirror_mode": {
    "name": "ipython",
    "version": 3
   },
   "file_extension": ".py",
   "mimetype": "text/x-python",
   "name": "python",
   "nbconvert_exporter": "python",
   "pygments_lexer": "ipython3",
   "version": "3.7.6"
  }
 },
 "nbformat": 4,
 "nbformat_minor": 4
}