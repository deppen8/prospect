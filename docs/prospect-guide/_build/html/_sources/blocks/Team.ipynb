{
 "cells": [
  {
   "source": [
    "# Team"
   ],
   "cell_type": "markdown",
   "metadata": {}
  },
  {
   "cell_type": "markdown",
   "metadata": {},
   "source": [
    "A `Team` represents the individuals who will conduct the survey. This building block does not require any spatial information, so defining it can be somewhat more straightforward than the other building blocks.\n",
    "\n",
    "Each `Team` object is made up of `Surveyor` objects. A `Surveyor` object is meant to define the characteristics for a single person (or an archetype of a hypothetical group of surveyors)."
   ]
  },
  {
   "cell_type": "markdown",
   "metadata": {
    "slideshow": {
     "slide_type": "slide"
    }
   },
   "source": [
    "Below we will create six surveyors to make up our `Team`, varying the parameters for each. It is best to simply create each person by hand.\n",
    "\n",
    "```{tip}\n",
    "In some cases, it may be more appropriate to use a single archetypal surveyor than to create multiple versions of the same kind of surveyor. For example, in the case where the `Surveyor` parameters are highly uncertain or highly variable, it might be most sensible to begin by creating a single `Surveyor` with wide distributions for the parameters rather than trying to create many surveyors whose parameters differ only slightly.\n",
    "```"
   ]
  },
  {
   "cell_type": "markdown",
   "metadata": {},
   "source": [
    "## Create a `Surveyor`"
   ]
  },
  {
   "cell_type": "markdown",
   "metadata": {},
   "source": [
    "`Surveyor` objects can be created directly."
   ]
  },
  {
   "cell_type": "code",
   "execution_count": 1,
   "metadata": {},
   "outputs": [],
   "source": [
    "import prospect"
   ]
  },
  {
   "cell_type": "markdown",
   "metadata": {},
   "source": [
    "A simple surveyor with the default parameters would look something like this:"
   ]
  },
  {
   "cell_type": "code",
   "execution_count": 2,
   "metadata": {},
   "outputs": [],
   "source": [
    "simple_surveyor = prospect.Surveyor(\n",
    "    name=\"default_surveyor\", \n",
    "    team_name=\"demo_team\", \n",
    "    surveyor_type=\"default\",\n",
    "    skill=1.0,\n",
    "    speed_penalty=0.0\n",
    ")"
   ]
  },
  {
   "cell_type": "code",
   "execution_count": 3,
   "metadata": {},
   "outputs": [
    {
     "data": {
      "text/plain": [
       "{'_sa_instance_state': <sqlalchemy.orm.state.InstanceState at 0x12217a150>,\n",
       " 'name': 'default_surveyor',\n",
       " 'team_name': 'demo_team',\n",
       " 'surveyor_type': 'default',\n",
       " 'skill': 1.0,\n",
       " 'speed_penalty': 0.0}"
      ]
     },
     "execution_count": 3,
     "metadata": {},
     "output_type": "execute_result"
    }
   ],
   "source": [
    "simple_surveyor.__dict__"
   ]
  },
  {
   "cell_type": "markdown",
   "metadata": {},
   "source": [
    "## The `surveyor_type` parameter"
   ]
  },
  {
   "cell_type": "markdown",
   "metadata": {},
   "source": [
    "The `surveyor_type` parameter is merely a convenience included to facilitate grouping surveyors together in the analysis phase. It does not impact anything during the execution of the survey. You could group individuals with whatever schema you decide. \n",
    "\n",
    "Below, we use expertise to group individuals so that in the analysis, for example, you could compare results from Experts vs. Novices. Other projects might find it more useful to group people according to Team A vs. Team B vs. Team C. Because it is a `str` parameter, anything goes, really."
   ]
  },
  {
   "cell_type": "markdown",
   "metadata": {},
   "source": [
    "## The `skill` parameter"
   ]
  },
  {
   "cell_type": "markdown",
   "metadata": {},
   "source": [
    "A surveyor's `skill` represents how well they are able to identify `Feature` objects that they encounter. In other words, what is the likelihood that they would recognize and record a `Feature` if all the other discovery parameters were 1.0: the `Feature` (e.g., an artifact) is within their `SurveyUnit`, visibility is perfect, and the `Feature` has an ideal observation rate (`ideal_obs_rate`) of 1.0?\n",
    "\n",
    "While it might be hard to \"guestimate\", this parameter could be derived from some controlled experiments with a bit more ease than some other of the discovery parameters. For example, if a surveyor is given twenty objects of which ten are artifacts, how many of the ten are correctly identified as artifacts? (In this case, the researcher may or may not want to count false positives negative results.)\n",
    "\n",
    "```{tip}\n",
    "`skill` is another good candidate for the beta distribution (like the `ideal_obs_rate`) where the distribution is defined by the successes ($\\alpha$) and failures ($\\beta$).\n",
    "```\n",
    "\n",
    "Let's define three novice surveyors who each have completed the hypothetical exercise above where they were asked to identify which 10 of 20 objects were artifacts. Their `skill` level is defined by how many of the 10 objects they picked were actually artifacts ($\\alpha$) and how many were not ($\\beta$)."
   ]
  },
  {
   "cell_type": "code",
   "execution_count": 4,
   "metadata": {
    "slideshow": {
     "slide_type": "fragment"
    }
   },
   "outputs": [],
   "source": [
    "novice1 = prospect.Surveyor(\n",
    "    name='novice1', \n",
    "    team_name='demo_team', \n",
    "    surveyor_type='novice_person', \n",
    "    skill=prospect.utils.beta(5, 5), \n",
    "    speed_penalty=0.2\n",
    ")\n",
    "novice2 = prospect.Surveyor(\n",
    "    name='novice2', \n",
    "    team_name='demo_team', \n",
    "    surveyor_type='novice_person', \n",
    "    skill=prospect.utils.beta(6, 4), \n",
    "    speed_penalty=0.2\n",
    ")\n",
    "novice3 = prospect.Surveyor(\n",
    "    name='novice3', \n",
    "    team_name='demo_team', \n",
    "    surveyor_type='novice_person', \n",
    "    skill=prospect.utils.beta(7, 3),\n",
    "    speed_penalty=0.2\n",
    ")"
   ]
  },
  {
   "cell_type": "markdown",
   "metadata": {},
   "source": [
    "## The `speed_penalty` parameter"
   ]
  },
  {
   "cell_type": "markdown",
   "metadata": {},
   "source": [
    "`speed_penalty` is a factor that adds time to the survey based on an individual's survey style. Recall that total search time for any given `SurveyUnit` is calculated in the following way:\n",
    "\n",
    "$$\\text{base penalty} = \\text{base search time} + \\sum \\text{artifact time penalties}$$\n",
    "\n",
    "$$\\text{surveyor penalty} = \\text{base penalty} \\times \\text{surveyor speed penalty factor}$$\n",
    "\n",
    "$$\\text{search time} = \\text{base penalty} + \\text{surveyor penalty}$$\n",
    "\n",
    "Therefore, one can think of `speed_penalty` as adding some factor to both the base search time (derived from `min_time_per_unit`) and the sum of all the artifact `time_penalty` values. Let's consider a hypothetical example.\n",
    "\n",
    "Given a radial survey unit where the `min_time_per_unit` is 120 seconds, the sum of all artifact `time_penalty` values is 300 seconds and the surveyor's `speed_penalty` is 0.5, then the time calculation would look as follows:\n",
    "\n",
    "$$\\text{base penalty} = 120 + 300 = 420$$\n",
    "\n",
    "$$\\text{surveyor penalty} = 420 \\times 0.5 = 210$$\n",
    "\n",
    "$$\\text{search time} = 420 + 210 = 630$$\n",
    "\n",
    "```{admonition} Assumptions\n",
    ":class: caution\n",
    "An assumption here is that whatever causes the `speed_penalty` will be in effect during general survey time (the `min_time_per_unit` portion) as well as during artifact identification/recording (the artifact `time_penalty` portion). This assumption may not hold well in all cases. For example, if a surveyor is very quick to survey their unit but very slow to record artifacts, then this factor might need to be a compromise between the two deviations.\n",
    "```\n",
    "\n",
    "```{tip}\n",
    "A truncated normal distribution (truncated at 0.0 or above) is a good choice to model this parameter, but any distribution that is bounded by 0.0 would be suitable. This parameter can theoretically take on any value, but practically speaking, it is probably best to stick to positive values. A negative value would have the effect of reducing the base search time, but when determining the `min_time_per_unit` parameter, it is recommended that you assume a surveyor would have `speed_penalty` of 0.0. For this reason, negative values are strongly discouraged.\n",
    "```\n",
    "\n",
    "Let's add an expert and two mid-level surveyors to our demo team."
   ]
  },
  {
   "cell_type": "code",
   "execution_count": 5,
   "metadata": {
    "slideshow": {
     "slide_type": "fragment"
    }
   },
   "outputs": [],
   "source": [
    "expert = prospect.Surveyor(\n",
    "    name='expert', \n",
    "    team_name='demo_team', \n",
    "    surveyor_type='expert_person', \n",
    "    skill=1.0, \n",
    "    speed_penalty=0.0\n",
    ")\n",
    "mid1 = prospect.Surveyor(\n",
    "    name='mid1', \n",
    "    team_name='demo_team', \n",
    "    surveyor_type='mid_level_person', \n",
    "    skill=0.75, \n",
    "    speed_penalty=prospect.utils.truncnorm(mean=0.1, sd=1, lower=0, upper=200)\n",
    ")\n",
    "mid2 = prospect.Surveyor(\n",
    "    name='mid2',\n",
    "    team_name='demo_team', \n",
    "    surveyor_type='mid_level_person', \n",
    "    skill=0.75, \n",
    "    speed_penalty=prospect.utils.truncnorm(mean=0.1, sd=1, lower=0, upper=200)\n",
    ")"
   ]
  },
  {
   "cell_type": "markdown",
   "metadata": {
    "slideshow": {
     "slide_type": "slide"
    }
   },
   "source": [
    "## Create `Team` from `Surveyor` objects\n",
    "\n",
    "Above we created six `Surveyor` objects: three novices, an expert, and two mid-level surveyors. To create a `Team`, we can pass those `Surveyor` objects in as a list."
   ]
  },
  {
   "cell_type": "markdown",
   "metadata": {},
   "source": [
    "```{note}\n",
    "The `assignment` parameter is meant to determine how individuals in the team are assigned to survey units during the survey. Currently, only `\"naive\"` assignment is supported. In this mode, the people in the team are cycled through and assigned to the next `SurveyUnit` until all `SurveyUnit` objects have a `Surveyor` attached. In the future, I hope to support some ways to optimize and randomize this assignment.\n",
    "```"
   ]
  },
  {
   "cell_type": "code",
   "execution_count": 6,
   "metadata": {
    "slideshow": {
     "slide_type": "fragment"
    }
   },
   "outputs": [],
   "source": [
    "team_list = [novice1, novice2, novice3, expert, mid1, mid2]\n",
    "demo_team = prospect.Team(\n",
    "    name='demo_team', \n",
    "    surveyor_list=team_list,\n",
    "    assignment='naive'\n",
    ")"
   ]
  },
  {
   "cell_type": "markdown",
   "metadata": {},
   "source": [
    "Let's inspect the team we just created."
   ]
  },
  {
   "cell_type": "code",
   "execution_count": 7,
   "metadata": {
    "slideshow": {
     "slide_type": "fragment"
    }
   },
   "outputs": [
    {
     "data": {
      "text/html": [
       "<div>\n",
       "<style scoped>\n",
       "    .dataframe tbody tr th:only-of-type {\n",
       "        vertical-align: middle;\n",
       "    }\n",
       "\n",
       "    .dataframe tbody tr th {\n",
       "        vertical-align: top;\n",
       "    }\n",
       "\n",
       "    .dataframe thead th {\n",
       "        text-align: right;\n",
       "    }\n",
       "</style>\n",
       "<table border=\"1\" class=\"dataframe\">\n",
       "  <thead>\n",
       "    <tr style=\"text-align: right;\">\n",
       "      <th></th>\n",
       "      <th>surveyor_name</th>\n",
       "      <th>team_name</th>\n",
       "      <th>surveyor_type</th>\n",
       "      <th>skill</th>\n",
       "      <th>speed_penalty</th>\n",
       "    </tr>\n",
       "  </thead>\n",
       "  <tbody>\n",
       "    <tr>\n",
       "      <th>0</th>\n",
       "      <td>novice1</td>\n",
       "      <td>demo_team</td>\n",
       "      <td>novice_person</td>\n",
       "      <td>&lt;scipy.stats._distn_infrastructure.rv_frozen o...</td>\n",
       "      <td>0.2</td>\n",
       "    </tr>\n",
       "    <tr>\n",
       "      <th>1</th>\n",
       "      <td>novice2</td>\n",
       "      <td>demo_team</td>\n",
       "      <td>novice_person</td>\n",
       "      <td>&lt;scipy.stats._distn_infrastructure.rv_frozen o...</td>\n",
       "      <td>0.2</td>\n",
       "    </tr>\n",
       "    <tr>\n",
       "      <th>2</th>\n",
       "      <td>novice3</td>\n",
       "      <td>demo_team</td>\n",
       "      <td>novice_person</td>\n",
       "      <td>&lt;scipy.stats._distn_infrastructure.rv_frozen o...</td>\n",
       "      <td>0.2</td>\n",
       "    </tr>\n",
       "    <tr>\n",
       "      <th>3</th>\n",
       "      <td>expert</td>\n",
       "      <td>demo_team</td>\n",
       "      <td>expert_person</td>\n",
       "      <td>1</td>\n",
       "      <td>0</td>\n",
       "    </tr>\n",
       "    <tr>\n",
       "      <th>4</th>\n",
       "      <td>mid1</td>\n",
       "      <td>demo_team</td>\n",
       "      <td>mid_level_person</td>\n",
       "      <td>0.75</td>\n",
       "      <td>&lt;scipy.stats._distn_infrastructure.rv_frozen o...</td>\n",
       "    </tr>\n",
       "    <tr>\n",
       "      <th>5</th>\n",
       "      <td>mid2</td>\n",
       "      <td>demo_team</td>\n",
       "      <td>mid_level_person</td>\n",
       "      <td>0.75</td>\n",
       "      <td>&lt;scipy.stats._distn_infrastructure.rv_frozen o...</td>\n",
       "    </tr>\n",
       "  </tbody>\n",
       "</table>\n",
       "</div>"
      ],
      "text/plain": [
       "  surveyor_name  team_name     surveyor_type  \\\n",
       "0       novice1  demo_team     novice_person   \n",
       "1       novice2  demo_team     novice_person   \n",
       "2       novice3  demo_team     novice_person   \n",
       "3        expert  demo_team     expert_person   \n",
       "4          mid1  demo_team  mid_level_person   \n",
       "5          mid2  demo_team  mid_level_person   \n",
       "\n",
       "                                               skill  \\\n",
       "0  <scipy.stats._distn_infrastructure.rv_frozen o...   \n",
       "1  <scipy.stats._distn_infrastructure.rv_frozen o...   \n",
       "2  <scipy.stats._distn_infrastructure.rv_frozen o...   \n",
       "3                                                  1   \n",
       "4                                               0.75   \n",
       "5                                               0.75   \n",
       "\n",
       "                                       speed_penalty  \n",
       "0                                                0.2  \n",
       "1                                                0.2  \n",
       "2                                                0.2  \n",
       "3                                                  0  \n",
       "4  <scipy.stats._distn_infrastructure.rv_frozen o...  \n",
       "5  <scipy.stats._distn_infrastructure.rv_frozen o...  "
      ]
     },
     "execution_count": 7,
     "metadata": {},
     "output_type": "execute_result"
    }
   ],
   "source": [
    "demo_team.df"
   ]
  },
  {
   "cell_type": "markdown",
   "metadata": {},
   "source": [
    "## Adding and removing `Surveyor` objects later"
   ]
  },
  {
   "cell_type": "markdown",
   "metadata": {},
   "source": [
    "After we create the `Team` object, if we decide we'd like to add another surveyor, we can use the `add_surveyors()` method of the `Team`. Likewise, if we would like to remove someone from the `Team`, we can use the `drop_surveyors()` method.\n",
    "\n",
    "Let's add the first `simple_surveyor` we created at the top of this page."
   ]
  },
  {
   "cell_type": "code",
   "execution_count": 8,
   "metadata": {},
   "outputs": [],
   "source": [
    "demo_team.add_surveyors([simple_surveyor])"
   ]
  },
  {
   "cell_type": "markdown",
   "metadata": {},
   "source": [
    "Now let's inspect the `Team` again."
   ]
  },
  {
   "cell_type": "code",
   "execution_count": 9,
   "metadata": {},
   "outputs": [
    {
     "data": {
      "text/html": [
       "<div>\n",
       "<style scoped>\n",
       "    .dataframe tbody tr th:only-of-type {\n",
       "        vertical-align: middle;\n",
       "    }\n",
       "\n",
       "    .dataframe tbody tr th {\n",
       "        vertical-align: top;\n",
       "    }\n",
       "\n",
       "    .dataframe thead th {\n",
       "        text-align: right;\n",
       "    }\n",
       "</style>\n",
       "<table border=\"1\" class=\"dataframe\">\n",
       "  <thead>\n",
       "    <tr style=\"text-align: right;\">\n",
       "      <th></th>\n",
       "      <th>surveyor_name</th>\n",
       "      <th>team_name</th>\n",
       "      <th>surveyor_type</th>\n",
       "      <th>skill</th>\n",
       "      <th>speed_penalty</th>\n",
       "    </tr>\n",
       "  </thead>\n",
       "  <tbody>\n",
       "    <tr>\n",
       "      <th>0</th>\n",
       "      <td>novice1</td>\n",
       "      <td>demo_team</td>\n",
       "      <td>novice_person</td>\n",
       "      <td>&lt;scipy.stats._distn_infrastructure.rv_frozen o...</td>\n",
       "      <td>0.2</td>\n",
       "    </tr>\n",
       "    <tr>\n",
       "      <th>1</th>\n",
       "      <td>novice2</td>\n",
       "      <td>demo_team</td>\n",
       "      <td>novice_person</td>\n",
       "      <td>&lt;scipy.stats._distn_infrastructure.rv_frozen o...</td>\n",
       "      <td>0.2</td>\n",
       "    </tr>\n",
       "    <tr>\n",
       "      <th>2</th>\n",
       "      <td>novice3</td>\n",
       "      <td>demo_team</td>\n",
       "      <td>novice_person</td>\n",
       "      <td>&lt;scipy.stats._distn_infrastructure.rv_frozen o...</td>\n",
       "      <td>0.2</td>\n",
       "    </tr>\n",
       "    <tr>\n",
       "      <th>3</th>\n",
       "      <td>expert</td>\n",
       "      <td>demo_team</td>\n",
       "      <td>expert_person</td>\n",
       "      <td>1</td>\n",
       "      <td>0</td>\n",
       "    </tr>\n",
       "    <tr>\n",
       "      <th>4</th>\n",
       "      <td>mid1</td>\n",
       "      <td>demo_team</td>\n",
       "      <td>mid_level_person</td>\n",
       "      <td>0.75</td>\n",
       "      <td>&lt;scipy.stats._distn_infrastructure.rv_frozen o...</td>\n",
       "    </tr>\n",
       "    <tr>\n",
       "      <th>5</th>\n",
       "      <td>mid2</td>\n",
       "      <td>demo_team</td>\n",
       "      <td>mid_level_person</td>\n",
       "      <td>0.75</td>\n",
       "      <td>&lt;scipy.stats._distn_infrastructure.rv_frozen o...</td>\n",
       "    </tr>\n",
       "    <tr>\n",
       "      <th>6</th>\n",
       "      <td>default_surveyor</td>\n",
       "      <td>demo_team</td>\n",
       "      <td>default</td>\n",
       "      <td>1</td>\n",
       "      <td>0</td>\n",
       "    </tr>\n",
       "  </tbody>\n",
       "</table>\n",
       "</div>"
      ],
      "text/plain": [
       "      surveyor_name  team_name     surveyor_type  \\\n",
       "0           novice1  demo_team     novice_person   \n",
       "1           novice2  demo_team     novice_person   \n",
       "2           novice3  demo_team     novice_person   \n",
       "3            expert  demo_team     expert_person   \n",
       "4              mid1  demo_team  mid_level_person   \n",
       "5              mid2  demo_team  mid_level_person   \n",
       "6  default_surveyor  demo_team           default   \n",
       "\n",
       "                                               skill  \\\n",
       "0  <scipy.stats._distn_infrastructure.rv_frozen o...   \n",
       "1  <scipy.stats._distn_infrastructure.rv_frozen o...   \n",
       "2  <scipy.stats._distn_infrastructure.rv_frozen o...   \n",
       "3                                                  1   \n",
       "4                                               0.75   \n",
       "5                                               0.75   \n",
       "6                                                  1   \n",
       "\n",
       "                                       speed_penalty  \n",
       "0                                                0.2  \n",
       "1                                                0.2  \n",
       "2                                                0.2  \n",
       "3                                                  0  \n",
       "4  <scipy.stats._distn_infrastructure.rv_frozen o...  \n",
       "5  <scipy.stats._distn_infrastructure.rv_frozen o...  \n",
       "6                                                  0  "
      ]
     },
     "execution_count": 9,
     "metadata": {},
     "output_type": "execute_result"
    }
   ],
   "source": [
    "demo_team.df"
   ]
  },
  {
   "cell_type": "markdown",
   "metadata": {},
   "source": [
    "Now imagine we wanted only a single novice user. We can remove `novice2` and `novice3` by passing in their `Surveyor.name` attribute as a `str`."
   ]
  },
  {
   "cell_type": "code",
   "execution_count": 10,
   "metadata": {},
   "outputs": [],
   "source": [
    "demo_team.drop_surveyors([\"novice2\", \"novice3\"])"
   ]
  },
  {
   "cell_type": "code",
   "execution_count": 12,
   "metadata": {},
   "outputs": [
    {
     "data": {
      "text/html": [
       "<div>\n",
       "<style scoped>\n",
       "    .dataframe tbody tr th:only-of-type {\n",
       "        vertical-align: middle;\n",
       "    }\n",
       "\n",
       "    .dataframe tbody tr th {\n",
       "        vertical-align: top;\n",
       "    }\n",
       "\n",
       "    .dataframe thead th {\n",
       "        text-align: right;\n",
       "    }\n",
       "</style>\n",
       "<table border=\"1\" class=\"dataframe\">\n",
       "  <thead>\n",
       "    <tr style=\"text-align: right;\">\n",
       "      <th></th>\n",
       "      <th>surveyor_name</th>\n",
       "      <th>team_name</th>\n",
       "      <th>surveyor_type</th>\n",
       "      <th>skill</th>\n",
       "      <th>speed_penalty</th>\n",
       "    </tr>\n",
       "  </thead>\n",
       "  <tbody>\n",
       "    <tr>\n",
       "      <th>0</th>\n",
       "      <td>novice1</td>\n",
       "      <td>demo_team</td>\n",
       "      <td>novice_person</td>\n",
       "      <td>&lt;scipy.stats._distn_infrastructure.rv_frozen o...</td>\n",
       "      <td>0.2</td>\n",
       "    </tr>\n",
       "    <tr>\n",
       "      <th>3</th>\n",
       "      <td>expert</td>\n",
       "      <td>demo_team</td>\n",
       "      <td>expert_person</td>\n",
       "      <td>1</td>\n",
       "      <td>0</td>\n",
       "    </tr>\n",
       "    <tr>\n",
       "      <th>4</th>\n",
       "      <td>mid1</td>\n",
       "      <td>demo_team</td>\n",
       "      <td>mid_level_person</td>\n",
       "      <td>0.75</td>\n",
       "      <td>&lt;scipy.stats._distn_infrastructure.rv_frozen o...</td>\n",
       "    </tr>\n",
       "    <tr>\n",
       "      <th>5</th>\n",
       "      <td>mid2</td>\n",
       "      <td>demo_team</td>\n",
       "      <td>mid_level_person</td>\n",
       "      <td>0.75</td>\n",
       "      <td>&lt;scipy.stats._distn_infrastructure.rv_frozen o...</td>\n",
       "    </tr>\n",
       "    <tr>\n",
       "      <th>6</th>\n",
       "      <td>default_surveyor</td>\n",
       "      <td>demo_team</td>\n",
       "      <td>default</td>\n",
       "      <td>1</td>\n",
       "      <td>0</td>\n",
       "    </tr>\n",
       "  </tbody>\n",
       "</table>\n",
       "</div>"
      ],
      "text/plain": [
       "      surveyor_name  team_name     surveyor_type  \\\n",
       "0           novice1  demo_team     novice_person   \n",
       "3            expert  demo_team     expert_person   \n",
       "4              mid1  demo_team  mid_level_person   \n",
       "5              mid2  demo_team  mid_level_person   \n",
       "6  default_surveyor  demo_team           default   \n",
       "\n",
       "                                               skill  \\\n",
       "0  <scipy.stats._distn_infrastructure.rv_frozen o...   \n",
       "3                                                  1   \n",
       "4                                               0.75   \n",
       "5                                               0.75   \n",
       "6                                                  1   \n",
       "\n",
       "                                       speed_penalty  \n",
       "0                                                0.2  \n",
       "3                                                  0  \n",
       "4  <scipy.stats._distn_infrastructure.rv_frozen o...  \n",
       "5  <scipy.stats._distn_infrastructure.rv_frozen o...  \n",
       "6                                                  0  "
      ]
     },
     "execution_count": 12,
     "metadata": {},
     "output_type": "execute_result"
    }
   ],
   "source": [
    "demo_team.df"
   ]
  },
  {
   "cell_type": "markdown",
   "metadata": {},
   "source": [
    "We can indeed see that the two novices were removed from the `Team`."
   ]
  }
 ],
 "metadata": {
  "kernelspec": {
   "display_name": "Python 3",
   "language": "python",
   "name": "python3"
  },
  "language_info": {
   "codemirror_mode": {
    "name": "ipython",
    "version": 3
   },
   "file_extension": ".py",
   "mimetype": "text/x-python",
   "name": "python",
   "nbconvert_exporter": "python",
   "pygments_lexer": "ipython3",
   "version": "3.7.6"
  }
 },
 "nbformat": 4,
 "nbformat_minor": 4
}